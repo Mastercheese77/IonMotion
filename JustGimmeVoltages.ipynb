{
 "cells": [
  {
   "cell_type": "code",
   "execution_count": 1,
   "metadata": {},
   "outputs": [],
   "source": [
    "import VoltageGeneration"
   ]
  },
  {
   "cell_type": "code",
   "execution_count": 2,
   "metadata": {},
   "outputs": [],
   "source": [
    "import os\n",
    "import os.path\n",
    "import time"
   ]
  },
  {
   "cell_type": "code",
   "execution_count": 3,
   "metadata": {},
   "outputs": [
    {
     "name": "stdout",
     "output_type": "stream",
     "text": [
      "The autoreload extension is already loaded. To reload it, use:\n",
      "  %reload_ext autoreload\n"
     ]
    }
   ],
   "source": [
    "%reload_ext autoreload\n",
    "%matplotlib tk\n",
    "import numpy as np\n",
    "import numpy.linalg as la\n",
    "import matplotlib.pyplot as plt\n",
    "import scipy as sp\n",
    "import scipy.optimize as sciopt\n",
    "import pandas as pd\n",
    "\n",
    "colors = [\"#1CE6FF\", \"#FF34FF\", \"#FF4A46\", \"#008941\", \"#006FA6\", \"#A30059\", \\\n",
    "          \"#FFDBE5\", \"#7A4900\", \"#0000A6\", \"#63FFAC\", \"#B79762\", \"#004D43\", \\\n",
    "          \"#8FB0FF\", \"#997D87\", \"#5A0007\", \"#809693\", \"#FFAA92\", \"#1B4400\", \\\n",
    "          \"#4FC601\", \"#3B5DFF\", \"#4A3B53\", \"#FF2F80\", \"#61615A\", \"#BA0900\", \\\n",
    "          \"#6B7900\", \"#00C2A0\", \"#FFAA92\", \"#FF90C9\", \"#B903AA\", \"#D16100\", \\\n",
    "          \"#DDEFFF\", \"#000035\", \"#7B4F4B\", \"#A1C299\", \"#300018\", \"#0AA6D8\", \\\n",
    "          \"#013349\", \"#00846F\", \"#372101\", \"#FFB500\", \"#C2FFED\", \"#A079BF\", \\\n",
    "          \"#CC0744\", \"#C0B9B2\", \"#C2FF99\", \"#001E09\", \"#00489C\", \"#6F0062\"]\n",
    "\n",
    "%load_ext autoreload\n",
    "%autoreload 2"
   ]
  },
  {
   "cell_type": "code",
   "execution_count": 4,
   "metadata": {},
   "outputs": [],
   "source": [
    "amu = 1.66e-27\n",
    "elem_charge = 1.602e-19\n",
    "m = 40 * amu\n",
    "\n",
    "kHz = 1e3\n",
    "MHz = 1e6"
   ]
  },
  {
   "cell_type": "code",
   "execution_count": 5,
   "metadata": {
    "code_folding": [
     0
    ]
   },
   "outputs": [],
   "source": [
    "# Ordering for the SLT configuration\n",
    "_electrode_ordering = [\n",
    "    \"S6\", \"S7\", \"S8\", \"S9\", \"S10\", \"S11\", \"S12\", \"S13\", \"S14\",\n",
    "    \"S24\", \"S25\",\n",
    "    \"N6\", \"N7\", \"N8\", \"N9\", \"N10\", \"N11\", \"N12\", \"N13\", \"N14\",\n",
    "]\n",
    "# converts grid file number to electrode\n",
    "\n",
    "def num_to_electrode_name(num):\n",
    "    return _electrode_ordering[num-1]\n",
    "\n",
    "artiq_electrode_ordering = [12, 13, 14, 15, 16, 17, 18, 19, 20, 1, 2, 3, 4, 5, 6, 7, 8, 9, 10, 11]"
   ]
  },
  {
   "cell_type": "code",
   "execution_count": 5,
   "metadata": {},
   "outputs": [],
   "source": [
    "# Ordering for the maxbeta configuration\n",
    "_electrode_ordering = [\n",
    "    \"S1\", \"S2\", \"S3\", \"S4\", \"S8\", \"S9\", \"S10\", \"S11\", \"S12\",\n",
    "    \"S13\", \"S14\", \"S19\", \"S20\", \"S21\",\n",
    "    \"S22\", \"S23\", \"S24\", \"S25\",\n",
    "    \"N1\", \"N2\", \"N3\", \"N4\", \"N8\", \"N9\", \"N10\", \"N11\", \"N12\",\n",
    "    \"N13\", \"N14\", \"N19\", \"N20\", \"N21\",\n",
    "]\n",
    "# converts grid file number to electrode\n",
    "\n",
    "def num_to_electrode_name(num):\n",
    "    grid_num = artiq_electrode_ordering.index(num)\n",
    "    return _electrode_ordering[grid_num]\n",
    "\n",
    "artiq_electrode_ordering = [27, 25, 23, 21, 19, 17, 15, 13, 11,\n",
    "                            9, 7, 5, 3, 1,\n",
    "                            32, 31, 30, 29,\n",
    "                            2, 4, 6, 8, 10, 12, 14, 16, 18,\n",
    "                            20, 22, 24, 26, 28] ## maps electrode name : grid file number"
   ]
  },
  {
   "cell_type": "code",
   "execution_count": 6,
   "metadata": {
    "scrolled": true
   },
   "outputs": [
    {
     "name": "stdout",
     "output_type": "stream",
     "text": [
      "Importing electrode 18\n",
      "Importing electrode 19\n",
      "Importing electrode 21\n",
      "Importing electrode 20\n",
      "Importing electrode 1\n",
      "Importing electrode 2\n",
      "Importing electrode 3\n",
      "Importing electrode 7\n",
      "Importing electrode 6\n",
      "Importing electrode 4\n",
      "Importing electrode 5\n",
      "Importing electrode 8\n",
      "Importing electrode 9\n",
      "Importing electrode 12\n",
      "Importing electrode 13\n",
      "Importing electrode 11\n",
      "Importing electrode 10\n",
      "Importing electrode 14\n",
      "Importing electrode 15\n",
      "Importing electrode 17\n",
      "Importing electrode 16\n",
      "Potentials imported\n",
      "Imported grid files in 30.157999992370605\n"
     ]
    }
   ],
   "source": [
    "#COMSOL grid files\n",
    "path = '/Users/lukeqi/Desktop/School/MIT/UROP/SuperUROP/GridFiles'\n",
    "name = \"MaxBeta_Production_Potential\"\n",
    "name = \"AngleTrap_Skinny_Potential_reduced\"\n",
    "\n",
    "electrode_grouping = [[x] for x in artiq_electrode_ordering]\n",
    "d_cons = [('x',0), ('y',0), ('z',0)]\n",
    "\n",
    "start_time = time.time()\n",
    "\n",
    "vg_comsol = VoltageGeneration.VoltageGeneration(\n",
    "    path,\n",
    "    name,\n",
    "    electrode_grouping,\n",
    "    fit_ranges=[5e-6, 10e-6, 5e-6],\n",
    "    rf_electrodes=[21], ## 33 for MaxBeta\n",
    "    m=m,\n",
    "    rf_omega=2.*np.pi*45.247E6,\n",
    "    order=2,\n",
    "    f_cons=d_cons,\n",
    "    v_rf=[50]\n",
    ")\n",
    "\n",
    "print(\"Imported grid files in {}\".format(time.time() - start_time))"
   ]
  },
  {
   "cell_type": "code",
   "execution_count": 7,
   "metadata": {},
   "outputs": [],
   "source": [
    "def rotate_coeffs(theta, xx, xz, zz):\n",
    "    \"\"\"\n",
    "    Find the coefficients $C'_{xx}, C'_{xz}, C'_{zz}$ of the potential\n",
    "    after a rotation in the zx-plane by `theta` given the unprimed values,\n",
    "    as described above.\n",
    "    \n",
    "    `theta` specified in radians.\n",
    "    \"\"\"\n",
    "    sin = np.sin\n",
    "    cos = np.cos\n",
    "    \n",
    "    xxnew = xx*cos(theta)**2 + zz*sin(theta)**2 + 0.5*xz*sin(2*theta)\n",
    "    xznew = xz*cos(2*theta)  + (zz-xx)*sin(2*theta)\n",
    "    zznew = zz*cos(theta)**2 + xx*sin(theta)**2 - 0.5*xz*sin(2*theta)\n",
    "    \n",
    "    return [xxnew, xznew, zznew]"
   ]
  },
  {
   "cell_type": "code",
   "execution_count": 8,
   "metadata": {},
   "outputs": [],
   "source": [
    "def dcTiltAngle(vg, R, theta_targ, yy, rfEls, delta=3, debug=False):\n",
    "    # expansion coefficients of the pseudopotential near the trapping point `R`\n",
    "    # THIS FUNCTION ASSUMES ONE RF ELECTRODE!\n",
    "    rf_coeffs = vg.printCoefficients(R, rfEls, ('zz', 'xx', 'xz', 'yy', 'xy', 'yz'), printing=False)[0]\n",
    "    [rfzz, rfxx, rfxz, rfyy, rfxy, rfyz] = rf_coeffs[:,0]\n",
    "    \n",
    "    def tiltError(theta_tilt, debug=False):\n",
    "        \"\"\"\n",
    "        Error in the tilt angle of the full potential, as a function of the dc tilt.\n",
    "        \"\"\"\n",
    "        \n",
    "        zz = delta*yy\n",
    "        xx = -(1+delta)*yy # delta ensures Laplace (div phi = 0) is satisfied, but adjusts the principal axes of the xz ellipse\n",
    "        xz = 0\n",
    "        \n",
    "        # rotate!\n",
    "        [xxnew, xznew, zznew] = rotate_coeffs(theta_tilt, xx, xz, zz)\n",
    "\n",
    "        if debug:\n",
    "            print (np.degrees(theta_tilt))\n",
    "            print (np.degrees(np.arctan((xznew+rfxz)/((rfzz+zznew) - (rfxx+xxnew))))/2)\n",
    "        \n",
    "        return (\n",
    "            np.tan(2*theta_targ) - (xznew+rfxz)/((rfzz+zznew) - (rfxx+xxnew))\n",
    "        )**2\n",
    "    \n",
    "    if debug:\n",
    "        print (np.degrees(theta_targ))\n",
    "\n",
    "        fig, ax = plt.subplots()\n",
    "        angle_space = np.linspace(0, np.pi/2, 91)\n",
    "        errors = [tiltError(theta) for theta in angle_space]\n",
    "        ax.plot(np.degrees(angle_space), errors)\n",
    "        ax.set_ylim(0,1)\n",
    "    \n",
    "    return sciopt.minimize_scalar(tiltError).x\n",
    "\n",
    "def tiltWithPseudo(vg, R, theta_targ, yy, rfEls, delta=3, debug=False):\n",
    "    th = dcTiltAngle(vg, R, theta_targ, yy, rfEls, delta=delta, debug=debug)\n",
    "    \n",
    "    if debug:\n",
    "        print (\"Tilting dc to {:.2f} deg\".format(np.degrees(th)))\n",
    "    \n",
    "    zz = delta*yy\n",
    "    xx = -(1+delta)*yy\n",
    "    xz = 0\n",
    "    return rotate_coeffs(th, xx, xz, zz)"
   ]
  },
  {
   "cell_type": "markdown",
   "metadata": {},
   "source": [
    "**Getting Trapping Voltages**"
   ]
  },
  {
   "cell_type": "code",
   "execution_count": 14,
   "metadata": {
    "code_folding": [],
    "scrolled": true
   },
   "outputs": [
    {
     "name": "stdout",
     "output_type": "stream",
     "text": [
      "9.020153056006835e-06\n",
      "target alpha = 9.02E+06\n",
      "Optimization failed after 2001 iterations.\n",
      "Target, Realized Coeffs:\n",
      " [[ 0.00000000e+00 -8.99835346e-07]\n",
      " [ 0.00000000e+00 -9.53582622e-07]\n",
      " [ 0.00000000e+00 -4.95515263e-07]\n",
      " [-3.25070557e-05 -3.27090822e-05]\n",
      " [ 0.00000000e+00  1.01988153e-07]\n",
      " [ 2.91799850e-05  2.91455382e-05]\n",
      " [ 9.02015306e-06  9.35143507e-06]\n",
      " [ 0.00000000e+00 -1.82910499e-08]\n",
      " [ 2.34869026e-05  2.33481914e-05]]\n",
      "Final cost value:  1.2755106404642187e-05\n",
      "Number of iterations:  2001 \n",
      "\n",
      "[[[12], 1.8997819344122333], [[13], 1.0777112523619026], [[14], 2.091697810949457], [[15], 0.8138836143258498], [[16], -7.386575974773923], [[17], 0.8696320114163281], [[18], 2.1077928755434563], [[19], 1.079724075950516], [[20], 1.7576595766740104], [[1], 1.9744426737566854], [[2], 1.151782589716637], [[3], 2.27834023965346], [[4], 1.369268889055969], [[5], -6.41039584337887], [[6], 1.4155193684645158], [[7], 2.289030883402544], [[8], 1.149851149941443], [[9], 1.8262381157958465], [[10], -0.21324968108903014], [[11], 0.4210816168618554]]\n",
      "coeffs with the RF: [-8.43348827e-07 -9.32983673e-07 -8.02560035e-05  2.55153948e-04\n",
      "  1.01561205e-07  2.91407340e-05  9.35571350e-06  3.01619957e-08\n",
      "  3.05750159e-04  9.91297123e-03]\n"
     ]
    }
   ],
   "source": [
    "####\n",
    "voltage_gen = vg_comsol\n",
    "\n",
    "sec_freq = 1050*kHz\n",
    "omega = 2 * np.pi * sec_freq\n",
    "\n",
    "trap_center = [0.0, 0, 50.0]\n",
    "R = [trap_center]\n",
    "\n",
    "tilt_angle_deg = 15 #in degrees\n",
    "tilt_angle = np.radians(tilt_angle_deg)\n",
    "\n",
    "yycons = 0.5 * m * omega**2 * (1e-6)**2 / elem_charge\n",
    "print(yycons)\n",
    "[xxt, xzt, zzt] =  tiltWithPseudo(voltage_gen, R, tilt_angle, yycons, voltage_gen.rf_electrodes, debug=False)\n",
    "cons = [('xx', xxt), ('yy', yycons), ('zz', zzt), ('xz', xzt), ('yz', 0), ('xy', 0)]\n",
    "\n",
    "print(\"target alpha = %.2E\"%(yycons/(1e-6)**2))\n",
    "\n",
    "# constrained_voltages = [(0, 0.0), (1, 0.0), (2, 0.0), (3, 0.0), (4, 0.0),\n",
    "#                         (5, 0.0), (6, 0.0), (7, 0.0), (8, 0.0), (9, 0.0),\n",
    "#                         (21, 0.0), (22, 0.0), (23, 0.0), (24, 0.0),\n",
    "#                         (25, 0.0), (26, 0.0), (27, 0.0), (28, 0.0), (29, 0.0),\n",
    "#                         (30, 0.0), (31, 0.0),\n",
    "#                        ]\n",
    "\n",
    "# constrained_voltages = [(i, 0.0) for i, v in enumerate(artiq_electrode_ordering) if v not in [1,2,3,4,5,6,7,29,30,31,32]]\n",
    "\n",
    "constrained_voltages = []\n",
    "\n",
    "nom_voltages = voltage_gen.findControlVoltages(\n",
    "    R,\n",
    "    cons=[cons],\n",
    "    tol=1e-18,\n",
    "    fixed_voltages=constrained_voltages,\n",
    "    bnds =(-9.9, 9.9),\n",
    ")\n",
    "\n",
    "el_config = []\n",
    "for [num, voltage] in voltage_gen.ungroup_configuration(nom_voltages):\n",
    "    el_config.append([[num], voltage])\n",
    "\n",
    "print(el_config)\n",
    "\n",
    "_ = voltage_gen.compute_total_potential_axes(R, el_config, printing=True)"
   ]
  },
  {
   "cell_type": "markdown",
   "metadata": {},
   "source": [
    "**Export voltage set to a simple npy file**"
   ]
  },
  {
   "cell_type": "code",
   "execution_count": 15,
   "metadata": {
    "code_folding": []
   },
   "outputs": [
    {
     "name": "stdout",
     "output_type": "stream",
     "text": [
      "/Users/lukeqi/Desktop/School/MIT/UROP/SuperUROP/IonMotion/NominalVolts_1050kHz_0um.npy\n",
      "[[[12], 1.8997819344122333], [[13], 1.0777112523619026], [[14], 2.091697810949457], [[15], 0.8138836143258498], [[16], -7.386575974773923], [[17], 0.8696320114163281], [[18], 2.1077928755434563], [[19], 1.079724075950516], [[20], 1.7576595766740104], [[1], 1.9744426737566854], [[2], 1.151782589716637], [[3], 2.27834023965346], [[4], 1.369268889055969], [[5], -6.41039584337887], [[6], 1.4155193684645158], [[7], 2.289030883402544], [[8], 1.149851149941443], [[9], 1.8262381157958465], [[10], -0.21324968108903014], [[11], 0.4210816168618554]]\n",
      "{'N6': 1.8997819344122333, 'N7': 1.0777112523619026, 'N8': 2.091697810949457, 'N9': 0.8138836143258498, 'N10': -7.386575974773923, 'N11': 0.8696320114163281, 'N12': 2.1077928755434563, 'N13': 1.079724075950516, 'N14': 1.7576595766740104, 'S6': 1.9744426737566854, 'S7': 1.151782589716637, 'S8': 2.27834023965346, 'S9': 1.369268889055969, 'S10': -6.41039584337887, 'S11': 1.4155193684645158, 'S12': 2.289030883402544, 'S13': 1.149851149941443, 'S14': 1.8262381157958465, 'S24': -0.21324968108903014, 'S25': 0.4210816168618554}\n"
     ]
    }
   ],
   "source": [
    "####\n",
    "voltage_set_to_export = nom_voltages\n",
    "file_path = '/Users/lukeqi/Desktop/School/MIT/UROP/SuperUROP/IonMotion/'\n",
    "file_name = os.path.join(file_path, \"NominalVolts_1050kHz_0um.npy\")\n",
    "\n",
    "print(file_name)\n",
    "\n",
    "el_config = []\n",
    "for [num, voltage] in voltage_gen.ungroup_configuration(nom_voltages):\n",
    "    el_config.append([[num], voltage])\n",
    "    \n",
    "print(el_config)\n",
    "\n",
    "voltages_dict = {num_to_electrode_name(num): v for [[num], v] in el_config}\n",
    "\n",
    "print(voltages_dict)\n",
    "\n",
    "np.save(file_name, voltages_dict)"
   ]
  },
  {
   "cell_type": "markdown",
   "metadata": {},
   "source": [
    "**Load simple npy file and print fit results**"
   ]
  },
  {
   "cell_type": "code",
   "execution_count": null,
   "metadata": {
    "code_folding": [
     0
    ]
   },
   "outputs": [],
   "source": [
    "#myvolts = np.load('N:\\\\Individual Folders\\\\Stuart\\\\xfer\\\\NominalVolts_20200310_MZTWINWAC_1p20_0um.npy').item()\n",
    "myvolts = np.load('N:\\\\Individual Folders\\\\Stuart\\\\xfer\\\\NominalVolts_20200527_NOHOLENITO_0p60_0um.npy').item()\n",
    "\n",
    "voltages = []\n",
    "for electrode_name in _electrode_ordering:\n",
    "    voltages.append(myvolts[electrode_name])\n",
    "\n",
    "print(voltages)\n",
    "    \n",
    "el_config = []\n",
    "for index, voltage in enumerate(voltages):\n",
    "    el_config.append([[index+1], voltage])\n",
    "\n",
    "print(el_config)\n",
    "    \n",
    "expansion_point = [[0., 0.0, 50.]]\n",
    "\n",
    "#vg.compute_total_potential_axes(expansion_point, el_config, printing=True)\n",
    "voltage_gen.compute_total_potential_axes(expansion_point, el_config, printing=True)"
   ]
  },
  {
   "cell_type": "markdown",
   "metadata": {},
   "source": [
    "## Simplified version of nominal and shim exports"
   ]
  },
  {
   "cell_type": "code",
   "execution_count": 26,
   "metadata": {
    "scrolled": true
   },
   "outputs": [
    {
     "name": "stdout",
     "output_type": "stream",
     "text": [
      "[(3, 8), (6, 8), (7, 8), (8, 8), (9, 8), (10, 8), (11, 8), (12, 8), (18, 8), (19, 8), (20, 8), (21, 8), (22, 8), (23, 8), (24, 8), (28, 8), (31, 8), (17, -5.597347664697586), (16, 5.2902534215513), (15, -5.617763846316864), (14, 4.87897587086919), (2, -1.063478070573189), (29, 0.11024014905738937), (1, 0.48728710866056835), (30, -0.09088604221675678), (0, 0.6757519347558454), (25, -3.1345600112211294), (5, 0.7957012684322433), (26, 0.1796437443686206), (4, 0.7866260497899049), (27, -3.0611287716426503)]\n",
      "Target, Realized Coeffs:\n",
      " [[ 0.00000000e+00 -6.22867043e-07]\n",
      " [ 0.00000000e+00  1.35674902e-04]\n",
      " [ 0.00000000e+00 -3.01547072e-04]\n",
      " [-3.13875790e-05 -3.09320021e-05]\n",
      " [ 0.00000000e+00 -8.19579301e-12]\n",
      " [ 1.73055894e-05  1.72795351e-05]\n",
      " [ 8.18154472e-06  7.65066631e-06]\n",
      " [ 0.00000000e+00  2.37903596e-06]\n",
      " [ 2.32060342e-05  2.40985792e-05]]\n",
      "Final cost value:  0.0016546326335283548\n",
      "Number of iterations:  12 \n",
      "\n",
      "Target, Realized Coeffs:\n",
      " [[-1.00000000e-03 -6.22867043e-07]\n",
      " [ 0.00000000e+00  1.35674902e-04]\n",
      " [ 0.00000000e+00 -3.01547072e-04]\n",
      " [-3.13875790e-05 -3.09320021e-05]\n",
      " [ 0.00000000e+00 -8.19579301e-12]\n",
      " [ 1.73055894e-05  1.72795351e-05]\n",
      " [ 8.18154472e-06  7.65066631e-06]\n",
      " [ 0.00000000e+00  2.37903596e-06]\n",
      " [ 2.32060342e-05  2.40985792e-05]]\n",
      "Final cost value:  0.005263712169163323\n",
      "Number of iterations:  12 \n",
      "\n",
      "Target, Realized Coeffs:\n",
      " [[ 0.00000000e+00 -6.22867043e-07]\n",
      " [-1.00000000e-04  1.35674902e-04]\n",
      " [ 0.00000000e+00 -3.01547072e-04]\n",
      " [-3.13875790e-05 -3.09320021e-05]\n",
      " [ 0.00000000e+00 -8.19579301e-12]\n",
      " [ 1.73055894e-05  1.72795351e-05]\n",
      " [ 8.18154472e-06  7.65066631e-06]\n",
      " [ 0.00000000e+00  2.37903596e-06]\n",
      " [ 2.32060342e-05  2.40985792e-05]]\n",
      "Final cost value:  0.001914728090696454\n",
      "Number of iterations:  12 \n",
      "\n",
      "Target, Realized Coeffs:\n",
      " [[ 0.00000000e+00 -6.41307864e-07]\n",
      " [ 0.00000000e+00  1.32261452e-04]\n",
      " [-1.00000000e-03 -3.18488746e-04]\n",
      " [-3.13875790e-05 -3.09290522e-05]\n",
      " [ 0.00000000e+00 -6.82104272e-10]\n",
      " [ 1.73055894e-05  1.72790144e-05]\n",
      " [ 8.18154472e-06  7.64239843e-06]\n",
      " [ 0.00000000e+00  2.31166098e-06]\n",
      " [ 2.32060342e-05  2.40986525e-05]]\n",
      "Final cost value:  0.0034717328060440383\n",
      "Number of iterations:  11 \n",
      "\n",
      "[[[1], 9.899999999999991], [[2], 8.0], [[3], 8.0], [[4], 8.0], [[5], 8.0], [[6], 8.0], [[7], 8.0], [[8], 8.0], [[9], 8.0], [[10], 8.0], [[11], 8.0], [[12], 8.0], [[13], 8.0], [[14], 8.0], [[15], 8.0], [[16], -3.1345600112211294], [[17], 0.7957012684322433], [[18], 0.1796437443686206], [[19], 0.7866260497899049], [[20], -3.0611287716426503], [[21], 8.0], [[22], 8.0], [[23], -1.063478070573189], [[24], 0.11024014905738937], [[25], 0.48728710866056835], [[26], -0.09088604221675678], [[27], 0.6757519347558454], [[28], 8.0], [[29], -5.597347664697586], [[30], 5.2902534215513], [[31], -5.617763846316864], [[32], 4.87897587086919]]\n"
     ]
    }
   ],
   "source": [
    "voltage_gen = vg_comsol\n",
    "output_path = '/Users/lukeqi/Desktop/School/MIT/UROP/SuperUROP/IonMotion/'\n",
    "filename_spec = '20201119_MAXBETA_5deg_1000kHz_-373um'\n",
    "axial_freq = 1000*kHz #800kHz\n",
    "tilt = 5\n",
    "trap_pos = [0, -186.5, 50]\n",
    "constrained_voltages = [(i, 8) for i, v in enumerate(artiq_electrode_ordering) if v not in [1,16,17,18,19,20,23,24,25,26,27,29,30,31,32]]\n",
    "constrained_voltages = constrained_voltages + [(artiq_electrode_ordering.index(29), -5.597347664697586), (artiq_electrode_ordering.index(30), 5.2902534215513), (artiq_electrode_ordering.index(31), -5.617763846316864), (artiq_electrode_ordering.index(32), 4.87897587086919)]\n",
    "constrained_voltages = constrained_voltages + [(artiq_electrode_ordering.index(23), -1.063478070573189),(artiq_electrode_ordering.index(24), 0.11024014905738937),(artiq_electrode_ordering.index(25), 0.48728710866056835),(artiq_electrode_ordering.index(26), -0.09088604221675678),(artiq_electrode_ordering.index(27), 0.6757519347558454)]\n",
    "# [[16], -3.1345600112211294], [[17], 0.7957012684322433], [[18], 0.1796437443686206], [[19], 0.7866260497899049], [[20], -3.0611287716426503]\n",
    "constrained_voltages = constrained_voltages + [(artiq_electrode_ordering.index(16), -3.1345600112211294),(artiq_electrode_ordering.index(17), 0.7957012684322433),(artiq_electrode_ordering.index(18), 0.1796437443686206),(artiq_electrode_ordering.index(19), 0.7866260497899049),(artiq_electrode_ordering.index(20), -3.0611287716426503)]\n",
    "print(constrained_voltages)\n",
    "\n",
    "###\n",
    "\n",
    "omega = 2 * np.pi * axial_freq\n",
    "convexity = 1 if axial_freq > 0 else -1  # allow anti-confining potentials\n",
    "tilt_angle = np.radians(tilt)\n",
    "R = [trap_pos]\n",
    "# R = [[0, 186.5, 50], [0, 559.5, 50]]\n",
    "\n",
    "yycons = 0.5 * m * convexity * omega**2 * (1e-6)**2 / elem_charge\n",
    "## try with getting tilt coefficients with different delta values\n",
    "[xxt, xzt, zzt] =  tiltWithPseudo(voltage_gen, R[0], tilt_angle, yycons, voltage_gen.rf_electrodes, debug=False)\n",
    "cons = [('xx', xxt), ('yy', yycons), ('zz', zzt), ('xz', xzt), ('yz', 0), ('xy', 0)]\n",
    "# cons = [('yy', yycons), ('yz', 0), ('xy', 0)]\n",
    "\n",
    "t = time.time()\n",
    "nom_voltages = voltage_gen.findControlVoltages(\n",
    "    R,\n",
    "    cons=[cons]*1,\n",
    "    tol=1e-13,\n",
    "    fixed_voltages=constrained_voltages,\n",
    "    bnds=(-9.9, 9.9),\n",
    "    epss=1e-6\n",
    ")\n",
    "\n",
    "shift_voltages = []\n",
    "for ind, direction in enumerate(['x', 'y', 'z']):\n",
    "    # Add a small field in the particular direction by adding a linear constraint\n",
    "    R = [trap_pos]\n",
    "    if direction == 'y':\n",
    "        newcons = cons + [(direction, -1e-4)] #Sign convention is done to be consistent with a positive displacement\n",
    "    else: # Try fitting with a larger shift and dividing down\n",
    "        newcons = cons + [(direction, -1e-3)] #Sign convention is done to be consistent with a positive displacement\n",
    "\n",
    "    # get the voltages needed for a shift by subtracting the nominal voltages\n",
    "    shift_voltage_set = voltage_gen.findControlVoltages(\n",
    "        R,\n",
    "        cons=[newcons],\n",
    "        tol=1e-13,\n",
    "        fixed_voltages=constrained_voltages,\n",
    "        bnds=(-9.9, 9.9),\n",
    "        epss=-1e-6\n",
    "    )\n",
    "    shift_voltage_set -= nom_voltages\n",
    "    \n",
    "    if not direction == 'y':\n",
    "        shift_voltage_set /= 10.0\n",
    "    shift_voltages.append(shift_voltage_set)\n",
    "\n",
    "# Save to file\n",
    "\n",
    "nom_voltages_file_path = os.path.join(output_path, \"NominalVolts_{}.npy\".format(filename_spec))\n",
    "nom_voltages_dict = {num_to_electrode_name(num): v for [num, v] in voltage_gen.ungroup_configuration(nom_voltages)}\n",
    "np.save(nom_voltages_file_path, nom_voltages_dict)\n",
    "\n",
    "el_config = []\n",
    "for [num, voltage] in voltage_gen.ungroup_configuration(nom_voltages):\n",
    "    el_config.append([[num], voltage])\n",
    "el_config.sort()\n",
    "print(el_config)\n",
    "\n",
    "for axis, shift_v in zip(['X', 'Y', 'Z'], shift_voltages):\n",
    "    shift_voltages_file_path = os.path.join(output_path, \"{}DeltaVolts_{}.npy\".format(axis, filename_spec))\n",
    "    shift_voltages_dict = {num_to_electrode_name(num): v for [num, v] in voltage_gen.ungroup_configuration(shift_v)}\n",
    "    np.save(shift_voltages_file_path, shift_voltages_dict)\n",
    "    \n",
    "# np.save(os.path.join(output_path, \"Shims_{}.npy\".format(filename_spec)), np.array([0., 0., 0.]))"
   ]
  },
  {
   "cell_type": "markdown",
   "metadata": {},
   "source": [
    "**Plots achieved potential**"
   ]
  },
  {
   "cell_type": "code",
   "execution_count": 27,
   "metadata": {},
   "outputs": [
    {
     "data": {
      "text/plain": [
       "[<matplotlib.lines.Line2D at 0x7f94bad050d0>]"
      ]
     },
     "execution_count": 27,
     "metadata": {},
     "output_type": "execute_result"
    }
   ],
   "source": [
    "el_config.append([[voltage_gen.rf_electrodes[0]], 1]) ## adds rf electrode\n",
    "\n",
    "R = [[0.0, 0, 50.0]]\n",
    "y_span_um = 780\n",
    "n_y_points = 780\n",
    "y_points = np.linspace(-y_span_um, y_span_um, n_y_points)\n",
    "y_test_points = np.array([np.zeros(n_y_points), y_points, np.zeros(n_y_points)]).T + R\n",
    "\n",
    "y_pot = voltage_gen.compute_potential(y_test_points, [[el[0][0], el[1]] for el in el_config])\n",
    "plt.plot(y_points, y_pot)\n",
    "\n",
    "# peaks = sp.signal.find_peaks(-y_pot)[0]\n",
    "# plt.plot([y_points[p]*1e6 for p in peaks], [y_pot[p] for p in peaks], 'rs')\n",
    "\n",
    "# ion_min = y_points[peaks[-1]]*1e6\n",
    "# print(get_freq_from_alpha(np.gradient(np.gradient(y_pot))[peaks[-1]], m_=Ca)/2)"
   ]
  },
  {
   "cell_type": "code",
   "execution_count": null,
   "metadata": {},
   "outputs": [],
   "source": []
  }
 ],
 "metadata": {
  "kernelspec": {
   "display_name": "Python 3",
   "language": "python",
   "name": "python3"
  },
  "language_info": {
   "codemirror_mode": {
    "name": "ipython",
    "version": 3
   },
   "file_extension": ".py",
   "mimetype": "text/x-python",
   "name": "python",
   "nbconvert_exporter": "python",
   "pygments_lexer": "ipython3",
   "version": "3.7.6"
  },
  "toc": {
   "base_numbering": 1,
   "nav_menu": {},
   "number_sections": true,
   "sideBar": true,
   "skip_h1_title": false,
   "title_cell": "Table of Contents",
   "title_sidebar": "Contents",
   "toc_cell": false,
   "toc_position": {},
   "toc_section_display": true,
   "toc_window_display": false
  }
 },
 "nbformat": 4,
 "nbformat_minor": 2
}
