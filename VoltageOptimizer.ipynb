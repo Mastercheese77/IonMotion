{
 "cells": [
  {
   "cell_type": "code",
   "execution_count": 1,
   "metadata": {},
   "outputs": [
    {
     "name": "stdout",
     "output_type": "stream",
     "text": [
      "Found Numpy. WIll be used for storing data\n"
     ]
    }
   ],
   "source": [
    "import os, random, time\n",
    "import matplotlib.pyplot as plt, matplotlib.ticker as ticker, numpy as np, scipy as sp, scipy.constants as ct, scipy.optimize as sciopt\n",
    "%matplotlib tk\n",
    "plt.rcParams.update({'font.size': 20})\n",
    "from collections import defaultdict\n",
    "from math import floor, ceil, log, pi, sqrt\n",
    "from scipy.integrate import solve_ivp\n",
    "from scipy.interpolate import interp1d, InterpolatedUnivariateSpline\n",
    "from scipy.signal import savgol_filter, find_peaks, hann, hilbert\n",
    "from scipy.optimize import minimize\n",
    "from scipy.misc import derivative\n",
    "from numpy.fft import rfft, rfftfreq, irfft\n",
    "\n",
    "import PyLTSpice\n",
    "from PyLTSpice.LTSpice_RawRead import LTSpiceRawRead\n",
    "from PyLTSpice.LTSpiceBatch import LTCommander\n",
    "\n",
    "import VoltageGeneration"
   ]
  },
  {
   "cell_type": "code",
   "execution_count": null,
   "metadata": {},
   "outputs": [],
   "source": [
    "import matplotlib.animation as animation\n",
    "from IPython.display import HTML"
   ]
  },
  {
   "cell_type": "markdown",
   "metadata": {},
   "source": [
    "# Ideal Electrode Voltages"
   ]
  },
  {
   "cell_type": "code",
   "execution_count": 3,
   "metadata": {},
   "outputs": [
    {
     "data": {
      "text/plain": [
       "Text(0.5, 0, 'Time (us)')"
      ]
     },
     "execution_count": 3,
     "metadata": {},
     "output_type": "execute_result"
    }
   ],
   "source": [
    "filepath = 'MB_transport_2us_c2c/'\n",
    "exp = 'predistortion2'\n",
    "N0 = 5\n",
    "dt = 1e-6\n",
    "buffer1 = 290\n",
    "buffer2 = 0\n",
    "\n",
    "basepath = '/Users/lukeqi/Desktop/School/MIT/UROP/SuperUROP/IonMotion/'\n",
    "filenames = sorted(os.listdir(''.join([basepath, filepath])), key = lambda x: float(x.split('_')[-1][:-4]))\n",
    "filedata = [np.load(''.join([basepath, filepath]) + fname, allow_pickle = True).tolist() for fname in filenames[1:-1]]\n",
    "\n",
    "Ntot = buffer1+N0+buffer2\n",
    "T0 = dt*Ntot\n",
    "# electrode_ordering = [\n",
    "#     'S21', 'N1', 'S20', 'N2', 'S19', 'N3', 'S14',\n",
    "#     'N4', 'S13', 'N8', 'S12', 'N9', 'S11', 'N10',\n",
    "#     'S10', 'N11', 'S9', 'N12', 'S8', 'N13', 'S4',\n",
    "#     'N14', 'S3', 'N19', 'S2', 'N20', 'S1', 'N21',\n",
    "#     'S25', 'S24', 'S23', 'S22'\n",
    "# ] # SLT\n",
    "electrode_ordering = [\n",
    "    'S21', 'N1', 'S20', 'N2', 'S19', 'N3', 'S14',\n",
    "    'N4', 'S13', 'N8', 'S12', 'N9', 'S11', 'N10',\n",
    "    'S10', 'N11', 'S9', 'N12', 'S8', 'N13', 'S4',\n",
    "    'N14', 'S3', 'N19', 'S2', 'N20', 'S1', 'N21',\n",
    "    'S25', 'S24', 'S23', 'S22'\n",
    "] # MaxBeta\n",
    "    \n",
    "d = defaultdict(list)\n",
    "for f in filedata:\n",
    "    [d[k].append(v) for k, v in f.items()]\n",
    "\n",
    "%matplotlib tk\n",
    "v_ideal = {}\n",
    "v_ideal_deconv = {}\n",
    "voltages = {}\n",
    "plt.figure('voltages')\n",
    "for k, v in d.items():\n",
    "    vevents = np.concatenate(([v[0]], v, [v[-1]]))\n",
    "    tevents = np.concatenate(([0], dt*np.linspace(buffer1, N0+buffer1, len(v)), [T0]))\n",
    "    \n",
    "    ## TWEAK VOLTAGE SETS\n",
    "#     vevents = savgol_filter(vevents, 19, 3) ## 19\n",
    "\n",
    "    ## PLOT VOLTAGE SETS\n",
    "    mark = '.'\n",
    "    if k[0] == 'S':\n",
    "        mark = 'x'\n",
    "    plt.plot([t*1e6 for t in tevents], vevents, marker=mark, label=k)\n",
    "    v_ideal[k] = interp1d(np.append(tevents, 1), np.append(vevents, vevents[-1]))\n",
    "    v_ideal_deconv[k] = interp1d(np.concatenate((tevents, 2*T0-tevents[::-1])), np.concatenate((vevents, vevents[::-1])))\n",
    "    voltages[k] = v_ideal[k].__call__([(n+0.5)*dt for n in range(Ntot)])\n",
    "#     voltages[k] = v_ideal_deconv[k].__call__([(n+0.5)*dt for n in range(Ntot*2)])\n",
    "\n",
    "plt.legend(loc='best', prop={'size': 12})\n",
    "plt.ylabel('Electrode Voltage (V)')\n",
    "plt.xlabel('Time (us)')\n",
    "# np.save(basepath + '/'.join((exp, 'STA_crosstalk_better.npy')), voltages)\n"
   ]
  },
  {
   "cell_type": "code",
   "execution_count": 3,
   "metadata": {
    "scrolled": true
   },
   "outputs": [
    {
     "data": {
      "text/plain": [
       "Text(0.5, 0, 'Time (us)')"
      ]
     },
     "execution_count": 3,
     "metadata": {},
     "output_type": "execute_result"
    }
   ],
   "source": [
    "#### Bang-Bang on the MaxBeta\n",
    "filepath = 'predistortion4/'\n",
    "N0 = 5\n",
    "dt = 0.392e-6\n",
    "buffer1 = 1000\n",
    "buffer2 = 0\n",
    "\n",
    "basepath = '/Users/lukeqi/Desktop/School/MIT/UROP/SuperUROP/IonMotion/'\n",
    "filenames = {s:s+'_ideal_withbuffers.npy' for s in ['S13', 'N8', 'S12', 'N9']}\n",
    "filedata = {k:np.load(''.join([basepath, filepath]) + v, allow_pickle = True).tolist() for k, v in filenames.items()}\n",
    "\n",
    "Ntot = buffer1+N0+buffer2\n",
    "T0 = dt*Ntot\n",
    "    \n",
    "d = defaultdict(list)\n",
    "for k, v in filedata.items():\n",
    "    d[k] = v\n",
    "\n",
    "%matplotlib tk\n",
    "v_ideal = {}\n",
    "v_ideal_deconv = {}\n",
    "v_DAC = {}\n",
    "plt.figure('voltages')\n",
    "for k, v in d.items():\n",
    "    mark = '.'\n",
    "    if k[0] == 'S':\n",
    "        mark = 'x'\n",
    "        \n",
    "    vevents = np.concatenate(([v[0]], v, [v[-1]]))\n",
    "    tevents = np.concatenate(([-0.1e-6], dt*np.linspace(buffer1, N0+buffer1, len(v)), [T0+0.1e-6]))\n",
    "    \n",
    "#     vevents = savgol_filter(vevents, 19, 3) ## 19\n",
    "    \n",
    "    plt.plot([t*1e6 for t in tevents], vevents, marker=mark, label=k)\n",
    "    v_ideal[k] = interp1d(np.append(tevents, 1), np.append(vevents, vevents[-1]))\n",
    "    v_ideal_deconv[k] = interp1d(np.concatenate((tevents, 2*T0-tevents[::-1])), np.concatenate((vevents, vevents[::-1])))\n",
    "    v_DAC[k] = v_ideal[k].__call__([(n+0.5)*dt for n in range(Ntot)])\n",
    "#     voltages[k] = v_ideal_deconv[k].__call__([(n+0.5)*dt for n in range(Ntot*2)])\n",
    "\n",
    "plt.legend(loc='best', prop={'size': 12})\n",
    "plt.ylabel('Electrode Voltage (V)')\n",
    "plt.xlabel('Time (us)')\n"
   ]
  },
  {
   "cell_type": "markdown",
   "metadata": {},
   "source": [
    "# Transport Protocol Methods"
   ]
  },
  {
   "cell_type": "code",
   "execution_count": 4,
   "metadata": {
    "code_folding": [
     0,
     11,
     24,
     28,
     31,
     45,
     60,
     77
    ]
   },
   "outputs": [],
   "source": [
    "def qtanhN(t, tspan, N=5, qspan=(0, 120)):\n",
    "    ''' t is a specific time\n",
    "        tspan is a tuple with the start and end time'''\n",
    "    t0, tf = tspan\n",
    "    y0, yf = qspan\n",
    "    T = tf-t0\n",
    "    if (t-t0) < T:\n",
    "        return y0 + max((yf-y0)/2*(np.tanh(N*(2*(t-t0)-T)/T)+np.tanh(N))/np.tanh(N), 0)\n",
    "    else:\n",
    "        return yf\n",
    "    \n",
    "def qsin(t, tspan, qspan=(0, 120)):\n",
    "    ''' t is a specific time\n",
    "        tspan is a tuple with the start and end time'''\n",
    "    t0, tf = tspan\n",
    "    y0, yf = qspan\n",
    "    T = tf-t0\n",
    "    if t < t0:\n",
    "        return y0\n",
    "    elif (t-t0) < T:\n",
    "        return y0 + max((yf-y0)/2*(1-np.cos(pi*(t-t0)/T)), 0)\n",
    "    else:\n",
    "        return yf\n",
    "    \n",
    "def get_freq_from_alpha(a, m_=40*ct.u):\n",
    "    ''' make sure alpha is in V/um^2'''\n",
    "    return np.sign(a)*(2*np.abs(a)*1e12*ct.e/m_)**0.5/(2*pi)\n",
    "\n",
    "def get_alpha_from_freq(f, m_=40*ct.u):\n",
    "    return (2*pi*f)**2/(2*ct.e/m_)\n",
    "\n",
    "def qsta(t, tspan, qspan=(0, 120), f=1):\n",
    "    ''' t is a specific time\n",
    "        tspan is a tuple with the start and end time'''\n",
    "    t0, tf = tspan\n",
    "    y0, yf = qspan\n",
    "    T, ti = tf-t0, t-t0 \n",
    "    s = ti/T\n",
    "    if s < 0:\n",
    "        return y0\n",
    "    elif s <= 1:\n",
    "        return y0 + (yf-y0)*((1/(2*pi*f)**2)*(60*s - 180*s**2 + 120*s**3) + 10*s**3 - 15*s**4 + 6*s**5)\n",
    "    else:\n",
    "        return yf\n",
    "    \n",
    "def qsta2(t, tspan, qspan=(0, 120), f=1):\n",
    "    ''' t is a specific time\n",
    "        tspan is a tuple with the start and end time'''\n",
    "    t0, tf = tspan\n",
    "    y0, yf = qspan\n",
    "    T, ti = tf-t0, t-t0 \n",
    "    s = ti/T\n",
    "    if s < 0:\n",
    "        return y0\n",
    "    elif s <= 1:\n",
    "        return y0 + (yf-y0)*((1/(2*pi*f)**2)*(2520*s**3-12600*s**4+22680*s**5-17640*s**6+5040*s**7)\n",
    "                             + 126*s**5-420*s**6+540*s**7-315*s**8+70*s**9)\n",
    "    else:\n",
    "        return yf\n",
    "    \n",
    "def qtrig(t, tspan, qspan=(0, 120), f=1.2e6, mu=1):\n",
    "    ''' args should be f (axialfreq in Hz), mu (mass ratio)'''\n",
    "    t0, tf = tspan\n",
    "    y0, yf = qspan\n",
    "    T, ti, d = tf-t0, t-t0, yf-y0\n",
    "    s = ti/T\n",
    "    Op, On = 2*np.pi*f*(1+1/mu+(1-1/mu+1/mu**2)**0.5)**0.5, 2*np.pi*f*(1+1/mu-(1-1/mu+1/mu**2)**0.5)**0.5\n",
    "    b3 = -49*((T*Op)**2 - (5*np.pi)**2)*((T*On)**2 - (5*np.pi)**2)/(2048*(T*T*On*Op)**2)\n",
    "    b4 = 5*((T*Op)**2 - (7*np.pi)**2)*((T*On)**2 - (7*np.pi)**2)/(2048*(T*T*On*Op)**2)\n",
    "    \n",
    "    if s < 0:\n",
    "        return y0\n",
    "    elif s <= 1:\n",
    "        return y0 + d*(0.5 + (-9/16+2*b3+5*b4)*np.cos(np.pi*s) + 1/16*(1-48*b3-96*b4)*np.cos(3*np.pi*s) + b3*np.cos(5*np.pi*s) + b4*np.cos(7*np.pi*s))\n",
    "    else:\n",
    "        return yf\n",
    "    \n",
    "def d_t(t, tspan, qspan=(0, 120)):\n",
    "    ''' t is a specific time\n",
    "        tspan is a tuple with the start and end time'''\n",
    "    t0, tf = tspan\n",
    "    y0, yf = qspan\n",
    "    T, ti = tf-t0, t-t0 \n",
    "    s = ti/T\n",
    "    if s < 0:\n",
    "        return y0\n",
    "    elif s <= 1:\n",
    "        return y0 + (yf-y0)*(10*s**3 - 15*s**4 + 6*s**5)\n",
    "    else:\n",
    "        return yf\n",
    "    \n",
    "def gaussian(x, mu, sig):\n",
    "    return np.exp(-(x-mu)*(x-mu)/(2*sig*sig))"
   ]
  },
  {
   "cell_type": "code",
   "execution_count": 5,
   "metadata": {},
   "outputs": [
    {
     "data": {
      "text/plain": [
       "Text(0, 0.5, 'position (um)')"
      ]
     },
     "execution_count": 5,
     "metadata": {},
     "output_type": "execute_result"
    }
   ],
   "source": [
    "f0 = 4e6 # Axial frequency [Hz]\n",
    "T = 1.96e-6 # Transport time [s]\n",
    "move = (186.5, 231.5) # Start and End positions [um]\n",
    "amu = ct.m_u\n",
    "Ca = 40*amu\n",
    "a0 = get_alpha_from_freq(f0, m_=Ca)*1e-12 # Specify ion mass. [Units are V/m^2, but ITVG uses um as the length scale]\n",
    "\n",
    "t_ideal = np.linspace(0, T, 100)\n",
    "q_ideal = np.array([qsta2(t, (0, T), qspan=move, f=T*f0) for t in t_ideal])\n",
    "# q_ideal = np.linspace(move[0], move[1], len(t_ideal))\n",
    "a_ideal = np.repeat(a0, len(t_ideal))\n",
    "q_ideal_func = interp1d(np.append(t_ideal, 1), np.append(q_ideal, q_ideal[-1]))\n",
    "a_ideal_func = interp1d(np.append(t_ideal, 1), np.append(a_ideal, a_ideal[-1]))\n",
    "\n",
    "plt.plot(t_ideal*1e6, q_ideal)\n",
    "plt.xlabel('time (us)')\n",
    "plt.ylabel('position (um)')"
   ]
  },
  {
   "cell_type": "markdown",
   "metadata": {},
   "source": [
    "# PyLTSpice Initialization"
   ]
  },
  {
   "cell_type": "code",
   "execution_count": 5,
   "metadata": {
    "code_folding": [
     0,
     31
    ]
   },
   "outputs": [],
   "source": [
    "def set_vinput(volt_array, dt, st, sr):\n",
    "    ''' writes PWL input to 'input.txt' '''    \n",
    "    N = len(volt_array)\n",
    "    varray = [v/16+2.5 for v in volt_array] ## fastino\n",
    "#     varray = volt_array ## zotino\n",
    "    \n",
    "    tevents = [0]\n",
    "    vevents = [varray[0]]\n",
    "    for i in range(1,N):\n",
    "        ti = dt*i\n",
    "        vi = vevents[-1]\n",
    "        tevents.append(ti)\n",
    "        vevents.append(vi)\n",
    "        \n",
    "        tdelay = abs(varray[i] - vi)/sr\n",
    "#         tdelay = 1e-12\n",
    "        if tdelay > dt:\n",
    "            print('WARNING: SLEW RATE LONGER THAN TIME STEP')\n",
    "            tevents.append(ti + dt)\n",
    "            vevents.append(vi + (varray[i] - vi)*dt/tdelay)\n",
    "        else:\n",
    "            tevents.append(ti + tdelay)\n",
    "            vevents.append(varray[i])\n",
    "    tevents.append(N*dt)\n",
    "    vevents.append(varray[-1])\n",
    "    \n",
    "    with open(circuit_directory_path + 'input.txt', 'w+') as f:\n",
    "        [f.write('\\t'.join((str(t), str(v))) + '\\n') for t, v in zip(tevents, vevents)]\n",
    "\n",
    "    return tevents, vevents\n",
    "\n",
    "def run_spice_sim(endsim, st, attempts=1):\n",
    "    instruction = '.TRAN' + ' '.join((str(st), str(endsim)))\n",
    "    LTC.netlist.insert(-2, instruction)\n",
    "    LTC.write_netlist()\n",
    "    rawfile, logfile = LTC.run()\n",
    "    LTC.reset_netlist()\n",
    "\n",
    "    if rawfile:\n",
    "        for i in range(attempts):\n",
    "            try:\n",
    "                LTR = LTSpiceRawRead(rawfile)\n",
    "                break\n",
    "            except UnicodeDecodeError:\n",
    "                LTC.netlist.insert(-2, instruction)\n",
    "                LTC.write_netlist()\n",
    "                rawfile, logfile = LTC.run()\n",
    "                LTC.reset_netlist()\n",
    "                LTR = LTSpiceRawRead(rawfile)\n",
    "        os.remove(logfile)\n",
    "    else:\n",
    "        print('SIMULATION FAILED')\n",
    "        with open(logfile, 'r') as f:\n",
    "            [print(line) for line in f.readlines()]\n",
    "        os.remove(logfile)\n",
    "        return None\n",
    "    return LTR"
   ]
  },
  {
   "cell_type": "markdown",
   "metadata": {},
   "source": [
    "## Initializing SPICE Parameters"
   ]
  },
  {
   "cell_type": "code",
   "execution_count": 6,
   "metadata": {},
   "outputs": [
    {
     "name": "stdout",
     "output_type": "stream",
     "text": [
      "20.0 sim steps per dt\n"
     ]
    }
   ],
   "source": [
    "circuit_name = 'FastinoAmplifier_V1.0.cir' ## Zotino vs FastinoAmplifier vs minimalfiltering\n",
    "\n",
    "circuit_directory_path = '/Users/lukeqi/Desktop/School/MIT/UROP/SuperUROP/IonMotion/lib_circuits/'\n",
    "LTC = LTCommander(circuit_directory_path + circuit_name)\n",
    "endsim = T0\n",
    "st = max(dt/20, 1e-9) ## maximum time step of the SPICE transient sim. no lower than 100ns\n",
    "slew_rate = 20/1e-6 ## slew rate in V/s (~20V/us)\n",
    "gain_err = 0.01 ## 1%\n",
    "calibration_err = 0.1 ## +- 100mV\n",
    "\n",
    "print(dt/st, 'sim steps per dt')"
   ]
  },
  {
   "cell_type": "markdown",
   "metadata": {},
   "source": [
    "## Run SPICE sim on naive voltages"
   ]
  },
  {
   "cell_type": "code",
   "execution_count": 31,
   "metadata": {
    "scrolled": true
   },
   "outputs": [
    {
     "name": "stdout",
     "output_type": "stream",
     "text": [
      "Fri Jun 25 09:27:21 2021 : Starting simulation 1\n",
      "Fri Jun 25 09:27:22 2021: Simulation Successful. Time elapsed 00:00:00:\n",
      "\n",
      "Normal access\n",
      "S13\t[8.         8.         8.         ... 3.64435765 1.20747873 1.08085979]\t0.000402976 \n",
      "\n",
      "Fri Jun 25 09:27:22 2021 : Starting simulation 2\n",
      "Fri Jun 25 09:27:25 2021: Simulation Successful. Time elapsed 00:00:00:\n",
      "\n",
      "Normal access\n",
      "N8\t[1.09185489 1.09185489 1.09185489 ... 0.58705536 0.59435664 0.62865455]\t0.0004030369653942924 \n",
      "\n",
      "Fri Jun 25 09:27:25 2021 : Starting simulation 3\n",
      "Fri Jun 25 09:27:27 2021: Simulation Successful. Time elapsed 00:00:00:\n",
      "\n",
      "Normal access\n",
      "S12\t[0.62783266 0.62783266 0.62783266 ... 0.5978911  1.08055874 1.09130176]\t0.0004031077536617519 \n",
      "\n",
      "Fri Jun 25 09:27:27 2021 : Starting simulation 4\n",
      "Fri Jun 25 09:27:29 2021: Simulation Successful. Time elapsed 00:00:00:\n",
      "\n",
      "Normal access\n",
      "N9\t[1.1012081  1.1012081  1.1012081  ... 3.60799625 7.46571938 7.94702815]\t0.00040298853631305463 \n",
      "\n"
     ]
    }
   ],
   "source": [
    "plotting = True\n",
    "addnoise = False\n",
    "endbuffer = 23\n",
    "\n",
    "# voltages = np.load(basepath + '/'.join((exp, 'STA_crosstalk_better.npy')), allow_pickle = True).tolist()\n",
    "v_exp = {}\n",
    "for k, v in v_DAC.items():\n",
    "    endsim = dt*(len(v) + endbuffer)\n",
    "    tevents, vevents = set_vinput(v, dt, st, slew_rate)\n",
    "    \n",
    "    LTR = run_spice_sim(endsim, st, 3)\n",
    "    \n",
    "    analysis_output = LTR.get_trace('V(ion)').get_wave(0)\n",
    "    t_spice = LTR.get_trace('time').get_time_axis(0)\n",
    "    print('\\t'.join((k, str(v), str(t_spice[-1]))), '\\n')\n",
    "    \n",
    "    if addnoise:\n",
    "        v_exp[k] = interp1d(t_spice, np.array(analysis_output)*(1+random.choice([-gain_err, gain_err]))\n",
    "                         + random.choice([-calibration_err, calibration_err]))\n",
    "    else:\n",
    "        v_exp[k] = interp1d(t_spice, analysis_output)\n",
    "    \n",
    "    if plotting and k in ['N8', 'N9', 'S12', 'S13']:\n",
    "        plt.figure(k, (19, 9))\n",
    "        plt.title('Electrode %s' % (k, ))\n",
    "        plt.xlabel('Time [us]')\n",
    "        plt.ylabel('Voltage [V]')\n",
    "        plt.grid()\n",
    "        \n",
    "        plt.plot([t*1E6 for t in tevents], [16*(v-2.5) for v in vevents], label='input') ## fastino\n",
    "#         plt.plot([t*1E6 for t in tevents], vevents, label='input') ## zotino\n",
    "        plt.plot(t_spice*1E6, analysis_output, label='output')\n",
    "        t_view = np.linspace(0, T0, 5000)\n",
    "        plt.plot(t_view*1E6, v_ideal[k].__call__(t_view), 'k--', label='ideal')\n",
    "        plt.legend(loc='best')\n",
    "        \n",
    "        plt.tight_layout()\n",
    "plt.show()"
   ]
  },
  {
   "cell_type": "markdown",
   "metadata": {},
   "source": [
    "## Run SPICE sim on predistorted voltages"
   ]
  },
  {
   "cell_type": "code",
   "execution_count": null,
   "metadata": {},
   "outputs": [],
   "source": [
    "t_view_fft, dxi = np.linspace(t_cost[0], t_cost[-1], 2**14, retstep=True)\n",
    "for k, v in v_ideal_tweak.items():\n",
    "    waveform = v.__call__(t_view_fft)\n",
    "    waveform_fft = np.fft.rfft(waveform, 2**14)\n",
    "    waveform_w = np.fft.rfftfreq(2**14, dxi)\n",
    "    plt.semilogx(waveform_w, 20*np.log(np.abs(waveform_fft)/np.abs(waveform_fft[1])), marker='.', label=k)\n",
    "plt.legend()\n",
    "plt.title('dt=800ns waveforms, spectral content')\n",
    "plt.xlabel('frequency Hz')\n",
    "plt.ylabel('dB')"
   ]
  },
  {
   "cell_type": "code",
   "execution_count": 42,
   "metadata": {
    "scrolled": true
   },
   "outputs": [
    {
     "name": "stdout",
     "output_type": "stream",
     "text": [
      "Sun Jun 27 17:56:09 2021 : Starting simulation 1374\n",
      "Sun Jun 27 17:56:10 2021: Simulation Successful. Time elapsed 00:00:00:\n",
      "\n",
      "Normal access\n",
      "S13\t[  8.           5.43065581   9.41475114  17.47346543  11.01700688\n",
      " -36.48094284   1.08085979]\t1.176e-05 \n",
      "\n",
      "Sun Jun 27 17:56:11 2021 : Starting simulation 1375\n",
      "Sun Jun 27 17:56:14 2021: Simulation Successful. Time elapsed 00:00:00:\n",
      "\n",
      "Normal access\n",
      "N8\t[ 1.09185489 -0.69213431  2.56784373  3.22089908  1.29987816 -3.1769881\n",
      "  0.62865455]\t1.1758157714843718e-05 \n",
      "\n",
      "Sun Jun 27 17:56:14 2021 : Starting simulation 1376\n",
      "Sun Jun 27 17:56:16 2021: Simulation Successful. Time elapsed 00:00:00:\n",
      "\n",
      "Normal access\n",
      "S12\t[ 0.62783266  1.2687709   0.56853074 -1.19548073 -0.74860916  4.17558354\n",
      "  1.09130176]\t1.1749544433593715e-05 \n",
      "\n",
      "Sun Jun 27 17:56:16 2021 : Starting simulation 1377\n",
      "Sun Jun 27 17:56:18 2021: Simulation Successful. Time elapsed 00:00:00:\n",
      "\n",
      "Normal access\n",
      "N9\t[ 1.1012081   2.11531377  0.15396947 -9.45690922 -0.16744691 39.99999645\n",
      "  7.94702815]\t1.176080271205315e-05 \n",
      "\n"
     ]
    }
   ],
   "source": [
    "plotting = True\n",
    "addnoise = False\n",
    "crosstalk = False\n",
    "endbuffer = 23\n",
    "\n",
    "# newvoltages = np.load(basepath + '/'.join((exp, 'predistorted_long.npy')), allow_pickle = True).tolist()\n",
    "v_exp={}\n",
    "for k, v in newvoltages.items(): ## loop through each electrode\n",
    "    if addnoise:\n",
    "        v = np.array(v)*(1+random.choice([-gain_err, gain_err])) + random.choice([-calibration_err, calibration_err])\n",
    "\n",
    "    endsim=dt*(len(v) + endbuffer) ## simulate a little longer so the voltages can reach their steady state\n",
    "    tevents, vevents = set_vinput(v, dt, st, slew_rate)\n",
    "\n",
    "    LTR = run_spice_sim(endsim, st, 3)\n",
    "    analysis_output = LTR.get_trace(\"V(ion)\").get_wave(0)\n",
    "    t_spice = LTR.get_trace('time').get_time_axis(0)\n",
    "    print('\\t'.join((k, str(v), str(t_spice[-1]))), '\\n')\n",
    "\n",
    "    v_exp[k] = interp1d(t_spice, analysis_output)\n",
    "\n",
    "\n",
    "    if plotting:\n",
    "        plt.figure(k+'predistorted', (19, 9))\n",
    "        plt.title('Electrode %s' % (k, ))\n",
    "        plt.xlabel('Time [us]')\n",
    "        plt.ylabel('Voltage [V]')\n",
    "        plt.grid()\n",
    "\n",
    "        plt.plot([t*1E6 for t in tevents], [16*(v-2.5) for v in vevents], label='input')\n",
    "        plt.plot(t_spice*1e6, analysis_output, label='output')\n",
    "        plt.plot(t_spice*1e6, v_ideal_tweak[k].__call__(t_spice), 'k--', label='ideal')\n",
    "        plt.legend(loc='best')\n",
    "\n",
    "        plt.tight_layout()\n",
    "plt.show()\n",
    "\n",
    "v_of_t_crosstalk = {}\n",
    "if crosstalk:\n",
    "    t_eval = np.linspace(0, endsim-0.5e-6, 1000)\n",
    "    varray = np.array([v.__call__(t_eval) for k, v in v_exp.items()])\n",
    "    for i, v in enumerate(v_exp.values()):\n",
    "        v_of_t_crosstalk[list(v_exp.keys())[i]] = interp1d(t_eval, varray[i]+0.05*(sum(varray[:i])+sum(varray[i+1:])))\n",
    "        "
   ]
  },
  {
   "cell_type": "markdown",
   "metadata": {},
   "source": [
    "# ITVG Initialization"
   ]
  },
  {
   "cell_type": "code",
   "execution_count": 9,
   "metadata": {
    "code_folding": [
     7
    ],
    "scrolled": true
   },
   "outputs": [
    {
     "name": "stdout",
     "output_type": "stream",
     "text": [
      "[[1], [2], [3], [4], [5], [6], [7], [8], [9], [10], [11], [12], [13], [14], [15], [16], [17], [18], [19], [20], [21], [22], [23], [24], [25], [26], [27], [28], [29], [30], [31], [32]]\n",
      "Imported grid files in 0.00010585784912109375\n"
     ]
    }
   ],
   "source": [
    "#### MaxBeta Initialization\n",
    "reload_vg = False\n",
    "amu = ct.m_u\n",
    "e = ct.e\n",
    "Ca = 40*amu\n",
    "Sr = 88*amu\n",
    "\n",
    "electrode_ordering = [\n",
    "    'S21', 'N1', 'S20', 'N2', 'S19', 'N3', 'S14',\n",
    "    'N4', 'S13', 'N8', 'S12', 'N9', 'S11', 'N10',\n",
    "    'S10', 'N11', 'S9', 'N12', 'S8', 'N13', 'S4',\n",
    "    'N14', 'S3', 'N19', 'S2', 'N20', 'S1', 'N21',\n",
    "    'S25', 'S24', 'S23', 'S22'\n",
    "]\n",
    "\n",
    "path = '/Users/lukeqi/Desktop/School/MIT/UROP/SuperUROP/GridFiles'\n",
    "name = 'MaxBeta_Production_Potential'\n",
    "\n",
    "electrode_grouping = [[i+1] for i in range(len(electrode_ordering))]\n",
    "# electrode_grouping = [[i+1] for i in range(len(electrode_ordering)) if i not in [18,19,22,23]]\n",
    "# electrode_grouping.extend([[19,20],[23,24]])\n",
    "print(electrode_grouping)\n",
    "\n",
    "d_cons = []\n",
    "\n",
    "start_time = time.time()\n",
    "if reload_vg:\n",
    "    vg = VoltageGeneration.VoltageGeneration(path, name, electrode_grouping=electrode_grouping, fit_ranges=[5e-6, 45e-6, 5e-6], rf_electrodes=[33], m=Ca, rf_omega=2.*np.pi*45.937e6, order=4, f_cons=d_cons, v_rf=[72])\n",
    "print(\"Imported grid files in {}\".format(time.time() - start_time))\n"
   ]
  },
  {
   "cell_type": "code",
   "execution_count": null,
   "metadata": {
    "scrolled": true
   },
   "outputs": [],
   "source": [
    "reload_vg=True\n",
    "amu = ct.m_u\n",
    "e = ct.e\n",
    "Ca = 40*amu\n",
    "Sr = 88*amu\n",
    "\n",
    "_electrode_ordering_old = [\n",
    "    \"S6\", \"S7\", \"S8\", \"S9\", \"S10\", \"S11\", \"S12\", \"S13\", \"S14\",\n",
    "    \"S24\", \"S25\",\n",
    "    \"N6\", \"N7\", \"N8\", \"N9\", \"N10\", \"N11\", \"N12\", \"N13\", \"N14\",\n",
    "]\n",
    "\n",
    "def num_to_electrode_name(num):\n",
    "    return _electrode_ordering[num-1]\n",
    "\n",
    "## WHICH ONE SHOULD I USE??\n",
    "# artiq_electrode_ordering = [12, 13, 14, 15, 16, 17, 18, 19, 20, 1, 2, 3, 4, 5, 6, 7, 8, 9, 10, 11]\n",
    "artiq_electrode_ordering = [i+1 for i in range(20)]\n",
    "\n",
    "path = '/Users/lukeqi/Desktop/School/MIT/UROP/SuperUROP/GridFiles'\n",
    "name = 'AngleTrap_Skinny_Potential_reduced'\n",
    "name2 = 'MaxBeta_Potential'\n",
    "\n",
    "electrode_grouping = [[x] for x in artiq_electrode_ordering] ## Lincoln Standard\n",
    "electrode_grouping2 = [[1], [2], [3], [4], [5], [6], [7], [8], [9], [10], [11]] ## Max Beta\n",
    "d_cons = [('x',0), ('y',0), ('z',0)]\n",
    "d_cons = []\n",
    "\n",
    "start_time = time.time()\n",
    "\n",
    "if reload_vg:\n",
    "    vg = VoltageGeneration.VoltageGeneration(path, name, electrode_grouping, fit_ranges=[5e-6, 10e-6, 5e-6], rf_electrodes=[21], m=Sr, rf_omega=2.*np.pi*49.2e6, order=4, f_cons=d_cons, v_rf=[50])\n",
    "#     vg2 = VoltageGeneration.VoltageGeneration(path, name2, electrode_grouping2, rf_electrodes=[12], m=Ca, rf_omega=2.*np.pi*43e6, order=4, f_cons=d_cons, v_rf=[70])\n",
    "\n",
    "print(\"Imported grid files in {}\".format(time.time() - start_time))"
   ]
  },
  {
   "cell_type": "markdown",
   "metadata": {},
   "source": [
    "## Calculate Potential"
   ]
  },
  {
   "cell_type": "code",
   "execution_count": null,
   "metadata": {},
   "outputs": [],
   "source": [
    "#### Add in the fixed electrodes\n",
    "for k in electrode_ordering:\n",
    "    if k in ['S22','S23','S24','S25']:\n",
    "        v_exp[k] = interp1d([0, 1], [0, 0])\n",
    "    elif k not in ['N9','N8','S12','S13']:\n",
    "        v_exp[k] = interp1d([0, 1], [8, 8])\n"
   ]
  },
  {
   "cell_type": "code",
   "execution_count": null,
   "metadata": {},
   "outputs": [],
   "source": [
    "endITVG = endsim - 0.1e-6 # we can't find the potential for voltages that don't exist! hence the minus 0.1us\n",
    "volt_gen = vg\n",
    "N_final = int(endITVG/100e-9)+1 # set dt (time resolution)\n",
    "# N_final = len(d['S21'])\n",
    "t_exp, dx = np.linspace(0, (endITVG), N_final, retstep=True)\n",
    "# t_exp = np.unique(sorted(np.concatenate((t_all, t_exp))))\n",
    "print(len(t_exp), 'calls per iteration \\t', endITVG, 'us')\n",
    "\n",
    "## DON'T FORGET TO CHOOSE PROPER VOLTAGES\n",
    "\n",
    "bigarray = np.array([v_exp[k].__call__(t_exp) for k in electrode_ordering]).T\n",
    "# bigarray = np.array([v_DAC[k] for k in electrode_ordering]).T\n",
    "# bigarray = np.array([d[k] for k in electrode_ordering]).T\n",
    "el_config = []\n",
    "for row in bigarray:\n",
    "    el_configi = [[[i+1], v] for i, v in enumerate(row)]\n",
    "    el_configi.extend([[[el], 1] for el in volt_gen.rf_electrodes])\n",
    "    el_config.append(el_configi)\n",
    "    "
   ]
  },
  {
   "cell_type": "code",
   "execution_count": null,
   "metadata": {},
   "outputs": [],
   "source": [
    "down = 1\n",
    "R = [[0.0, 0, 50]]\n",
    "y_span_um = (74, 373)\n",
    "n_y_points = int(1e-6*(y_span_um[1]-y_span_um[0])/1000e-9)+1 # set dy (space resolution)\n",
    "\n",
    "y_points, dy = np.linspace(y_span_um[0], y_span_um[1], n_y_points, retstep=True)\n",
    "print(y_points)\n",
    "y_test_points = np.array([np.zeros(n_y_points), y_points, np.zeros(n_y_points)]).T + R\n",
    "y_pot = np.array([volt_gen.compute_potential(y_test_points, [[el[0][0], el[1]] for el in e]) for e in el_config[::down]])\n",
    "xaxis = y_points\n",
    "yaxis = y_pot\n",
    "adaptive_yaxis = True\n",
    "q_min = [y_points[np.where(np.array(y) == min(np.array(y)))][0] for y in y_pot]"
   ]
  },
  {
   "cell_type": "code",
   "execution_count": null,
   "metadata": {},
   "outputs": [],
   "source": [
    "from mpl_toolkits.mplot3d import Axes3D\n",
    "from matplotlib import cm\n",
    "\n",
    "X = y_points[::1]\n",
    "Y = t_exp*1e6\n",
    "X, Y = np.meshgrid(X, Y)\n",
    "Z = y_pot[:,::1]\n",
    "\n",
    "fig = plt.figure('3d')\n",
    "ax = fig.gca(projection='3d')\n",
    "surf = ax.plot_surface(X, Y, Z, cmap=cm.coolwarm,\n",
    "                       linewidth=0, antialiased=False, rstride=3, cstride=3)\n",
    "ax.set_xlabel('\\n position (um)', linespacing=3)\n",
    "ax.set_ylabel('\\n time (us)', linespacing=3)\n",
    "ax.set_zlabel('\\n potential (V)', linespacing=3)\n",
    "fig.colorbar(surf, shrink=0.5, aspect=5)\n",
    "plt.show()"
   ]
  },
  {
   "cell_type": "markdown",
   "metadata": {},
   "source": [
    "## Forward ITVG"
   ]
  },
  {
   "cell_type": "code",
   "execution_count": null,
   "metadata": {
    "scrolled": true
   },
   "outputs": [],
   "source": [
    "q_firstguess = q_min # initial guess for transport\n",
    "# q_firstguess = np.full(len(t_exp), q0) # initial guess for splitting\n",
    "num_guess = 2\n",
    "\n",
    "q = []\n",
    "coeff = []\n",
    "for n in range(num_guess):\n",
    "    print('\\t'.join(('iter', 't [us]', 'R [um]', 'f [Hz]', 'shift [um]')))\n",
    "    if not n:\n",
    "        qg = q_firstguess\n",
    "    else:\n",
    "        qg = q_guess\n",
    "        \n",
    "    expansion_point = [[[0., q, 50.]] for q in qg]\n",
    "    \n",
    "    for i in range(len(t_exp)):\n",
    "        coeffs = volt_gen.compute_total_potential_axes(expansion_point[i], el_config[i], printing=False)\n",
    "        coeff.append(coeffs)\n",
    "        shift = -coeffs[1]/(2*coeffs[6])\n",
    "        q.append(qg[i] + shift)\n",
    "        print('\\t'.join((str(i), '{:.2f}\\t{:.2f}\\t{:.0f}\\t{:.3f}'.format(t_exp[i]*1E6, qg[i], get_freq_from_alpha(coeffs[6], Ca), shift))))\n",
    "    q_guess = q[n*len(t_exp):(n+1)*len(t_exp)]\n",
    "\n",
    "coeff_final = np.array(coeff[len(t_exp)*(num_guess-1):len(t_exp)*num_guess])\n",
    "q_exp = np.array(q[len(t_exp)*(num_guess-1):len(t_exp)*num_guess])\n",
    "a_exp = coeff_final.T[6]"
   ]
  },
  {
   "cell_type": "code",
   "execution_count": null,
   "metadata": {},
   "outputs": [],
   "source": [
    "const_map = volt_gen.function_map\n",
    "x_exp = coeff_final.T[const_map['x']]\n",
    "y_exp = coeff_final.T[const_map['y']]\n",
    "z_exp = coeff_final.T[const_map['z']]\n",
    "c_exp = coeff_final.T[const_map['yyy']]\n",
    "d_exp = coeff_final.T[const_map['yyyy']]\n",
    "const_exp = coeff_final.T[const_map['const']]\n",
    "# plt.plot(t_exp, x_exp)\n",
    "# plt.plot(t_exp, y_exp)\n",
    "# plt.plot(t_exp, z_exp)\n",
    "\n",
    "plt.plot(t_exp, get_freq_from_alpha(a_exp, Ca))\n",
    "# q_exp = np.repeat(q0, len(a_exp))\n"
   ]
  },
  {
   "cell_type": "code",
   "execution_count": null,
   "metadata": {
    "code_folding": [],
    "scrolled": true
   },
   "outputs": [],
   "source": [
    "#### [OLD CALL]\n",
    "#### Moving Harmonic Oscillator\n",
    "num_guess = 1\n",
    "endITVG = 20e-6\n",
    "volt_gen = vg\n",
    "N_final = int(endITVG*1e6*5)+1\n",
    "t_anal = np.linspace(0, (endITVG), N_final)\n",
    "print(N_final, 'calls per iteration')\n",
    "\n",
    "## DON'T FORGET TO CHANGE THE FIRST GUESS\n",
    "q_firstguess = np.array([qtrig(t, (1e-6, 21e-6), qspan=(120, 240), f=1.2e6) for t in t_anal])\n",
    "\n",
    "## DON'T FORGET TO CHOOSE PROPER VOLTAGES\n",
    "bigarray = np.array([v.__call__(t_anal) for k, v in v_of_t_predist.items()]).T\n",
    "\n",
    "el_config = []\n",
    "for row in bigarray:\n",
    "    el_config.append([[[i+1], v] for i, v in enumerate(row)])\n",
    "\n",
    "q = []\n",
    "coeff = []\n",
    "for n in range(num_guess):\n",
    "    print('\\t'.join(('iter', 't [us]', 'R [um]', 'f [Hz]', 'shift [um]')))\n",
    "    if not n:\n",
    "        qg = q_firstguess\n",
    "    else:\n",
    "        qg = q_guess\n",
    "        \n",
    "    expansion_point = [[[0., i, 50.]] for i in qg]\n",
    "        \n",
    "    for i in range(len(t_anal)):\n",
    "        coeffs = volt_gen.compute_total_potential_axes(expansion_point[i], el_config[i], printing=False)\n",
    "        coeff.append(coeffs)\n",
    "        shift = -coeffs[1]/(2*coeffs[6])\n",
    "        q.append(qg[i] + shift)\n",
    "        print('\\t'.join((str(i), '{:.2f}\\t{:.2f}\\t{:.0f}\\t{:.3f}'.format(t_anal[i]*1E6, qg[i], get_freq_from_alpha(coeffs[6], Sr), shift))))\n",
    "    q_guess = q[n*N_final:(n+1)*N_final]\n",
    "\n",
    "coeff_final = np.array(coeff[N_final*(num_guess-1):N_final*num_guess])\n",
    "q_final = np.array(q[N_final*(num_guess-1):N_final*num_guess])\n",
    "a_final = coeff_final.T[6]"
   ]
  },
  {
   "cell_type": "code",
   "execution_count": null,
   "metadata": {},
   "outputs": [],
   "source": [
    "# plt.plot(t_anal*1e6, q_firstguess, 'k')\n",
    "# plt.plot(t_anal*1e6, q_final)\n",
    "\n",
    "delq = q_firstguess - q_final\n",
    "plt.plot(t_anal*1e6, delq)"
   ]
  },
  {
   "cell_type": "markdown",
   "metadata": {},
   "source": [
    "# Predistortion"
   ]
  },
  {
   "cell_type": "markdown",
   "metadata": {},
   "source": [
    "## Deconvolution"
   ]
  },
  {
   "cell_type": "markdown",
   "metadata": {},
   "source": [
    "### Electrode Response"
   ]
  },
  {
   "cell_type": "code",
   "execution_count": 7,
   "metadata": {},
   "outputs": [
    {
     "name": "stdout",
     "output_type": "stream",
     "text": [
      "Tue Jul 27 11:39:48 2021 : Starting simulation 1\n"
     ]
    },
    {
     "name": "stderr",
     "output_type": "stream",
     "text": [
      "/Users/lukeqi/anaconda3/lib/python3.7/site-packages/ipykernel_launcher.py:31: RuntimeWarning: invalid value encountered in true_divide\n",
      "No handles with labels found to put in legend.\n"
     ]
    },
    {
     "name": "stdout",
     "output_type": "stream",
     "text": [
      "Tue Jul 27 11:39:49 2021: Simulation Successful. Time elapsed 00:00:00:\n",
      "\n",
      "Normal access\n",
      "3866 16.951888256595964 6550847.4576271195\n"
     ]
    },
    {
     "data": {
      "text/plain": [
       "<matplotlib.legend.Legend at 0x7f84b079c190>"
      ]
     },
     "execution_count": 7,
     "metadata": {},
     "output_type": "execute_result"
    }
   ],
   "source": [
    "#### impulse response of circuit  \n",
    "periods = 1\n",
    "endbuffer = (2*periods-1)*Ntot\n",
    "step = True\n",
    "if step:\n",
    "    with open(circuit_directory_path + 'input.txt', 'w+') as f:\n",
    "        [f.write('\\t'.join((str(t), str(v))) + '\\n') for t, v in zip([0, 1E-12], [2.5, 1/16+2.5])]\n",
    "else:\n",
    "    with open(circuit_directory_path + 'input.txt', 'w+') as f:\n",
    "        [f.write('\\t'.join((str(t), str(v))) + '\\n') for t, v in zip([0, 1E-12, 100E-9], [2.5, 1/16+2.5, 2.5])]\n",
    "LTR = run_spice_sim(T0 + endbuffer*dt, st, 3)\n",
    "analysis_output = LTR.get_trace(\"V(ion)\").get_wave(0)\n",
    "t_spice = LTR.get_trace('time').get_time_axis(0)\n",
    "ended = float(t_spice[-1])\n",
    "\n",
    "#### FFT of impulse response\n",
    "N = 2**16\n",
    "M = int(100*N*ended)\n",
    "t_fft, dx = np.linspace(0, ended, M, retstep=True)\n",
    "print(M, N/M, 1/dx)\n",
    "if step:\n",
    "    h_step_t = InterpolatedUnivariateSpline(t_spice, analysis_output).__call__(t_fft)\n",
    "    h_t = np.gradient(h_step_t, dx)*dx\n",
    "else:\n",
    "    h_t = InterpolatedUnivariateSpline(t_spice, analysis_output).__call__(t_fft)\n",
    "h_fft = np.fft.rfft(h_t, N)\n",
    "h_w = np.fft.rfftfreq(N, dx)\n",
    "h_mag = np.abs(h_fft)\n",
    "h_phi = np.unwrap(np.angle(h_fft))\n",
    "\n",
    "h_phase = -h_phi/np.radians(h_w)\n",
    "h_group = -np.gradient(h_phi, np.radians(h_w[1]-h_w[0]))\n",
    "\n",
    "plt.figure('impulse response')\n",
    "plt.plot(t_fft*1e6, h_t)\n",
    "plt.ylabel('voltage (V)')\n",
    "plt.xlabel('time (us)')\n",
    "plt.figure('impulse mag')\n",
    "plt.loglog(h_w, h_mag, marker='.')\n",
    "plt.xlabel('frequency Hz')\n",
    "plt.ylabel('magnitude')\n",
    "# plt.figure('impulse phase')\n",
    "# plt.semilogx(h_w, h_phase, ls='--', label='phase delay', color='tab:orange')\n",
    "# plt.semilogx(h_w, h_group, lw=3, label='group delay', color='tab:orange')\n",
    "# plt.xlabel('frequency Hz')\n",
    "# plt.ylabel('magnitude')\n",
    "plt.legend(loc='best', shadow=1)\n"
   ]
  },
  {
   "cell_type": "code",
   "execution_count": null,
   "metadata": {},
   "outputs": [],
   "source": [
    "v_ideal_deconv"
   ]
  },
  {
   "cell_type": "markdown",
   "metadata": {},
   "source": [
    "### Weiner Deconvolution"
   ]
  },
  {
   "cell_type": "code",
   "execution_count": 11,
   "metadata": {
    "scrolled": true
   },
   "outputs": [
    {
     "name": "stdout",
     "output_type": "stream",
     "text": [
      "Tue Jul 27 11:41:08 2021 : Starting simulation 2\n",
      "Tue Jul 27 11:41:09 2021: Simulation Successful. Time elapsed 00:00:00:\n",
      "\n",
      "Normal access\n",
      "Tue Jul 27 11:41:09 2021 : Starting simulation 3\n",
      "Tue Jul 27 11:41:09 2021: Simulation Successful. Time elapsed 00:00:00:\n",
      "\n",
      "Normal access\n",
      "Tue Jul 27 11:41:09 2021 : Starting simulation 4\n",
      "Tue Jul 27 11:41:10 2021: Simulation Successful. Time elapsed 00:00:00:\n",
      "\n",
      "Normal access\n",
      "Tue Jul 27 11:41:10 2021 : Starting simulation 5\n",
      "Tue Jul 27 11:41:11 2021: Simulation Successful. Time elapsed 00:00:00:\n",
      "\n",
      "Normal access\n",
      "Tue Jul 27 11:41:11 2021 : Starting simulation 6\n",
      "Tue Jul 27 11:41:12 2021: Simulation Successful. Time elapsed 00:00:00:\n",
      "\n",
      "Normal access\n",
      "Tue Jul 27 11:41:12 2021 : Starting simulation 7\n",
      "Tue Jul 27 11:41:12 2021: Simulation Successful. Time elapsed 00:00:00:\n",
      "\n",
      "Normal access\n",
      "Tue Jul 27 11:41:13 2021 : Starting simulation 8\n",
      "Tue Jul 27 11:41:13 2021: Simulation Successful. Time elapsed 00:00:00:\n",
      "\n",
      "Normal access\n",
      "Tue Jul 27 11:41:13 2021 : Starting simulation 9\n",
      "Tue Jul 27 11:41:14 2021: Simulation Successful. Time elapsed 00:00:00:\n",
      "\n",
      "Normal access\n",
      "Tue Jul 27 11:41:14 2021 : Starting simulation 10\n",
      "Tue Jul 27 11:41:15 2021: Simulation Successful. Time elapsed 00:00:00:\n",
      "\n",
      "Normal access\n",
      "Tue Jul 27 11:41:15 2021 : Starting simulation 11\n",
      "Tue Jul 27 11:41:24 2021: Simulation Successful. Time elapsed 00:00:00:\n",
      "\n",
      "Normal access\n",
      "Tue Jul 27 11:41:26 2021 : Starting simulation 12\n",
      "Tue Jul 27 11:41:36 2021: Simulation Successful. Time elapsed 00:00:00:\n",
      "\n",
      "Normal access\n",
      "Tue Jul 27 11:41:38 2021 : Starting simulation 13\n",
      "Tue Jul 27 11:41:41 2021: Simulation Successful. Time elapsed 00:00:00:\n",
      "\n",
      "Normal access\n",
      "Tue Jul 27 11:41:42 2021 : Starting simulation 14\n",
      "Tue Jul 27 11:41:56 2021: Simulation Successful. Time elapsed 00:00:00:\n",
      "\n",
      "Normal access\n",
      "Tue Jul 27 11:41:57 2021 : Starting simulation 15\n",
      "Tue Jul 27 11:41:58 2021: Simulation Successful. Time elapsed 00:00:00:\n",
      "\n",
      "Normal access\n",
      "Tue Jul 27 11:41:58 2021 : Starting simulation 16\n",
      "Tue Jul 27 11:41:59 2021: Simulation Successful. Time elapsed 00:00:00:\n",
      "\n",
      "Normal access\n",
      "Tue Jul 27 11:41:59 2021 : Starting simulation 17\n",
      "Tue Jul 27 11:41:59 2021: Simulation Successful. Time elapsed 00:00:00:\n",
      "\n",
      "Normal access\n",
      "Tue Jul 27 11:42:00 2021 : Starting simulation 18\n",
      "Tue Jul 27 11:42:00 2021: Simulation Successful. Time elapsed 00:00:00:\n",
      "\n",
      "Normal access\n",
      "Tue Jul 27 11:42:00 2021 : Starting simulation 19\n",
      "Tue Jul 27 11:42:01 2021: Simulation Successful. Time elapsed 00:00:00:\n",
      "\n",
      "Normal access\n",
      "Tue Jul 27 11:42:01 2021 : Starting simulation 20\n",
      "Tue Jul 27 11:42:02 2021: Simulation Successful. Time elapsed 00:00:00:\n",
      "\n",
      "Normal access\n",
      "Tue Jul 27 11:42:02 2021 : Starting simulation 21\n",
      "Tue Jul 27 11:42:03 2021: Simulation Successful. Time elapsed 00:00:00:\n",
      "\n",
      "Normal access\n",
      "Tue Jul 27 11:42:03 2021 : Starting simulation 22\n",
      "Tue Jul 27 11:42:04 2021: Simulation Successful. Time elapsed 00:00:00:\n",
      "\n",
      "Normal access\n",
      "Tue Jul 27 11:42:04 2021 : Starting simulation 23\n"
     ]
    },
    {
     "name": "stderr",
     "output_type": "stream",
     "text": [
      "/Users/lukeqi/anaconda3/lib/python3.7/site-packages/ipykernel_launcher.py:24: RuntimeWarning: More than 20 figures have been opened. Figures created through the pyplot interface (`matplotlib.pyplot.figure`) are retained until explicitly closed and may consume too much memory. (To control this warning, see the rcParam `figure.max_open_warning`).\n"
     ]
    },
    {
     "name": "stdout",
     "output_type": "stream",
     "text": [
      "Tue Jul 27 11:42:05 2021: Simulation Successful. Time elapsed 00:00:00:\n",
      "\n",
      "Normal access\n",
      "Tue Jul 27 11:42:05 2021 : Starting simulation 24\n"
     ]
    },
    {
     "name": "stderr",
     "output_type": "stream",
     "text": [
      "/Users/lukeqi/anaconda3/lib/python3.7/site-packages/ipykernel_launcher.py:24: RuntimeWarning: More than 20 figures have been opened. Figures created through the pyplot interface (`matplotlib.pyplot.figure`) are retained until explicitly closed and may consume too much memory. (To control this warning, see the rcParam `figure.max_open_warning`).\n"
     ]
    },
    {
     "name": "stdout",
     "output_type": "stream",
     "text": [
      "Tue Jul 27 11:42:05 2021: Simulation Successful. Time elapsed 00:00:00:\n",
      "\n",
      "Normal access\n",
      "Tue Jul 27 11:42:05 2021 : Starting simulation 25\n"
     ]
    },
    {
     "name": "stderr",
     "output_type": "stream",
     "text": [
      "/Users/lukeqi/anaconda3/lib/python3.7/site-packages/ipykernel_launcher.py:24: RuntimeWarning: More than 20 figures have been opened. Figures created through the pyplot interface (`matplotlib.pyplot.figure`) are retained until explicitly closed and may consume too much memory. (To control this warning, see the rcParam `figure.max_open_warning`).\n"
     ]
    },
    {
     "name": "stdout",
     "output_type": "stream",
     "text": [
      "Tue Jul 27 11:42:06 2021: Simulation Successful. Time elapsed 00:00:00:\n",
      "\n",
      "Normal access\n",
      "Tue Jul 27 11:42:06 2021 : Starting simulation 26\n"
     ]
    },
    {
     "name": "stderr",
     "output_type": "stream",
     "text": [
      "/Users/lukeqi/anaconda3/lib/python3.7/site-packages/ipykernel_launcher.py:24: RuntimeWarning: More than 20 figures have been opened. Figures created through the pyplot interface (`matplotlib.pyplot.figure`) are retained until explicitly closed and may consume too much memory. (To control this warning, see the rcParam `figure.max_open_warning`).\n"
     ]
    },
    {
     "name": "stdout",
     "output_type": "stream",
     "text": [
      "Tue Jul 27 11:42:07 2021: Simulation Successful. Time elapsed 00:00:00:\n",
      "\n",
      "Normal access\n"
     ]
    },
    {
     "name": "stderr",
     "output_type": "stream",
     "text": [
      "/Users/lukeqi/anaconda3/lib/python3.7/site-packages/ipykernel_launcher.py:24: RuntimeWarning: More than 20 figures have been opened. Figures created through the pyplot interface (`matplotlib.pyplot.figure`) are retained until explicitly closed and may consume too much memory. (To control this warning, see the rcParam `figure.max_open_warning`).\n"
     ]
    },
    {
     "ename": "KeyboardInterrupt",
     "evalue": "",
     "output_type": "error",
     "traceback": [
      "\u001b[0;31m---------------------------------------------------------------------------\u001b[0m",
      "\u001b[0;31mKeyboardInterrupt\u001b[0m                         Traceback (most recent call last)",
      "\u001b[0;32m<ipython-input-11-6cf993db0967>\u001b[0m in \u001b[0;36m<module>\u001b[0;34m\u001b[0m\n\u001b[1;32m     27\u001b[0m         \u001b[0mplt\u001b[0m\u001b[0;34m.\u001b[0m\u001b[0mplot\u001b[0m\u001b[0;34m(\u001b[0m\u001b[0mt_spice\u001b[0m\u001b[0;34m[\u001b[0m\u001b[0;34m:\u001b[0m\u001b[0mint\u001b[0m\u001b[0;34m(\u001b[0m\u001b[0mlen\u001b[0m\u001b[0;34m(\u001b[0m\u001b[0mt_spice\u001b[0m\u001b[0;34m)\u001b[0m\u001b[0;34m/\u001b[0m\u001b[0mperiods\u001b[0m\u001b[0;34m)\u001b[0m\u001b[0;34m]\u001b[0m\u001b[0;34m*\u001b[0m\u001b[0;36m1e6\u001b[0m\u001b[0;34m,\u001b[0m \u001b[0manalysis_output\u001b[0m\u001b[0;34m[\u001b[0m\u001b[0;34m:\u001b[0m\u001b[0mint\u001b[0m\u001b[0;34m(\u001b[0m\u001b[0mlen\u001b[0m\u001b[0;34m(\u001b[0m\u001b[0mt_spice\u001b[0m\u001b[0;34m)\u001b[0m\u001b[0;34m/\u001b[0m\u001b[0mperiods\u001b[0m\u001b[0;34m)\u001b[0m\u001b[0;34m]\u001b[0m\u001b[0;34m)\u001b[0m\u001b[0;34m\u001b[0m\u001b[0;34m\u001b[0m\u001b[0m\n\u001b[1;32m     28\u001b[0m         \u001b[0mplt\u001b[0m\u001b[0;34m.\u001b[0m\u001b[0mtitle\u001b[0m\u001b[0;34m(\u001b[0m\u001b[0mk\u001b[0m\u001b[0;34m)\u001b[0m\u001b[0;34m\u001b[0m\u001b[0;34m\u001b[0m\u001b[0m\n\u001b[0;32m---> 29\u001b[0;31m         \u001b[0mplt\u001b[0m\u001b[0;34m.\u001b[0m\u001b[0mtight_layout\u001b[0m\u001b[0;34m(\u001b[0m\u001b[0;34m)\u001b[0m\u001b[0;34m\u001b[0m\u001b[0;34m\u001b[0m\u001b[0m\n\u001b[0m\u001b[1;32m     30\u001b[0m \u001b[0;34m\u001b[0m\u001b[0m\n\u001b[1;32m     31\u001b[0m         \u001b[0;31m#### Sample deconvolved signal\u001b[0m\u001b[0;34m\u001b[0m\u001b[0;34m\u001b[0m\u001b[0;34m\u001b[0m\u001b[0m\n",
      "\u001b[0;32m~/anaconda3/lib/python3.7/site-packages/matplotlib/pyplot.py\u001b[0m in \u001b[0;36mtight_layout\u001b[0;34m(pad, h_pad, w_pad, rect)\u001b[0m\n\u001b[1;32m   1373\u001b[0m         labels) will fit into. Default is (0, 0, 1, 1).\n\u001b[1;32m   1374\u001b[0m     \"\"\"\n\u001b[0;32m-> 1375\u001b[0;31m     \u001b[0mgcf\u001b[0m\u001b[0;34m(\u001b[0m\u001b[0;34m)\u001b[0m\u001b[0;34m.\u001b[0m\u001b[0mtight_layout\u001b[0m\u001b[0;34m(\u001b[0m\u001b[0mpad\u001b[0m\u001b[0;34m=\u001b[0m\u001b[0mpad\u001b[0m\u001b[0;34m,\u001b[0m \u001b[0mh_pad\u001b[0m\u001b[0;34m=\u001b[0m\u001b[0mh_pad\u001b[0m\u001b[0;34m,\u001b[0m \u001b[0mw_pad\u001b[0m\u001b[0;34m=\u001b[0m\u001b[0mw_pad\u001b[0m\u001b[0;34m,\u001b[0m \u001b[0mrect\u001b[0m\u001b[0;34m=\u001b[0m\u001b[0mrect\u001b[0m\u001b[0;34m)\u001b[0m\u001b[0;34m\u001b[0m\u001b[0;34m\u001b[0m\u001b[0m\n\u001b[0m\u001b[1;32m   1376\u001b[0m \u001b[0;34m\u001b[0m\u001b[0m\n\u001b[1;32m   1377\u001b[0m \u001b[0;34m\u001b[0m\u001b[0m\n",
      "\u001b[0;32m~/anaconda3/lib/python3.7/site-packages/matplotlib/figure.py\u001b[0m in \u001b[0;36mtight_layout\u001b[0;34m(self, renderer, pad, h_pad, w_pad, rect)\u001b[0m\n\u001b[1;32m   2474\u001b[0m         kwargs = get_tight_layout_figure(\n\u001b[1;32m   2475\u001b[0m             \u001b[0mself\u001b[0m\u001b[0;34m,\u001b[0m \u001b[0mself\u001b[0m\u001b[0;34m.\u001b[0m\u001b[0maxes\u001b[0m\u001b[0;34m,\u001b[0m \u001b[0msubplotspec_list\u001b[0m\u001b[0;34m,\u001b[0m \u001b[0mrenderer\u001b[0m\u001b[0;34m,\u001b[0m\u001b[0;34m\u001b[0m\u001b[0;34m\u001b[0m\u001b[0m\n\u001b[0;32m-> 2476\u001b[0;31m             pad=pad, h_pad=h_pad, w_pad=w_pad, rect=rect)\n\u001b[0m\u001b[1;32m   2477\u001b[0m         \u001b[0;32mif\u001b[0m \u001b[0mkwargs\u001b[0m\u001b[0;34m:\u001b[0m\u001b[0;34m\u001b[0m\u001b[0;34m\u001b[0m\u001b[0m\n\u001b[1;32m   2478\u001b[0m             \u001b[0mself\u001b[0m\u001b[0;34m.\u001b[0m\u001b[0msubplots_adjust\u001b[0m\u001b[0;34m(\u001b[0m\u001b[0;34m**\u001b[0m\u001b[0mkwargs\u001b[0m\u001b[0;34m)\u001b[0m\u001b[0;34m\u001b[0m\u001b[0;34m\u001b[0m\u001b[0m\n",
      "\u001b[0;32m~/anaconda3/lib/python3.7/site-packages/matplotlib/tight_layout.py\u001b[0m in \u001b[0;36mget_tight_layout_figure\u001b[0;34m(fig, axes_list, subplotspec_list, renderer, pad, h_pad, w_pad, rect)\u001b[0m\n\u001b[1;32m    360\u001b[0m                                      \u001b[0msubplot_list\u001b[0m\u001b[0;34m=\u001b[0m\u001b[0msubplot_list\u001b[0m\u001b[0;34m,\u001b[0m\u001b[0;34m\u001b[0m\u001b[0;34m\u001b[0m\u001b[0m\n\u001b[1;32m    361\u001b[0m                                      \u001b[0max_bbox_list\u001b[0m\u001b[0;34m=\u001b[0m\u001b[0max_bbox_list\u001b[0m\u001b[0;34m,\u001b[0m\u001b[0;34m\u001b[0m\u001b[0;34m\u001b[0m\u001b[0m\n\u001b[0;32m--> 362\u001b[0;31m                                      pad=pad, h_pad=h_pad, w_pad=w_pad)\n\u001b[0m\u001b[1;32m    363\u001b[0m \u001b[0;34m\u001b[0m\u001b[0m\n\u001b[1;32m    364\u001b[0m     \u001b[0;31m# kwargs can be none if tight_layout fails...\u001b[0m\u001b[0;34m\u001b[0m\u001b[0;34m\u001b[0m\u001b[0;34m\u001b[0m\u001b[0m\n",
      "\u001b[0;32m~/anaconda3/lib/python3.7/site-packages/matplotlib/tight_layout.py\u001b[0m in \u001b[0;36mauto_adjust_subplotpars\u001b[0;34m(fig, renderer, nrows_ncols, num1num2_list, subplot_list, ax_bbox_list, pad, h_pad, w_pad, rect)\u001b[0m\n\u001b[1;32m    109\u001b[0m             \u001b[0;32mcontinue\u001b[0m\u001b[0;34m\u001b[0m\u001b[0;34m\u001b[0m\u001b[0m\n\u001b[1;32m    110\u001b[0m \u001b[0;34m\u001b[0m\u001b[0m\n\u001b[0;32m--> 111\u001b[0;31m         tight_bbox_raw = union([ax.get_tightbbox(renderer) for ax in subplots\n\u001b[0m\u001b[1;32m    112\u001b[0m                                 if ax.get_visible()])\n\u001b[1;32m    113\u001b[0m         tight_bbox = TransformedBbox(tight_bbox_raw,\n",
      "\u001b[0;32m~/anaconda3/lib/python3.7/site-packages/matplotlib/tight_layout.py\u001b[0m in \u001b[0;36m<listcomp>\u001b[0;34m(.0)\u001b[0m\n\u001b[1;32m    110\u001b[0m \u001b[0;34m\u001b[0m\u001b[0m\n\u001b[1;32m    111\u001b[0m         tight_bbox_raw = union([ax.get_tightbbox(renderer) for ax in subplots\n\u001b[0;32m--> 112\u001b[0;31m                                 if ax.get_visible()])\n\u001b[0m\u001b[1;32m    113\u001b[0m         tight_bbox = TransformedBbox(tight_bbox_raw,\n\u001b[1;32m    114\u001b[0m                                      fig.transFigure.inverted())\n",
      "\u001b[0;32m~/anaconda3/lib/python3.7/site-packages/matplotlib/axes/_base.py\u001b[0m in \u001b[0;36mget_tightbbox\u001b[0;34m(self, renderer, call_axes_locator, bbox_extra_artists)\u001b[0m\n\u001b[1;32m   4355\u001b[0m \u001b[0;34m\u001b[0m\u001b[0m\n\u001b[1;32m   4356\u001b[0m         \u001b[0;32mif\u001b[0m \u001b[0mself\u001b[0m\u001b[0;34m.\u001b[0m\u001b[0maxison\u001b[0m\u001b[0;34m:\u001b[0m\u001b[0;34m\u001b[0m\u001b[0;34m\u001b[0m\u001b[0m\n\u001b[0;32m-> 4357\u001b[0;31m             \u001b[0mbb_xaxis\u001b[0m \u001b[0;34m=\u001b[0m \u001b[0mself\u001b[0m\u001b[0;34m.\u001b[0m\u001b[0mxaxis\u001b[0m\u001b[0;34m.\u001b[0m\u001b[0mget_tightbbox\u001b[0m\u001b[0;34m(\u001b[0m\u001b[0mrenderer\u001b[0m\u001b[0;34m)\u001b[0m\u001b[0;34m\u001b[0m\u001b[0;34m\u001b[0m\u001b[0m\n\u001b[0m\u001b[1;32m   4358\u001b[0m             \u001b[0;32mif\u001b[0m \u001b[0mbb_xaxis\u001b[0m\u001b[0;34m:\u001b[0m\u001b[0;34m\u001b[0m\u001b[0;34m\u001b[0m\u001b[0m\n\u001b[1;32m   4359\u001b[0m                 \u001b[0mbb\u001b[0m\u001b[0;34m.\u001b[0m\u001b[0mappend\u001b[0m\u001b[0;34m(\u001b[0m\u001b[0mbb_xaxis\u001b[0m\u001b[0;34m)\u001b[0m\u001b[0;34m\u001b[0m\u001b[0;34m\u001b[0m\u001b[0m\n",
      "\u001b[0;32m~/anaconda3/lib/python3.7/site-packages/matplotlib/axis.py\u001b[0m in \u001b[0;36mget_tightbbox\u001b[0;34m(self, renderer)\u001b[0m\n\u001b[1;32m   1160\u001b[0m             \u001b[0;32mreturn\u001b[0m\u001b[0;34m\u001b[0m\u001b[0;34m\u001b[0m\u001b[0m\n\u001b[1;32m   1161\u001b[0m \u001b[0;34m\u001b[0m\u001b[0m\n\u001b[0;32m-> 1162\u001b[0;31m         \u001b[0mticks_to_draw\u001b[0m \u001b[0;34m=\u001b[0m \u001b[0mself\u001b[0m\u001b[0;34m.\u001b[0m\u001b[0m_update_ticks\u001b[0m\u001b[0;34m(\u001b[0m\u001b[0;34m)\u001b[0m\u001b[0;34m\u001b[0m\u001b[0;34m\u001b[0m\u001b[0m\n\u001b[0m\u001b[1;32m   1163\u001b[0m \u001b[0;34m\u001b[0m\u001b[0m\n\u001b[1;32m   1164\u001b[0m         \u001b[0mself\u001b[0m\u001b[0;34m.\u001b[0m\u001b[0m_update_label_position\u001b[0m\u001b[0;34m(\u001b[0m\u001b[0mrenderer\u001b[0m\u001b[0;34m)\u001b[0m\u001b[0;34m\u001b[0m\u001b[0;34m\u001b[0m\u001b[0m\n",
      "\u001b[0;32m~/anaconda3/lib/python3.7/site-packages/matplotlib/axis.py\u001b[0m in \u001b[0;36m_update_ticks\u001b[0;34m(self)\u001b[0m\n\u001b[1;32m   1077\u001b[0m         \u001b[0mthe\u001b[0m \u001b[0maxes\u001b[0m\u001b[0;34m.\u001b[0m  \u001b[0mReturn\u001b[0m \u001b[0mthe\u001b[0m \u001b[0mlist\u001b[0m \u001b[0mof\u001b[0m \u001b[0mticks\u001b[0m \u001b[0mthat\u001b[0m \u001b[0mwill\u001b[0m \u001b[0mbe\u001b[0m \u001b[0mdrawn\u001b[0m\u001b[0;34m.\u001b[0m\u001b[0;34m\u001b[0m\u001b[0;34m\u001b[0m\u001b[0m\n\u001b[1;32m   1078\u001b[0m         \"\"\"\n\u001b[0;32m-> 1079\u001b[0;31m         \u001b[0mmajor_locs\u001b[0m \u001b[0;34m=\u001b[0m \u001b[0mself\u001b[0m\u001b[0;34m.\u001b[0m\u001b[0mget_majorticklocs\u001b[0m\u001b[0;34m(\u001b[0m\u001b[0;34m)\u001b[0m\u001b[0;34m\u001b[0m\u001b[0;34m\u001b[0m\u001b[0m\n\u001b[0m\u001b[1;32m   1080\u001b[0m         \u001b[0mmajor_labels\u001b[0m \u001b[0;34m=\u001b[0m \u001b[0mself\u001b[0m\u001b[0;34m.\u001b[0m\u001b[0mmajor\u001b[0m\u001b[0;34m.\u001b[0m\u001b[0mformatter\u001b[0m\u001b[0;34m.\u001b[0m\u001b[0mformat_ticks\u001b[0m\u001b[0;34m(\u001b[0m\u001b[0mmajor_locs\u001b[0m\u001b[0;34m)\u001b[0m\u001b[0;34m\u001b[0m\u001b[0;34m\u001b[0m\u001b[0m\n\u001b[1;32m   1081\u001b[0m         \u001b[0mmajor_ticks\u001b[0m \u001b[0;34m=\u001b[0m \u001b[0mself\u001b[0m\u001b[0;34m.\u001b[0m\u001b[0mget_major_ticks\u001b[0m\u001b[0;34m(\u001b[0m\u001b[0mlen\u001b[0m\u001b[0;34m(\u001b[0m\u001b[0mmajor_locs\u001b[0m\u001b[0;34m)\u001b[0m\u001b[0;34m)\u001b[0m\u001b[0;34m\u001b[0m\u001b[0;34m\u001b[0m\u001b[0m\n",
      "\u001b[0;32m~/anaconda3/lib/python3.7/site-packages/matplotlib/axis.py\u001b[0m in \u001b[0;36mget_majorticklocs\u001b[0;34m(self)\u001b[0m\n\u001b[1;32m   1322\u001b[0m     \u001b[0;32mdef\u001b[0m \u001b[0mget_majorticklocs\u001b[0m\u001b[0;34m(\u001b[0m\u001b[0mself\u001b[0m\u001b[0;34m)\u001b[0m\u001b[0;34m:\u001b[0m\u001b[0;34m\u001b[0m\u001b[0;34m\u001b[0m\u001b[0m\n\u001b[1;32m   1323\u001b[0m         \u001b[0;34m\"\"\"Get the array of major tick locations in data coordinates.\"\"\"\u001b[0m\u001b[0;34m\u001b[0m\u001b[0;34m\u001b[0m\u001b[0m\n\u001b[0;32m-> 1324\u001b[0;31m         \u001b[0;32mreturn\u001b[0m \u001b[0mself\u001b[0m\u001b[0;34m.\u001b[0m\u001b[0mmajor\u001b[0m\u001b[0;34m.\u001b[0m\u001b[0mlocator\u001b[0m\u001b[0;34m(\u001b[0m\u001b[0;34m)\u001b[0m\u001b[0;34m\u001b[0m\u001b[0;34m\u001b[0m\u001b[0m\n\u001b[0m\u001b[1;32m   1325\u001b[0m \u001b[0;34m\u001b[0m\u001b[0m\n\u001b[1;32m   1326\u001b[0m     \u001b[0;32mdef\u001b[0m \u001b[0mget_minorticklocs\u001b[0m\u001b[0;34m(\u001b[0m\u001b[0mself\u001b[0m\u001b[0;34m)\u001b[0m\u001b[0;34m:\u001b[0m\u001b[0;34m\u001b[0m\u001b[0;34m\u001b[0m\u001b[0m\n",
      "\u001b[0;32m~/anaconda3/lib/python3.7/site-packages/matplotlib/ticker.py\u001b[0m in \u001b[0;36m__call__\u001b[0;34m(self)\u001b[0m\n\u001b[1;32m   2079\u001b[0m     \u001b[0;32mdef\u001b[0m \u001b[0m__call__\u001b[0m\u001b[0;34m(\u001b[0m\u001b[0mself\u001b[0m\u001b[0;34m)\u001b[0m\u001b[0;34m:\u001b[0m\u001b[0;34m\u001b[0m\u001b[0;34m\u001b[0m\u001b[0m\n\u001b[1;32m   2080\u001b[0m         \u001b[0mvmin\u001b[0m\u001b[0;34m,\u001b[0m \u001b[0mvmax\u001b[0m \u001b[0;34m=\u001b[0m \u001b[0mself\u001b[0m\u001b[0;34m.\u001b[0m\u001b[0maxis\u001b[0m\u001b[0;34m.\u001b[0m\u001b[0mget_view_interval\u001b[0m\u001b[0;34m(\u001b[0m\u001b[0;34m)\u001b[0m\u001b[0;34m\u001b[0m\u001b[0;34m\u001b[0m\u001b[0m\n\u001b[0;32m-> 2081\u001b[0;31m         \u001b[0;32mreturn\u001b[0m \u001b[0mself\u001b[0m\u001b[0;34m.\u001b[0m\u001b[0mtick_values\u001b[0m\u001b[0;34m(\u001b[0m\u001b[0mvmin\u001b[0m\u001b[0;34m,\u001b[0m \u001b[0mvmax\u001b[0m\u001b[0;34m)\u001b[0m\u001b[0;34m\u001b[0m\u001b[0;34m\u001b[0m\u001b[0m\n\u001b[0m\u001b[1;32m   2082\u001b[0m \u001b[0;34m\u001b[0m\u001b[0m\n\u001b[1;32m   2083\u001b[0m     \u001b[0;32mdef\u001b[0m \u001b[0mtick_values\u001b[0m\u001b[0;34m(\u001b[0m\u001b[0mself\u001b[0m\u001b[0;34m,\u001b[0m \u001b[0mvmin\u001b[0m\u001b[0;34m,\u001b[0m \u001b[0mvmax\u001b[0m\u001b[0;34m)\u001b[0m\u001b[0;34m:\u001b[0m\u001b[0;34m\u001b[0m\u001b[0;34m\u001b[0m\u001b[0m\n",
      "\u001b[0;32m~/anaconda3/lib/python3.7/site-packages/matplotlib/ticker.py\u001b[0m in \u001b[0;36mtick_values\u001b[0;34m(self, vmin, vmax)\u001b[0m\n\u001b[1;32m   2087\u001b[0m         vmin, vmax = mtransforms.nonsingular(\n\u001b[1;32m   2088\u001b[0m             vmin, vmax, expander=1e-13, tiny=1e-14)\n\u001b[0;32m-> 2089\u001b[0;31m         \u001b[0mlocs\u001b[0m \u001b[0;34m=\u001b[0m \u001b[0mself\u001b[0m\u001b[0;34m.\u001b[0m\u001b[0m_raw_ticks\u001b[0m\u001b[0;34m(\u001b[0m\u001b[0mvmin\u001b[0m\u001b[0;34m,\u001b[0m \u001b[0mvmax\u001b[0m\u001b[0;34m)\u001b[0m\u001b[0;34m\u001b[0m\u001b[0;34m\u001b[0m\u001b[0m\n\u001b[0m\u001b[1;32m   2090\u001b[0m \u001b[0;34m\u001b[0m\u001b[0m\n\u001b[1;32m   2091\u001b[0m         \u001b[0mprune\u001b[0m \u001b[0;34m=\u001b[0m \u001b[0mself\u001b[0m\u001b[0;34m.\u001b[0m\u001b[0m_prune\u001b[0m\u001b[0;34m\u001b[0m\u001b[0;34m\u001b[0m\u001b[0m\n",
      "\u001b[0;32m~/anaconda3/lib/python3.7/site-packages/matplotlib/ticker.py\u001b[0m in \u001b[0;36m_raw_ticks\u001b[0;34m(self, vmin, vmax)\u001b[0m\n\u001b[1;32m   2026\u001b[0m         \u001b[0;32mif\u001b[0m \u001b[0mself\u001b[0m\u001b[0;34m.\u001b[0m\u001b[0m_nbins\u001b[0m \u001b[0;34m==\u001b[0m \u001b[0;34m'auto'\u001b[0m\u001b[0;34m:\u001b[0m\u001b[0;34m\u001b[0m\u001b[0;34m\u001b[0m\u001b[0m\n\u001b[1;32m   2027\u001b[0m             \u001b[0;32mif\u001b[0m \u001b[0mself\u001b[0m\u001b[0;34m.\u001b[0m\u001b[0maxis\u001b[0m \u001b[0;32mis\u001b[0m \u001b[0;32mnot\u001b[0m \u001b[0;32mNone\u001b[0m\u001b[0;34m:\u001b[0m\u001b[0;34m\u001b[0m\u001b[0;34m\u001b[0m\u001b[0m\n\u001b[0;32m-> 2028\u001b[0;31m                 nbins = np.clip(self.axis.get_tick_space(),\n\u001b[0m\u001b[1;32m   2029\u001b[0m                                 max(1, self._min_n_ticks - 1), 9)\n\u001b[1;32m   2030\u001b[0m             \u001b[0;32melse\u001b[0m\u001b[0;34m:\u001b[0m\u001b[0;34m\u001b[0m\u001b[0;34m\u001b[0m\u001b[0m\n",
      "\u001b[0;32m~/anaconda3/lib/python3.7/site-packages/matplotlib/axis.py\u001b[0m in \u001b[0;36mget_tick_space\u001b[0;34m(self)\u001b[0m\n\u001b[1;32m   2181\u001b[0m         \u001b[0mends\u001b[0m \u001b[0;34m=\u001b[0m \u001b[0mself\u001b[0m\u001b[0;34m.\u001b[0m\u001b[0maxes\u001b[0m\u001b[0;34m.\u001b[0m\u001b[0mtransAxes\u001b[0m\u001b[0;34m.\u001b[0m\u001b[0mtransform\u001b[0m\u001b[0;34m(\u001b[0m\u001b[0;34m[\u001b[0m\u001b[0;34m[\u001b[0m\u001b[0;36m0\u001b[0m\u001b[0;34m,\u001b[0m \u001b[0;36m0\u001b[0m\u001b[0;34m]\u001b[0m\u001b[0;34m,\u001b[0m \u001b[0;34m[\u001b[0m\u001b[0;36m1\u001b[0m\u001b[0;34m,\u001b[0m \u001b[0;36m0\u001b[0m\u001b[0;34m]\u001b[0m\u001b[0;34m]\u001b[0m\u001b[0;34m)\u001b[0m\u001b[0;34m\u001b[0m\u001b[0;34m\u001b[0m\u001b[0m\n\u001b[1;32m   2182\u001b[0m         \u001b[0mlength\u001b[0m \u001b[0;34m=\u001b[0m \u001b[0;34m(\u001b[0m\u001b[0;34m(\u001b[0m\u001b[0mends\u001b[0m\u001b[0;34m[\u001b[0m\u001b[0;36m1\u001b[0m\u001b[0;34m]\u001b[0m\u001b[0;34m[\u001b[0m\u001b[0;36m0\u001b[0m\u001b[0;34m]\u001b[0m \u001b[0;34m-\u001b[0m \u001b[0mends\u001b[0m\u001b[0;34m[\u001b[0m\u001b[0;36m0\u001b[0m\u001b[0;34m]\u001b[0m\u001b[0;34m[\u001b[0m\u001b[0;36m0\u001b[0m\u001b[0;34m]\u001b[0m\u001b[0;34m)\u001b[0m \u001b[0;34m/\u001b[0m \u001b[0mself\u001b[0m\u001b[0;34m.\u001b[0m\u001b[0maxes\u001b[0m\u001b[0;34m.\u001b[0m\u001b[0mfigure\u001b[0m\u001b[0;34m.\u001b[0m\u001b[0mdpi\u001b[0m\u001b[0;34m)\u001b[0m \u001b[0;34m*\u001b[0m \u001b[0;36m72\u001b[0m\u001b[0;34m\u001b[0m\u001b[0;34m\u001b[0m\u001b[0m\n\u001b[0;32m-> 2183\u001b[0;31m         \u001b[0mtick\u001b[0m \u001b[0;34m=\u001b[0m \u001b[0mself\u001b[0m\u001b[0;34m.\u001b[0m\u001b[0m_get_tick\u001b[0m\u001b[0;34m(\u001b[0m\u001b[0;32mTrue\u001b[0m\u001b[0;34m)\u001b[0m\u001b[0;34m\u001b[0m\u001b[0;34m\u001b[0m\u001b[0m\n\u001b[0m\u001b[1;32m   2184\u001b[0m         \u001b[0;31m# There is a heuristic here that the aspect ratio of tick text\u001b[0m\u001b[0;34m\u001b[0m\u001b[0;34m\u001b[0m\u001b[0;34m\u001b[0m\u001b[0m\n\u001b[1;32m   2185\u001b[0m         \u001b[0;31m# is no more than 3:1\u001b[0m\u001b[0;34m\u001b[0m\u001b[0;34m\u001b[0m\u001b[0;34m\u001b[0m\u001b[0m\n",
      "\u001b[0;32m~/anaconda3/lib/python3.7/site-packages/matplotlib/axis.py\u001b[0m in \u001b[0;36m_get_tick\u001b[0;34m(self, major)\u001b[0m\n\u001b[1;32m   1931\u001b[0m         \u001b[0;32melse\u001b[0m\u001b[0;34m:\u001b[0m\u001b[0;34m\u001b[0m\u001b[0;34m\u001b[0m\u001b[0m\n\u001b[1;32m   1932\u001b[0m             \u001b[0mtick_kw\u001b[0m \u001b[0;34m=\u001b[0m \u001b[0mself\u001b[0m\u001b[0;34m.\u001b[0m\u001b[0m_minor_tick_kw\u001b[0m\u001b[0;34m\u001b[0m\u001b[0;34m\u001b[0m\u001b[0m\n\u001b[0;32m-> 1933\u001b[0;31m         \u001b[0;32mreturn\u001b[0m \u001b[0mXTick\u001b[0m\u001b[0;34m(\u001b[0m\u001b[0mself\u001b[0m\u001b[0;34m.\u001b[0m\u001b[0maxes\u001b[0m\u001b[0;34m,\u001b[0m \u001b[0;36m0\u001b[0m\u001b[0;34m,\u001b[0m \u001b[0;34m''\u001b[0m\u001b[0;34m,\u001b[0m \u001b[0mmajor\u001b[0m\u001b[0;34m=\u001b[0m\u001b[0mmajor\u001b[0m\u001b[0;34m,\u001b[0m \u001b[0;34m**\u001b[0m\u001b[0mtick_kw\u001b[0m\u001b[0;34m)\u001b[0m\u001b[0;34m\u001b[0m\u001b[0;34m\u001b[0m\u001b[0m\n\u001b[0m\u001b[1;32m   1934\u001b[0m \u001b[0;34m\u001b[0m\u001b[0m\n\u001b[1;32m   1935\u001b[0m     \u001b[0;32mdef\u001b[0m \u001b[0m_get_label\u001b[0m\u001b[0;34m(\u001b[0m\u001b[0mself\u001b[0m\u001b[0;34m)\u001b[0m\u001b[0;34m:\u001b[0m\u001b[0;34m\u001b[0m\u001b[0;34m\u001b[0m\u001b[0m\n",
      "\u001b[0;32m~/anaconda3/lib/python3.7/site-packages/matplotlib/axis.py\u001b[0m in \u001b[0;36m__init__\u001b[0;34m(self, axes, loc, label, size, width, color, tickdir, pad, labelsize, labelcolor, zorder, gridOn, tick1On, tick2On, label1On, label2On, major, labelrotation, grid_color, grid_linestyle, grid_linewidth, grid_alpha, **kw)\u001b[0m\n\u001b[1;32m    158\u001b[0m         \u001b[0mself\u001b[0m\u001b[0;34m.\u001b[0m\u001b[0mtick1line\u001b[0m \u001b[0;34m=\u001b[0m \u001b[0mself\u001b[0m\u001b[0;34m.\u001b[0m\u001b[0m_get_tick1line\u001b[0m\u001b[0;34m(\u001b[0m\u001b[0;34m)\u001b[0m\u001b[0;34m\u001b[0m\u001b[0;34m\u001b[0m\u001b[0m\n\u001b[1;32m    159\u001b[0m         \u001b[0mself\u001b[0m\u001b[0;34m.\u001b[0m\u001b[0mtick2line\u001b[0m \u001b[0;34m=\u001b[0m \u001b[0mself\u001b[0m\u001b[0;34m.\u001b[0m\u001b[0m_get_tick2line\u001b[0m\u001b[0;34m(\u001b[0m\u001b[0;34m)\u001b[0m\u001b[0;34m\u001b[0m\u001b[0;34m\u001b[0m\u001b[0m\n\u001b[0;32m--> 160\u001b[0;31m         \u001b[0mself\u001b[0m\u001b[0;34m.\u001b[0m\u001b[0mgridline\u001b[0m \u001b[0;34m=\u001b[0m \u001b[0mself\u001b[0m\u001b[0;34m.\u001b[0m\u001b[0m_get_gridline\u001b[0m\u001b[0;34m(\u001b[0m\u001b[0;34m)\u001b[0m\u001b[0;34m\u001b[0m\u001b[0;34m\u001b[0m\u001b[0m\n\u001b[0m\u001b[1;32m    161\u001b[0m         \u001b[0mself\u001b[0m\u001b[0;34m.\u001b[0m\u001b[0mlabel1\u001b[0m \u001b[0;34m=\u001b[0m \u001b[0mself\u001b[0m\u001b[0;34m.\u001b[0m\u001b[0m_get_text1\u001b[0m\u001b[0;34m(\u001b[0m\u001b[0;34m)\u001b[0m\u001b[0;34m\u001b[0m\u001b[0;34m\u001b[0m\u001b[0m\n\u001b[1;32m    162\u001b[0m         \u001b[0mself\u001b[0m\u001b[0;34m.\u001b[0m\u001b[0mlabel2\u001b[0m \u001b[0;34m=\u001b[0m \u001b[0mself\u001b[0m\u001b[0;34m.\u001b[0m\u001b[0m_get_text2\u001b[0m\u001b[0;34m(\u001b[0m\u001b[0;34m)\u001b[0m\u001b[0;34m\u001b[0m\u001b[0;34m\u001b[0m\u001b[0m\n",
      "\u001b[0;32m~/anaconda3/lib/python3.7/site-packages/matplotlib/axis.py\u001b[0m in \u001b[0;36m_get_gridline\u001b[0;34m(self)\u001b[0m\n\u001b[1;32m    493\u001b[0m                           **self._grid_kw)\n\u001b[1;32m    494\u001b[0m         \u001b[0ml\u001b[0m\u001b[0;34m.\u001b[0m\u001b[0mset_transform\u001b[0m\u001b[0;34m(\u001b[0m\u001b[0mself\u001b[0m\u001b[0;34m.\u001b[0m\u001b[0maxes\u001b[0m\u001b[0;34m.\u001b[0m\u001b[0mget_xaxis_transform\u001b[0m\u001b[0;34m(\u001b[0m\u001b[0mwhich\u001b[0m\u001b[0;34m=\u001b[0m\u001b[0;34m'grid'\u001b[0m\u001b[0;34m)\u001b[0m\u001b[0;34m)\u001b[0m\u001b[0;34m\u001b[0m\u001b[0;34m\u001b[0m\u001b[0m\n\u001b[0;32m--> 495\u001b[0;31m         \u001b[0ml\u001b[0m\u001b[0;34m.\u001b[0m\u001b[0mget_path\u001b[0m\u001b[0;34m(\u001b[0m\u001b[0;34m)\u001b[0m\u001b[0;34m.\u001b[0m\u001b[0m_interpolation_steps\u001b[0m \u001b[0;34m=\u001b[0m \u001b[0mGRIDLINE_INTERPOLATION_STEPS\u001b[0m\u001b[0;34m\u001b[0m\u001b[0;34m\u001b[0m\u001b[0m\n\u001b[0m\u001b[1;32m    496\u001b[0m         \u001b[0mself\u001b[0m\u001b[0;34m.\u001b[0m\u001b[0m_set_artist_props\u001b[0m\u001b[0;34m(\u001b[0m\u001b[0ml\u001b[0m\u001b[0;34m)\u001b[0m\u001b[0;34m\u001b[0m\u001b[0;34m\u001b[0m\u001b[0m\n\u001b[1;32m    497\u001b[0m \u001b[0;34m\u001b[0m\u001b[0m\n",
      "\u001b[0;32m~/anaconda3/lib/python3.7/site-packages/matplotlib/lines.py\u001b[0m in \u001b[0;36mget_path\u001b[0;34m(self)\u001b[0m\n\u001b[1;32m   1025\u001b[0m         \"\"\"\n\u001b[1;32m   1026\u001b[0m         \u001b[0;32mif\u001b[0m \u001b[0mself\u001b[0m\u001b[0;34m.\u001b[0m\u001b[0m_invalidy\u001b[0m \u001b[0;32mor\u001b[0m \u001b[0mself\u001b[0m\u001b[0;34m.\u001b[0m\u001b[0m_invalidx\u001b[0m\u001b[0;34m:\u001b[0m\u001b[0;34m\u001b[0m\u001b[0;34m\u001b[0m\u001b[0m\n\u001b[0;32m-> 1027\u001b[0;31m             \u001b[0mself\u001b[0m\u001b[0;34m.\u001b[0m\u001b[0mrecache\u001b[0m\u001b[0;34m(\u001b[0m\u001b[0;34m)\u001b[0m\u001b[0;34m\u001b[0m\u001b[0;34m\u001b[0m\u001b[0m\n\u001b[0m\u001b[1;32m   1028\u001b[0m         \u001b[0;32mreturn\u001b[0m \u001b[0mself\u001b[0m\u001b[0;34m.\u001b[0m\u001b[0m_path\u001b[0m\u001b[0;34m\u001b[0m\u001b[0;34m\u001b[0m\u001b[0m\n\u001b[1;32m   1029\u001b[0m \u001b[0;34m\u001b[0m\u001b[0m\n",
      "\u001b[0;32m~/anaconda3/lib/python3.7/site-packages/matplotlib/lines.py\u001b[0m in \u001b[0;36mrecache\u001b[0;34m(self, always)\u001b[0m\n\u001b[1;32m    702\u001b[0m         \u001b[0mxy\u001b[0m \u001b[0;34m=\u001b[0m \u001b[0mSTEP_LOOKUP_MAP\u001b[0m\u001b[0;34m[\u001b[0m\u001b[0mself\u001b[0m\u001b[0;34m.\u001b[0m\u001b[0m_drawstyle\u001b[0m\u001b[0;34m]\u001b[0m\u001b[0;34m(\u001b[0m\u001b[0;34m*\u001b[0m\u001b[0mself\u001b[0m\u001b[0;34m.\u001b[0m\u001b[0m_xy\u001b[0m\u001b[0;34m.\u001b[0m\u001b[0mT\u001b[0m\u001b[0;34m)\u001b[0m\u001b[0;34m\u001b[0m\u001b[0;34m\u001b[0m\u001b[0m\n\u001b[1;32m    703\u001b[0m         self._path = Path(np.asarray(xy).T,\n\u001b[0;32m--> 704\u001b[0;31m                           _interpolation_steps=interpolation_steps)\n\u001b[0m\u001b[1;32m    705\u001b[0m         \u001b[0mself\u001b[0m\u001b[0;34m.\u001b[0m\u001b[0m_transformed_path\u001b[0m \u001b[0;34m=\u001b[0m \u001b[0;32mNone\u001b[0m\u001b[0;34m\u001b[0m\u001b[0;34m\u001b[0m\u001b[0m\n\u001b[1;32m    706\u001b[0m         \u001b[0mself\u001b[0m\u001b[0;34m.\u001b[0m\u001b[0m_invalidx\u001b[0m \u001b[0;34m=\u001b[0m \u001b[0;32mFalse\u001b[0m\u001b[0;34m\u001b[0m\u001b[0;34m\u001b[0m\u001b[0m\n",
      "\u001b[0;32m~/anaconda3/lib/python3.7/site-packages/matplotlib/path.py\u001b[0m in \u001b[0;36m__init__\u001b[0;34m(self, vertices, codes, _interpolation_steps, closed, readonly)\u001b[0m\n\u001b[1;32m    125\u001b[0m             \u001b[0;32mand\u001b[0m \u001b[0mcodes\u001b[0m \u001b[0;32mas\u001b[0m \u001b[0mread\u001b[0m\u001b[0;34m-\u001b[0m\u001b[0monly\u001b[0m \u001b[0marrays\u001b[0m\u001b[0;34m.\u001b[0m\u001b[0;34m\u001b[0m\u001b[0;34m\u001b[0m\u001b[0m\n\u001b[1;32m    126\u001b[0m         \"\"\"\n\u001b[0;32m--> 127\u001b[0;31m         \u001b[0mvertices\u001b[0m \u001b[0;34m=\u001b[0m \u001b[0m_to_unmasked_float_array\u001b[0m\u001b[0;34m(\u001b[0m\u001b[0mvertices\u001b[0m\u001b[0;34m)\u001b[0m\u001b[0;34m\u001b[0m\u001b[0;34m\u001b[0m\u001b[0m\n\u001b[0m\u001b[1;32m    128\u001b[0m         \u001b[0;32mif\u001b[0m \u001b[0mvertices\u001b[0m\u001b[0;34m.\u001b[0m\u001b[0mndim\u001b[0m \u001b[0;34m!=\u001b[0m \u001b[0;36m2\u001b[0m \u001b[0;32mor\u001b[0m \u001b[0mvertices\u001b[0m\u001b[0;34m.\u001b[0m\u001b[0mshape\u001b[0m\u001b[0;34m[\u001b[0m\u001b[0;36m1\u001b[0m\u001b[0;34m]\u001b[0m \u001b[0;34m!=\u001b[0m \u001b[0;36m2\u001b[0m\u001b[0;34m:\u001b[0m\u001b[0;34m\u001b[0m\u001b[0;34m\u001b[0m\u001b[0m\n\u001b[1;32m    129\u001b[0m             raise ValueError(\n",
      "\u001b[0;31mKeyboardInterrupt\u001b[0m: "
     ]
    }
   ],
   "source": [
    "x_n = {}\n",
    "SNR = np.array([1e6 if w < 120e3 else 500 if w < 360e3 else 10 for w in h_w])\n",
    "for k, v in v_ideal_deconv.items():\n",
    "    if k not in x_n.keys():\n",
    "#     if k == 'S12':\n",
    "        #### FFT of ideal v(t)\n",
    "        v_t = v.__call__(t_fft%(2*T0))\n",
    "        vavg = np.average(v_t)\n",
    "        v_t -= vavg\n",
    "        v_fft = np.fft.rfft(v_t, N)\n",
    "        v_t += vavg\n",
    "\n",
    "        #### Wiener deconvolution\n",
    "        x_fft = v_fft/(h_fft*(1+1/(np.abs(h_fft)**2*SNR)))\n",
    "        x_t = np.fft.irfft(x_fft, N)\n",
    "        x_t = x_t[:M] + vavg\n",
    "\n",
    "        #### SPICE sim of deconvolved input\n",
    "        tevents, vevents = set_vinput(x_t, dx, st, slew_rate)\n",
    "        LTR = run_spice_sim(t_fft[-1], st, 3)\n",
    "        analysis_output = LTR.get_trace(\"V(ion)\").get_wave(0)\n",
    "        t_spice = LTR.get_trace('time').get_time_axis(0)\n",
    "\n",
    "        plt.figure(k, (19, 9))\n",
    "        plt.plot(t_fft[:int(len(t_fft)/periods)]*1e6, x_t[:int(len(t_fft)/periods)], 'r-.')\n",
    "        plt.plot(t_fft[:int(len(t_fft)/periods)]*1e6, v_t[:int(len(t_fft)/periods)], 'k--')\n",
    "        plt.plot(t_spice[:int(len(t_spice)/periods)]*1e6, analysis_output[:int(len(t_spice)/periods)])\n",
    "        plt.title(k)\n",
    "        plt.tight_layout()\n",
    "\n",
    "        #### Sample deconvolved signal\n",
    "        x_n[k] = interp1d(t_fft, x_t).__call__([(n+0.5)*dt for n in range(Ntot+endbuffer)])"
   ]
  },
  {
   "cell_type": "markdown",
   "metadata": {},
   "source": [
    "## Optimization"
   ]
  },
  {
   "cell_type": "code",
   "execution_count": null,
   "metadata": {},
   "outputs": [],
   "source": [
    "plt.plot(t_cost, np.gradient(v_ideal_tweak['N9'].__call__(t_cost))*20)\n",
    "plt.plot(t_cost[:-2], np.gradient(v_exp['N9'].__call__(t_cost[:-2]))*20)"
   ]
  },
  {
   "cell_type": "code",
   "execution_count": null,
   "metadata": {},
   "outputs": [],
   "source": [
    "plt.plot(t_cost, v_ideal_tweak['S13'].__call__(t_cost))"
   ]
  },
  {
   "cell_type": "code",
   "execution_count": 9,
   "metadata": {
    "code_folding": [
     0,
     10,
     29,
     42,
     50,
     53,
     66,
     74,
     77,
     79,
     123
    ]
   },
   "outputs": [],
   "source": [
    "def float_to_16bit(n):\n",
    "    ''' n is an array of floats\n",
    "    DAC resolution is 16-bit from -10V to 10V '''\n",
    "    bit16 = 2**16-1\n",
    "    if type(n) == 'float':\n",
    "        return int((n+10)/20*bit16)/bit16*20-10\n",
    "    return [int((i+10)/20*bit16)/bit16*20-10 for i in n]\n",
    "\n",
    "prevx = []\n",
    "prev_elv = []\n",
    "def spice_sim_cost(x, *args):\n",
    "    ''' x is a list of input voltages of length N\n",
    "        returns cost function between SPICE output and idealized potential q(t) '''    \n",
    "    global prevx\n",
    "    global prev_elv\n",
    "    global electrode_ordering\n",
    "    t = args[0]\n",
    "    q = args[1]\n",
    "    endsim = t[-1]+0.5*dt\n",
    "    x = x.reshape(-1, N0)\n",
    "    beginv = np.repeat(args[3][0], args[2][0], axis=1)\n",
    "    endv = np.repeat(args[3][-1], args[2][-1], axis=1)\n",
    "    if args[3]:\n",
    "        x = np.concatenate((beginv, x, endv), axis=1)\n",
    "    \n",
    "    #### Spice simulation of all the electrodes\n",
    "    v_output = []\n",
    "    electrodev = []\n",
    "    for k in electrode_ordering:\n",
    "        if k == 'S13':\n",
    "            if list(x[0]) not in prevx:\n",
    "                set_vinput(x[0], dt, st, slew_rate)\n",
    "\n",
    "                LTR = run_spice_sim(endsim, st, 25)\n",
    "                analysis_output = LTR.get_trace('V(ion)').get_wave(0)\n",
    "                t_spice = LTR.get_trace('time').get_time_axis(0)\n",
    "                v_output.append(interp1d(t_spice, analysis_output).__call__(t))\n",
    "                electrodev.append(interp1d(t_spice, analysis_output).__call__(t))\n",
    "            else:\n",
    "                v_output.append(prev_elv[0])\n",
    "                electrodev.append(prev_elv[0])\n",
    "        elif k == 'N8':\n",
    "            if list(x[1]) not in prevx:\n",
    "                set_vinput(x[1], dt, st, slew_rate)\n",
    "\n",
    "                LTR = run_spice_sim(endsim, st, 25)\n",
    "                analysis_output = LTR.get_trace('V(ion)').get_wave(0)\n",
    "                t_spice = LTR.get_trace('time').get_time_axis(0)\n",
    "                v_output.append(interp1d(t_spice, analysis_output).__call__(t))\n",
    "                electrodev.append(interp1d(t_spice, analysis_output).__call__(t))\n",
    "            else:\n",
    "                v_output.append(prev_elv[1])\n",
    "                electrodev.append(prev_elv[1])\n",
    "        elif k == 'S12':\n",
    "            if list(x[2]) not in prevx:\n",
    "                set_vinput(x[2], dt, st, slew_rate)\n",
    "\n",
    "                LTR = run_spice_sim(endsim, st, 25)\n",
    "                analysis_output = LTR.get_trace('V(ion)').get_wave(0)\n",
    "                t_spice = LTR.get_trace('time').get_time_axis(0)\n",
    "                v_output.append(interp1d(t_spice, analysis_output).__call__(t))\n",
    "                electrodev.append(interp1d(t_spice, analysis_output).__call__(t))\n",
    "            else:\n",
    "                v_output.append(prev_elv[2])\n",
    "                electrodev.append(prev_elv[2])\n",
    "        elif k == 'N9':\n",
    "            if list(x[3]) not in prevx:\n",
    "                set_vinput(x[3], dt, st, slew_rate)\n",
    "\n",
    "                LTR = run_spice_sim(endsim, st, 25)\n",
    "                analysis_output = LTR.get_trace('V(ion)').get_wave(0)\n",
    "                t_spice = LTR.get_trace('time').get_time_axis(0)\n",
    "                v_output.append(interp1d(t_spice, analysis_output).__call__(t))\n",
    "                electrodev.append(interp1d(t_spice, analysis_output).__call__(t))\n",
    "            else:\n",
    "                v_output.append(prev_elv[3])\n",
    "                electrodev.append(prev_elv[3])\n",
    "        elif k in ['S22','S23','S24','S25']:\n",
    "            v_output.append(np.full(len(t), 0))\n",
    "        else:\n",
    "            v_output.append(np.full(len(t), 8))\n",
    "            \n",
    "#     for i, el_v in enumerate(x):\n",
    "#         if list(el_v) not in prevx:\n",
    "#             set_vinput(el_v, dt, st, slew_rate)\n",
    "\n",
    "#             LTR = run_spice_sim(endsim, st, 25)\n",
    "#             analysis_output = LTR.get_trace('V(ion)').get_wave(0)\n",
    "#             t_spice = LTR.get_trace('time').get_time_axis(0)\n",
    "#             electrodev.append(interp1d(t_spice, analysis_output).__call__(t))\n",
    "#         else:\n",
    "#             electrodev.append(prev_elv[i])\n",
    "    \n",
    "    #### Forward ITVG\n",
    "    volt_gen = args[4]\n",
    "    el_config = []\n",
    "    for row in np.array(v_output).T:\n",
    "        el_config.append([[[i+1], v] for i, v in enumerate(row)])\n",
    "\n",
    "    delta = []\n",
    "    coeff_final = []\n",
    "#     print('\\t'.join(('iter', 't [us]', 'R [um]', 'f [Hz]', 'shift [um]')))\n",
    "    expansion_point = [[[0., i, 50.]] for i in q]\n",
    "\n",
    "    for i in range(len(t)):\n",
    "        coeffs = volt_gen.compute_total_potential_axes(expansion_point[i], el_config[i], printing=False)\n",
    "        coeff_final.append(coeffs)\n",
    "        shift = -coeffs[1]/(2*coeffs[6])\n",
    "        delta.append(shift)\n",
    "#         print('\\t'.join((str(i), '{:.2f}\\t{:.2f}\\t{:.0f}\\t{:.3f}'.format(t[i]*1E6, q[i], get_freq_from_alpha(coeffs[6], Sr), shift))))\n",
    "    coeff_final = np.array(coeff_final)\n",
    "    a_final = coeff_final.T[6]\n",
    "    \n",
    "    #### cost function\n",
    "    cost = sum(np.array(delta)**2)\n",
    "    a0 = get_alpha_from_freq(4e6, m_=Ca)\n",
    "    cost += sum((a0/1e12 - a_final)**2)\n",
    "    print('cost: ', cost)\n",
    "\n",
    "    prevx = list([list(r) for r in np.copy(x)])\n",
    "    prev_elv = electrodev\n",
    "    return cost\n",
    "\n",
    "def spice_sim_cost2(x, *args):\n",
    "    ''' x is a list of input voltages of length N\n",
    "        returns cost function between SPICE output and idealized v(t) '''    \n",
    "    global prevx\n",
    "    global prev_elv\n",
    "    global v_ideal_tweak\n",
    "    t = args[0]\n",
    "    q = args[1]\n",
    "    endsim = t[-1]+0.5*dt\n",
    "    x = x.reshape(-1, N0)\n",
    "    beginv = np.repeat(args[3][0], args[2][0], axis=1)\n",
    "    endv = np.repeat(args[3][-1], args[2][-1], axis=1)\n",
    "    if args[3]:\n",
    "        x = np.concatenate((beginv, x, endv), axis=1)\n",
    "    \n",
    "    #### Spice simulation of all the electrodes\n",
    "    electrodev = []\n",
    "    for i, el_v in enumerate(x):\n",
    "        if list(el_v) not in prevx:\n",
    "            set_vinput(el_v, dt, st, slew_rate)\n",
    "\n",
    "            LTR = run_spice_sim(endsim, st, 25)\n",
    "            analysis_output = LTR.get_trace('V(ion)').get_wave(0)\n",
    "            t_spice = LTR.get_trace('time').get_time_axis(0)\n",
    "            electrodev.append(interp1d(t_spice, analysis_output).__call__(t))\n",
    "        else:\n",
    "            electrodev.append(prev_elv[i])\n",
    "\n",
    "    #### cost function\n",
    "    cost = 0 \n",
    "    for i, (k, v) in enumerate(v_ideal_tweak.items()):\n",
    "        cost += sum((np.array(electrodev[i]) - v.__call__(t))**2)\n",
    "        cost += sum((np.gradient(np.array(electrodev[i]))*20 - np.gradient(v.__call__(t))*20)**2)\n",
    "    print('cost: ', cost, '\\t x:', x)\n",
    "\n",
    "    prevx = list([list(r) for r in np.copy(x)])\n",
    "    prev_elv = electrodev\n",
    "    return cost"
   ]
  },
  {
   "cell_type": "code",
   "execution_count": null,
   "metadata": {},
   "outputs": [],
   "source": [
    "plt.plot(t_tweak%(2*T0), v_ideal_deconv['N9'].__call__(t_tweak%(2*T0)))"
   ]
  },
  {
   "cell_type": "code",
   "execution_count": 12,
   "metadata": {
    "scrolled": true
   },
   "outputs": [
    {
     "ename": "ValueError",
     "evalue": "A value in x_new is above the interpolation range.",
     "output_type": "error",
     "traceback": [
      "\u001b[0;31m---------------------------------------------------------------------------\u001b[0m",
      "\u001b[0;31mValueError\u001b[0m                                Traceback (most recent call last)",
      "\u001b[0;32m<ipython-input-12-ec1773df993b>\u001b[0m in \u001b[0;36m<module>\u001b[0;34m\u001b[0m\n\u001b[1;32m     11\u001b[0m \u001b[0mt_tweak\u001b[0m \u001b[0;34m=\u001b[0m \u001b[0mdt\u001b[0m\u001b[0;34m*\u001b[0m\u001b[0mnp\u001b[0m\u001b[0;34m.\u001b[0m\u001b[0mlinspace\u001b[0m\u001b[0;34m(\u001b[0m\u001b[0mti\u001b[0m\u001b[0;34m,\u001b[0m \u001b[0mtf\u001b[0m\u001b[0;34m,\u001b[0m \u001b[0;36m100\u001b[0m\u001b[0;34m)\u001b[0m\u001b[0;34m\u001b[0m\u001b[0;34m\u001b[0m\u001b[0m\n\u001b[1;32m     12\u001b[0m \u001b[0;32mfor\u001b[0m \u001b[0mk\u001b[0m\u001b[0;34m,\u001b[0m \u001b[0mv\u001b[0m \u001b[0;32min\u001b[0m \u001b[0mv_ideal_deconv\u001b[0m\u001b[0;34m.\u001b[0m\u001b[0mitems\u001b[0m\u001b[0;34m(\u001b[0m\u001b[0;34m)\u001b[0m\u001b[0;34m:\u001b[0m\u001b[0;34m\u001b[0m\u001b[0;34m\u001b[0m\u001b[0m\n\u001b[0;32m---> 13\u001b[0;31m     \u001b[0mvguess\u001b[0m\u001b[0;34m[\u001b[0m\u001b[0mk\u001b[0m\u001b[0;34m]\u001b[0m \u001b[0;34m=\u001b[0m \u001b[0mnp\u001b[0m\u001b[0;34m.\u001b[0m\u001b[0mconcatenate\u001b[0m\u001b[0;34m(\u001b[0m\u001b[0;34m(\u001b[0m\u001b[0mbegin\u001b[0m\u001b[0;34m*\u001b[0m\u001b[0;34m[\u001b[0m\u001b[0mv\u001b[0m\u001b[0;34m.\u001b[0m\u001b[0m__call__\u001b[0m\u001b[0;34m(\u001b[0m\u001b[0mti\u001b[0m\u001b[0;34m*\u001b[0m\u001b[0mdt\u001b[0m\u001b[0;34m)\u001b[0m\u001b[0;34m]\u001b[0m\u001b[0;34m,\u001b[0m \u001b[0mx_n\u001b[0m\u001b[0;34m[\u001b[0m\u001b[0mk\u001b[0m\u001b[0;34m]\u001b[0m\u001b[0;34m[\u001b[0m\u001b[0mti\u001b[0m\u001b[0;34m+\u001b[0m\u001b[0mbegin\u001b[0m\u001b[0;34m:\u001b[0m\u001b[0mtf\u001b[0m\u001b[0;34m-\u001b[0m\u001b[0mend\u001b[0m\u001b[0;34m+\u001b[0m\u001b[0;36m1\u001b[0m\u001b[0;34m]\u001b[0m\u001b[0;34m,\u001b[0m \u001b[0mend\u001b[0m\u001b[0;34m*\u001b[0m\u001b[0;34m[\u001b[0m\u001b[0mv\u001b[0m\u001b[0;34m.\u001b[0m\u001b[0m__call__\u001b[0m\u001b[0;34m(\u001b[0m\u001b[0mtf\u001b[0m\u001b[0;34m*\u001b[0m\u001b[0mdt\u001b[0m\u001b[0;34m)\u001b[0m\u001b[0;34m]\u001b[0m\u001b[0;34m)\u001b[0m\u001b[0;34m)\u001b[0m\u001b[0;34m\u001b[0m\u001b[0;34m\u001b[0m\u001b[0m\n\u001b[0m\u001b[1;32m     14\u001b[0m     \u001b[0mv_ideal_tweak\u001b[0m\u001b[0;34m[\u001b[0m\u001b[0mk\u001b[0m\u001b[0;34m]\u001b[0m \u001b[0;34m=\u001b[0m \u001b[0minterp1d\u001b[0m\u001b[0;34m(\u001b[0m\u001b[0mnp\u001b[0m\u001b[0;34m.\u001b[0m\u001b[0mappend\u001b[0m\u001b[0;34m(\u001b[0m\u001b[0mt_tweak\u001b[0m\u001b[0;34m-\u001b[0m\u001b[0mti\u001b[0m\u001b[0;34m*\u001b[0m\u001b[0mdt\u001b[0m\u001b[0;34m,\u001b[0m \u001b[0;36m1\u001b[0m\u001b[0;34m)\u001b[0m\u001b[0;34m,\u001b[0m \u001b[0mnp\u001b[0m\u001b[0;34m.\u001b[0m\u001b[0mappend\u001b[0m\u001b[0;34m(\u001b[0m\u001b[0mv\u001b[0m\u001b[0;34m.\u001b[0m\u001b[0m__call__\u001b[0m\u001b[0;34m(\u001b[0m\u001b[0mt_tweak\u001b[0m\u001b[0;34m%\u001b[0m\u001b[0;34m(\u001b[0m\u001b[0;36m2\u001b[0m\u001b[0;34m*\u001b[0m\u001b[0mT0\u001b[0m\u001b[0;34m)\u001b[0m\u001b[0;34m)\u001b[0m\u001b[0;34m,\u001b[0m \u001b[0mv\u001b[0m\u001b[0;34m.\u001b[0m\u001b[0m__call__\u001b[0m\u001b[0;34m(\u001b[0m\u001b[0mtf\u001b[0m\u001b[0;34m*\u001b[0m\u001b[0mdt\u001b[0m\u001b[0;34m%\u001b[0m\u001b[0;34m(\u001b[0m\u001b[0;36m2\u001b[0m\u001b[0;34m*\u001b[0m\u001b[0mT0\u001b[0m\u001b[0;34m)\u001b[0m\u001b[0;34m)\u001b[0m\u001b[0;34m)\u001b[0m\u001b[0;34m)\u001b[0m\u001b[0;34m\u001b[0m\u001b[0;34m\u001b[0m\u001b[0m\n\u001b[1;32m     15\u001b[0m \u001b[0;34m\u001b[0m\u001b[0m\n",
      "\u001b[0;32m~/anaconda3/lib/python3.7/site-packages/scipy/interpolate/polyint.py\u001b[0m in \u001b[0;36m__call__\u001b[0;34m(self, x)\u001b[0m\n\u001b[1;32m     77\u001b[0m         \"\"\"\n\u001b[1;32m     78\u001b[0m         \u001b[0mx\u001b[0m\u001b[0;34m,\u001b[0m \u001b[0mx_shape\u001b[0m \u001b[0;34m=\u001b[0m \u001b[0mself\u001b[0m\u001b[0;34m.\u001b[0m\u001b[0m_prepare_x\u001b[0m\u001b[0;34m(\u001b[0m\u001b[0mx\u001b[0m\u001b[0;34m)\u001b[0m\u001b[0;34m\u001b[0m\u001b[0;34m\u001b[0m\u001b[0m\n\u001b[0;32m---> 79\u001b[0;31m         \u001b[0my\u001b[0m \u001b[0;34m=\u001b[0m \u001b[0mself\u001b[0m\u001b[0;34m.\u001b[0m\u001b[0m_evaluate\u001b[0m\u001b[0;34m(\u001b[0m\u001b[0mx\u001b[0m\u001b[0;34m)\u001b[0m\u001b[0;34m\u001b[0m\u001b[0;34m\u001b[0m\u001b[0m\n\u001b[0m\u001b[1;32m     80\u001b[0m         \u001b[0;32mreturn\u001b[0m \u001b[0mself\u001b[0m\u001b[0;34m.\u001b[0m\u001b[0m_finish_y\u001b[0m\u001b[0;34m(\u001b[0m\u001b[0my\u001b[0m\u001b[0;34m,\u001b[0m \u001b[0mx_shape\u001b[0m\u001b[0;34m)\u001b[0m\u001b[0;34m\u001b[0m\u001b[0;34m\u001b[0m\u001b[0m\n\u001b[1;32m     81\u001b[0m \u001b[0;34m\u001b[0m\u001b[0m\n",
      "\u001b[0;32m~/anaconda3/lib/python3.7/site-packages/scipy/interpolate/interpolate.py\u001b[0m in \u001b[0;36m_evaluate\u001b[0;34m(self, x_new)\u001b[0m\n\u001b[1;32m    661\u001b[0m         \u001b[0my_new\u001b[0m \u001b[0;34m=\u001b[0m \u001b[0mself\u001b[0m\u001b[0;34m.\u001b[0m\u001b[0m_call\u001b[0m\u001b[0;34m(\u001b[0m\u001b[0mself\u001b[0m\u001b[0;34m,\u001b[0m \u001b[0mx_new\u001b[0m\u001b[0;34m)\u001b[0m\u001b[0;34m\u001b[0m\u001b[0;34m\u001b[0m\u001b[0m\n\u001b[1;32m    662\u001b[0m         \u001b[0;32mif\u001b[0m \u001b[0;32mnot\u001b[0m \u001b[0mself\u001b[0m\u001b[0;34m.\u001b[0m\u001b[0m_extrapolate\u001b[0m\u001b[0;34m:\u001b[0m\u001b[0;34m\u001b[0m\u001b[0;34m\u001b[0m\u001b[0m\n\u001b[0;32m--> 663\u001b[0;31m             \u001b[0mbelow_bounds\u001b[0m\u001b[0;34m,\u001b[0m \u001b[0mabove_bounds\u001b[0m \u001b[0;34m=\u001b[0m \u001b[0mself\u001b[0m\u001b[0;34m.\u001b[0m\u001b[0m_check_bounds\u001b[0m\u001b[0;34m(\u001b[0m\u001b[0mx_new\u001b[0m\u001b[0;34m)\u001b[0m\u001b[0;34m\u001b[0m\u001b[0;34m\u001b[0m\u001b[0m\n\u001b[0m\u001b[1;32m    664\u001b[0m             \u001b[0;32mif\u001b[0m \u001b[0mlen\u001b[0m\u001b[0;34m(\u001b[0m\u001b[0my_new\u001b[0m\u001b[0;34m)\u001b[0m \u001b[0;34m>\u001b[0m \u001b[0;36m0\u001b[0m\u001b[0;34m:\u001b[0m\u001b[0;34m\u001b[0m\u001b[0;34m\u001b[0m\u001b[0m\n\u001b[1;32m    665\u001b[0m                 \u001b[0;31m# Note fill_value must be broadcast up to the proper size\u001b[0m\u001b[0;34m\u001b[0m\u001b[0;34m\u001b[0m\u001b[0;34m\u001b[0m\u001b[0m\n",
      "\u001b[0;32m~/anaconda3/lib/python3.7/site-packages/scipy/interpolate/interpolate.py\u001b[0m in \u001b[0;36m_check_bounds\u001b[0;34m(self, x_new)\u001b[0m\n\u001b[1;32m    693\u001b[0m                              \"range.\")\n\u001b[1;32m    694\u001b[0m         \u001b[0;32mif\u001b[0m \u001b[0mself\u001b[0m\u001b[0;34m.\u001b[0m\u001b[0mbounds_error\u001b[0m \u001b[0;32mand\u001b[0m \u001b[0mabove_bounds\u001b[0m\u001b[0;34m.\u001b[0m\u001b[0many\u001b[0m\u001b[0;34m(\u001b[0m\u001b[0;34m)\u001b[0m\u001b[0;34m:\u001b[0m\u001b[0;34m\u001b[0m\u001b[0;34m\u001b[0m\u001b[0m\n\u001b[0;32m--> 695\u001b[0;31m             raise ValueError(\"A value in x_new is above the interpolation \"\n\u001b[0m\u001b[1;32m    696\u001b[0m                              \"range.\")\n\u001b[1;32m    697\u001b[0m \u001b[0;34m\u001b[0m\u001b[0m\n",
      "\u001b[0;31mValueError\u001b[0m: A value in x_new is above the interpolation range."
     ]
    }
   ],
   "source": [
    "# ti, tf = (288, 294) ## multiples of dt\n",
    "# ti, tf = (287, 296)\n",
    "# ti, tf = (473, 485)\n",
    "# ti, tf = (991, 1008)\n",
    "ti, tf = (987, 1005)\n",
    "begin, end = (1, 13) ## N0 = (tf - ti + 1) - (begin + end)\n",
    "t_cost = np.linspace(0, 30e-6, 500)\n",
    "\n",
    "vguess = {}\n",
    "v_ideal_tweak = {}\n",
    "t_tweak = dt*np.linspace(ti, tf, 100)\n",
    "for k, v in v_ideal_deconv.items():\n",
    "    vguess[k] = np.concatenate((begin*[v.__call__(ti*dt)], x_n[k][ti+begin:tf-end+1], end*[v.__call__(tf*dt)]))\n",
    "    v_ideal_tweak[k] = interp1d(np.append(t_tweak-ti*dt, 1), np.append(v.__call__(t_tweak%(2*T0)), v.__call__(tf*dt%(2*T0))))\n",
    "\n",
    "# newvoltages = {}\n",
    "run_minimize = False\n",
    "if run_minimize:\n",
    "    q_ideal = np.array([qsta2(t, (begin*1e-6, (N0+begin)*1e-6), qspan=(186.5, 231.5), f=4e6*5e-6) for t in t_cost])\n",
    "    bufferv = np.array([v.__call__([0, 1]) for k, v in v_ideal_tweak.items()])\n",
    "    vguessi = np.array([v[begin:-end] for k, v in vguess.items()]).reshape(-1) ## flatten electrode commands to 1D array\n",
    "#     x_ideal = minimize(spice_sim_cost, vguessi, args=(t_cost, q_ideal, (begin, end), (bufferv[:, 0:1], bufferv[:, -1:]), vg), bounds=[(-40,40)]*(len(vguessi)), \n",
    "#                        method='SLSQP', options={'disp':True, 'ftol':1e-7, 'eps': 0.1, 'maxiter':100})\n",
    "    x_ideal = minimize(spice_sim_cost2, vguessi, args=(t_cost, q_ideal, (begin, end), (bufferv[:, 0:1], bufferv[:, -1:])), bounds=[(-40,40)]*(len(vguessi)), \n",
    "                       method='SLSQP', options={'disp':True, 'ftol':1e-7, 'eps': 0.1, 'maxiter':100})\n",
    "    print(x_ideal)\n",
    "    newvoltages[k] = float_to_16bit(np.concatenate((vguess[k][:begin], x_ideal.x, vguess[k][-end:])))\n",
    "else:\n",
    "    for k, v in v_ideal_tweak.items():\n",
    "        tevents, vevents = set_vinput(vguess[k], dt, st, slew_rate)\n",
    "        LTR = run_spice_sim(t_cost[-1], st, 3)\n",
    "        analysis_output = LTR.get_trace(\"V(ion)\").get_wave(0)\n",
    "        t_spice = LTR.get_trace('time').get_time_axis(0)\n",
    "\n",
    "        plt.figure(k, (19, 9))\n",
    "        plt.title('Electrode %s' % (k, ))\n",
    "        plt.xlabel('Time [us]')\n",
    "        plt.ylabel('Voltage [V]')\n",
    "        plt.grid()\n",
    "        plt.plot([t*1e6 for t in tevents], [16*(v-2.5) for v in vevents], label='input')\n",
    "        plt.plot(t_spice*1e6, analysis_output, label='output')\n",
    "        plt.plot(t_spice*1e6, v_ideal_tweak[k].__call__(t_spice), 'k--', label='ideal')\n",
    "        plt.legend(loc='best')\n",
    "\n",
    "#         newvoltages[k] = vguess[k]\n",
    "\n",
    "# np.save(basepath + '/'.join((exp, 'voltages_predist.npy')), newvoltages)"
   ]
  },
  {
   "cell_type": "code",
   "execution_count": null,
   "metadata": {},
   "outputs": [],
   "source": [
    "print(prevx)\n",
    "print(np.array(prevx).T[1:-1].T)"
   ]
  },
  {
   "cell_type": "markdown",
   "metadata": {},
   "source": [
    "## Fine Adjustments"
   ]
  },
  {
   "cell_type": "code",
   "execution_count": 39,
   "metadata": {
    "scrolled": true
   },
   "outputs": [
    {
     "name": "stdout",
     "output_type": "stream",
     "text": [
      "{'S13': array([  8.        ,   5.43065581,   9.41475114,  17.47346543,\n",
      "        11.01700688, -36.48094284,   1.08085979]), 'N8': array([ 1.09185489, -0.69213431,  2.56784373,  3.22089908,  1.29987816,\n",
      "       -3.1769881 ,  0.62865455]), 'S12': array([ 0.62783266,  1.2687709 ,  0.56853074, -1.19548073, -0.74860916,\n",
      "        4.17558354,  1.09130176]), 'N9': array([ 1.1012081 ,  2.11531377,  0.15396947, -9.45690922, -0.16744691,\n",
      "       39.99999645,  7.94702815])}\n"
     ]
    }
   ],
   "source": [
    "#### make finer adjustments to improve optimization\n",
    "allvoltages = np.concatenate([bufferv[:,:-1], x_ideal.x.reshape(-1, N0), bufferv[:,-1:]], axis=1)\n",
    "# print(allvoltages)\n",
    "# allvoltages = np.concatenate([bufferv[:,:-1], np.array(prevx).T[1:-1].T.reshape(-1, N0), bufferv[:,-1:]], axis=1)\n",
    "newvoltages = {k: allvoltages[i] for i, k in enumerate(list(d.keys()))}\n",
    "print(newvoltages)\n",
    "\n",
    "# exp = ''\n",
    "# np.save(basepath + '/'.join((exp, 'predistorted_long.npy')), newvoltages)\n"
   ]
  },
  {
   "cell_type": "code",
   "execution_count": null,
   "metadata": {
    "scrolled": true
   },
   "outputs": [],
   "source": [
    "t_view=np.linspace(0E-6, 34e-6, 1000)\n",
    "plt.figure(100)\n",
    "for k, v in v_ideal_tweak.items():\n",
    "    plt.plot(t_view*1e6, v.__call__(t_view), label=k)\n",
    "plt.legend(loc='best', prop={'size': 12})\n",
    "plt.ylabel('voltage (V)')\n",
    "\n",
    "# plt.figure(101)\n",
    "# for k, v in v_of_t.items():\n",
    "#     plt.plot(t_view*1e6, v.__call__(t_view), label=k)\n",
    "# plt.legend(loc='best', prop={'size': 12})\n",
    "# plt.ylabel('Electrode Voltage (V)')\n",
    "# plt.xlabel('Step')    \n",
    "    \n",
    "plt.figure(102)\n",
    "for k, v in v_of_t_predist.items():\n",
    "    plt.plot(t_view*1e6, v.__call__(t_view))"
   ]
  },
  {
   "cell_type": "code",
   "execution_count": 40,
   "metadata": {},
   "outputs": [
    {
     "name": "stdout",
     "output_type": "stream",
     "text": [
      "{'S21': [8, 8, 8, 8, 8, 8, 8], 'N1': [8, 8, 8, 8, 8, 8, 8], 'S20': [8, 8, 8, 8, 8, 8, 8], 'N2': [8, 8, 8, 8, 8, 8, 8], 'S19': [8, 8, 8, 8, 8, 8, 8], 'N3': [8, 8, 8, 8, 8, 8, 8], 'S14': [8, 8, 8, 8, 8, 8, 8], 'N4': [8, 8, 8, 8, 8, 8, 8], 'S13': array([  8.        ,   5.43065581,   9.41475114,  17.47346543,\n",
      "        11.01700688, -36.48094284,   1.08085979]), 'N8': array([ 1.09185489, -0.69213431,  2.56784373,  3.22089908,  1.29987816,\n",
      "       -3.1769881 ,  0.62865455]), 'S12': array([ 0.62783266,  1.2687709 ,  0.56853074, -1.19548073, -0.74860916,\n",
      "        4.17558354,  1.09130176]), 'N9': array([ 1.1012081 ,  2.11531377,  0.15396947, -9.45690922, -0.16744691,\n",
      "       39.99999645,  7.94702815]), 'S11': [8, 8, 8, 8, 8, 8, 8], 'N10': [8, 8, 8, 8, 8, 8, 8], 'S10': [8, 8, 8, 8, 8, 8, 8], 'N11': [8, 8, 8, 8, 8, 8, 8], 'S9': [8, 8, 8, 8, 8, 8, 8], 'N12': [8, 8, 8, 8, 8, 8, 8], 'S8': [8, 8, 8, 8, 8, 8, 8], 'N13': [8, 8, 8, 8, 8, 8, 8], 'S4': [8, 8, 8, 8, 8, 8, 8], 'N14': [8, 8, 8, 8, 8, 8, 8], 'S3': [8, 8, 8, 8, 8, 8, 8], 'N19': [8, 8, 8, 8, 8, 8, 8], 'S2': [8, 8, 8, 8, 8, 8, 8], 'N20': [8, 8, 8, 8, 8, 8, 8], 'S1': [8, 8, 8, 8, 8, 8, 8], 'N21': [8, 8, 8, 8, 8, 8, 8], 'S25': [0, 0, 0, 0, 0, 0, 0], 'S24': [0, 0, 0, 0, 0, 0, 0], 'S23': [0, 0, 0, 0, 0, 0, 0], 'S22': [0, 0, 0, 0, 0, 0, 0]}\n"
     ]
    }
   ],
   "source": [
    "v_DAC_final = {}\n",
    "for k in electrode_ordering:\n",
    "    if k in ['S13', 'N8', 'S12', 'N9']:\n",
    "        v_DAC_final[k] = newvoltages[k]\n",
    "    elif k in ['S22','S23','S24','S25']:\n",
    "        v_DAC_final[k] = [0]*len(newvoltages['N9'])\n",
    "    else:\n",
    "        v_DAC_final[k] = [8]*len(newvoltages['N9'])\n",
    "\n",
    "print(v_DAC_final)"
   ]
  },
  {
   "cell_type": "code",
   "execution_count": 41,
   "metadata": {},
   "outputs": [
    {
     "name": "stdout",
     "output_type": "stream",
     "text": [
      "[{'S21': 8, 'N1': 8, 'S20': 8, 'N2': 8, 'S19': 8, 'N3': 8, 'S14': 8, 'N4': 8, 'S13': 8.0, 'N8': 1.0918548909329517, 'S12': 0.6278326635904425, 'N9': 1.101208104781884, 'S11': 8, 'N10': 8, 'S10': 8, 'N11': 8, 'S9': 8, 'N12': 8, 'S8': 8, 'N13': 8, 'S4': 8, 'N14': 8, 'S3': 8, 'N19': 8, 'S2': 8, 'N20': 8, 'S1': 8, 'N21': 8, 'S25': 0, 'S24': 0, 'S23': 0, 'S22': 0}\n",
      " {'S21': 8, 'N1': 8, 'S20': 8, 'N2': 8, 'S19': 8, 'N3': 8, 'S14': 8, 'N4': 8, 'S13': 5.430655812433442, 'N8': -0.6921343113375692, 'S12': 1.2687709009537462, 'N9': 2.1153137668345847, 'S11': 8, 'N10': 8, 'S10': 8, 'N11': 8, 'S9': 8, 'N12': 8, 'S8': 8, 'N13': 8, 'S4': 8, 'N14': 8, 'S3': 8, 'N19': 8, 'S2': 8, 'N20': 8, 'S1': 8, 'N21': 8, 'S25': 0, 'S24': 0, 'S23': 0, 'S22': 0}\n",
      " {'S21': 8, 'N1': 8, 'S20': 8, 'N2': 8, 'S19': 8, 'N3': 8, 'S14': 8, 'N4': 8, 'S13': 9.414751137046444, 'N8': 2.567843732555237, 'S12': 0.5685307448284299, 'N9': 0.15396947094326904, 'S11': 8, 'N10': 8, 'S10': 8, 'N11': 8, 'S9': 8, 'N12': 8, 'S8': 8, 'N13': 8, 'S4': 8, 'N14': 8, 'S3': 8, 'N19': 8, 'S2': 8, 'N20': 8, 'S1': 8, 'N21': 8, 'S25': 0, 'S24': 0, 'S23': 0, 'S22': 0}\n",
      " {'S21': 8, 'N1': 8, 'S20': 8, 'N2': 8, 'S19': 8, 'N3': 8, 'S14': 8, 'N4': 8, 'S13': 17.47346543401981, 'N8': 3.220899081384766, 'S12': -1.195480733661779, 'N9': -9.456909223520869, 'S11': 8, 'N10': 8, 'S10': 8, 'N11': 8, 'S9': 8, 'N12': 8, 'S8': 8, 'N13': 8, 'S4': 8, 'N14': 8, 'S3': 8, 'N19': 8, 'S2': 8, 'N20': 8, 'S1': 8, 'N21': 8, 'S25': 0, 'S24': 0, 'S23': 0, 'S22': 0}\n",
      " {'S21': 8, 'N1': 8, 'S20': 8, 'N2': 8, 'S19': 8, 'N3': 8, 'S14': 8, 'N4': 8, 'S13': 11.017006875554998, 'N8': 1.2998781581505077, 'S12': -0.7486091626978547, 'N9': -0.16744690877848956, 'S11': 8, 'N10': 8, 'S10': 8, 'N11': 8, 'S9': 8, 'N12': 8, 'S8': 8, 'N13': 8, 'S4': 8, 'N14': 8, 'S3': 8, 'N19': 8, 'S2': 8, 'N20': 8, 'S1': 8, 'N21': 8, 'S25': 0, 'S24': 0, 'S23': 0, 'S22': 0}\n",
      " {'S21': 8, 'N1': 8, 'S20': 8, 'N2': 8, 'S19': 8, 'N3': 8, 'S14': 8, 'N4': 8, 'S13': -36.48094284468026, 'N8': -3.176988098988469, 'S12': 4.175583542515538, 'N9': 39.999996453003355, 'S11': 8, 'N10': 8, 'S10': 8, 'N11': 8, 'S9': 8, 'N12': 8, 'S8': 8, 'N13': 8, 'S4': 8, 'N14': 8, 'S3': 8, 'N19': 8, 'S2': 8, 'N20': 8, 'S1': 8, 'N21': 8, 'S25': 0, 'S24': 0, 'S23': 0, 'S22': 0}\n",
      " {'S21': 8, 'N1': 8, 'S20': 8, 'N2': 8, 'S19': 8, 'N3': 8, 'S14': 8, 'N4': 8, 'S13': 1.0808597889323317, 'N8': 0.6286545458348968, 'S12': 1.0913017589570244, 'N9': 7.947028145837071, 'S11': 8, 'N10': 8, 'S10': 8, 'N11': 8, 'S9': 8, 'N12': 8, 'S8': 8, 'N13': 8, 'S4': 8, 'N14': 8, 'S3': 8, 'N19': 8, 'S2': 8, 'N20': 8, 'S1': 8, 'N21': 8, 'S25': 0, 'S24': 0, 'S23': 0, 'S22': 0}]\n"
     ]
    }
   ],
   "source": [
    "basepath = '/Users/lukeqi/Desktop/School/MIT/UROP/SuperUROP/IonMotion/'\n",
    "filepath = 'MB_fasttransport_4MHz_dt=392ns_N=5_R8=13k.npy'\n",
    "\n",
    "newdat = []\n",
    "for i in range(len(v_DAC_final['N10'])):\n",
    "    newdat.append({k: v[i] for k, v in v_DAC_final.items()})\n",
    "newdat = np.array(newdat)\n",
    "\n",
    "np.save(os.path.join(basepath, filepath), newdat)\n",
    "print(newdat)"
   ]
  },
  {
   "cell_type": "markdown",
   "metadata": {},
   "source": [
    "# Ion Simulation"
   ]
  },
  {
   "cell_type": "code",
   "execution_count": null,
   "metadata": {
    "code_folding": [
     0,
     72,
     80,
     90,
     96
    ]
   },
   "outputs": [],
   "source": [
    "def heat_sim(tff, q_protocol, t_eval, ms=1E-8, showplot=False, a=None, b=None, g=None, c=None, deg=2):\n",
    "    ''' simulates ion motion and returns heat gained\n",
    "        parameters: final integration time, motion protocol, time window for heat calculation \n",
    "        all length units must be in um'''\n",
    "    if a is not None:\n",
    "        alpha = InterpolatedUnivariateSpline(np.concatenate((t_anal,[tff*1.1])), np.append(a*1e12, a[-1]*1e12), k=deg)\n",
    "    else:\n",
    "        alpha = InterpolatedUnivariateSpline(np.concatenate((t_anal,[tff*1.1])), [get_alpha_from_freq(omega_0/(2*pi))]*(len(t_anal)+1), k=deg)\n",
    "    if b is not None:\n",
    "        beta = InterpolatedUnivariateSpline(np.concatenate((t_anal,[tff*1.1])), np.append(b*1e24, b[-1]*1e24), k=deg)\n",
    "    else:\n",
    "        beta = InterpolatedUnivariateSpline(np.concatenate((t_anal,[tff*1.1])), [0]*(len(t_anal)+1), k=deg)\n",
    "    if g is not None:\n",
    "        gamma = InterpolatedUnivariateSpline(np.concatenate((t_anal,[tff*1.1])), np.append(g*1e6, g[-1]*1e6), k=deg)\n",
    "    else:\n",
    "        gamma = InterpolatedUnivariateSpline(np.concatenate((t_anal,[tff*1.1])), [0]*(len(t_anal)+1), k=deg)\n",
    "    if c is not None:\n",
    "        cubic = InterpolatedUnivariateSpline(np.concatenate((t_anal,[tff*1.1])), np.append(c*1e18, c[-1]*1e18), k=deg)\n",
    "    else:\n",
    "        cubic = InterpolatedUnivariateSpline(np.concatenate((t_anal,[tff*1.1])), [0]*(len(t_anal)+1), k=deg)\n",
    "    qi = InterpolatedUnivariateSpline(np.concatenate((t_anal,[tff*1.1])), np.concatenate((q_protocol/1e6, [q_protocol[-1]/1e6])), k=deg)\n",
    "    \n",
    "    def fn(t, v):\n",
    "        x = v[:Nion]\n",
    "        dxdt = v[Nion:]\n",
    "        dist = get_dist_matrix(x)\n",
    "        \n",
    "        eom = [] ## equation of motion\n",
    "        for i in range(Nion): ## iterate over all the ions\n",
    "            eom.append(-q_ions[i]/m[i]*p_derivative(phi, point=[t, x[i]-qi.__call__(t), alpha.__call__(t), beta.__call__(t), m[i], gamma.__call__(t), cubic.__call__(t)]) +\n",
    "                       k0*q_ions[i]/m[i]*sum([q_ions[j]*abs(dist[i][j])/(dist[i][j]**3) for j in range(Nion) if j!=i]))\n",
    "        \n",
    "        return np.concatenate([dxdt, eom])\n",
    "        \n",
    "    outsol = solve_ivp(fn, (0, tff), np.concatenate([x0, x0dot]), method='RK45', dense_output=True, t_eval=t_eval, max_step=ms)    \n",
    "    h = get_heat(outsol.y[0]-qi.__call__(t_eval), 2*pi*get_freq_from_alpha(alpha.__call__(tff)/1e12, m[0]), m[0])\n",
    "    \n",
    "    if showplot:\n",
    "        t_view = np.linspace(0, tff, int(1E9*tff))\n",
    "        q = qi.__call__(t_view)\n",
    "        x = outsol.sol(t_view)[0]\n",
    "    #     dx=t_view[1]-t_view[0]\n",
    "    #     dqdt=np.gradient(q,dx)\n",
    "    #     d2qdt2=np.gradient(dqdt, dx)\n",
    "    #     d3qdt3=np.gradient(d2qdt2, dx)\n",
    "\n",
    "        fig, ax = plt.subplots()\n",
    "        plt1, = ax.plot(t_view*1E6, q*1E6, 'k--')\n",
    "        ax.set_ylabel('potential minimum position (um)', color='k')\n",
    "        ax2=ax.twinx()\n",
    "        plt2, = ax2.plot(t_view*1E6, (x-q)*1E9)\n",
    "        ax2.set_ylabel('ion oscillation (nm)')\n",
    "        plt3 = ax2.axvline(t_eval[0]*1E6, color='r', linestyle='--')\n",
    "        ax2.axvline(t_eval[-1]*1E6, color='r', linestyle='--')\n",
    "    #     ax.plot(t_view*1E6, dqdt)\n",
    "    #     ax.plot(t_view*1E6, d2qdt2)\n",
    "    #     ax.plot(t_view*1E6, d3qdt3, 'g')\n",
    "        ax.set_xlabel('time (us)')\n",
    "        plt.legend((plt1, plt2, plt3), ('potential minimum', 'ion motion', 'heat calculation window'), loc='best')\n",
    "        \n",
    "        for n in range(1, Nion):\n",
    "            x = outsol.sol(t_view)[n]\n",
    "            ax2.plot(t_view*1E6, (x-q)*1E9)\n",
    "        \n",
    "    return outsol, h, outsol.y, qi.__call__(t_eval)\n",
    "\n",
    "def phi(t, y, a, b, m, g=0, c=0):\n",
    "    ''' electric potential function [SI Units]\n",
    "    y is the difference between ion position and potential minimum \n",
    "    '''\n",
    "    return a*y**2 + b*y**4 + g*y + c*y**3\n",
    "\n",
    "def p_derivative(func, ms=1e-11, var=1, point=[], order=1):\n",
    "    ''' implements a partial derivative '''\n",
    "    args = point[:]\n",
    "    def wraps(x):\n",
    "        args[var] = x\n",
    "        return func(*args)\n",
    "    return derivative(wraps, point[var], dx = ms, n=order)\n",
    "    \n",
    "def get_dist_matrix(y):\n",
    "    ''' gets distance matrix given positions of N ions \n",
    "        x = Nion x 1 vector '''\n",
    "    D=np.zeros((Nion, Nion))\n",
    "    for i in range(Nion):\n",
    "        for j in range(i+1, Nion):\n",
    "            D[i][j]=y[i]-y[j]\n",
    "            D[j][i]=-D[i][j]\n",
    "    return D\n",
    "\n",
    "def get_heat(yvalues, w, m_=40*ct.m_u): ## calculates <n0> (average motional state) Given by Hercul 3.2 eq 97\n",
    "    maxy = np.max(yvalues)\n",
    "    miny = np.min(yvalues)\n",
    "    A = (maxy-miny)/2\n",
    "    return A**2*m_*np.abs(w)/(2*hbar)\n",
    "\n",
    "def find_ic(q0, a0, N, xguess, b0=0, disp=False):\n",
    "    ''' given q, phi coefficients, and num ion, minimize the total energy of the system\n",
    "    both q and coeff have length scale in um'''\n",
    "    def total_potential_energy(x, *args):\n",
    "        q0, a0, b0 = args\n",
    "        dist = get_dist_matrix(x)\n",
    "        U = sum([a0*q_ions[i]*(x[i]-q0)**2 + b0*q_ions[i]*(x[i]-q0)**4 + 0.5*k0*q_ions[i]*sum([q_ions[j]/abs(dist[i][j])\n",
    "                                                                   for j in range(N) if j!=i]) for i in range(N)])\n",
    "        return U/1.6E-19\n",
    "    idealx = minimize(total_potential_energy, xguess, args=(q0, a0, b0), method='SLSQP',\n",
    "                     options={'ftol': 1e-12, 'eps': 1E-12, 'maxiter':1000})\n",
    "    if disp:\n",
    "        print(idealx)\n",
    "    return idealx.x"
   ]
  },
  {
   "cell_type": "code",
   "execution_count": null,
   "metadata": {},
   "outputs": [],
   "source": [
    "hbar = ct.hbar\n",
    "eps0 = ct.epsilon_0\n",
    "k0 = 1/(4*pi*eps0)\n",
    "amu = ct.m_u\n",
    "elem_charge = ct.e\n",
    "um = 1e-6\n",
    "\n",
    "Nion = 1\n",
    "q_ions = elem_charge*   np.full(Nion, 1)\n",
    "m = amu*                np.array([88, 88])\n",
    "x0dot = um*             np.full(Nion, 0)\n",
    "x0guess = um*           np.array([q_final[0]])\n",
    "\n",
    "# Ti = 2e-6\n",
    "# t_anal = np.linspace(0, Ti, 1000)\n",
    "# a_final = np.full(len(t_anal), get_alpha_from_freq(1.2e6, m_=88*amu)/1e12)\n",
    "# q_final = np.array([qsta2(t, (0e-6, Ti), qspan=(-60, 60), f=Ti*1.06e6) for t in t_anal])\n",
    "#### Transport\n",
    "x0 = find_ic(q_final[0]/1e6, a_final[0]*1e12, Nion, x0guess)\n",
    "print(x0*1e6)\n",
    "\n",
    "#### Splitting\n",
    "# x0 = find_ic(q_final[0]/1e6, a_final[0]*1e12, Nion, x0guess)\n",
    "# print(x0*1e6)\n",
    "# plt.plot(y_points, y_pot[0])"
   ]
  },
  {
   "cell_type": "code",
   "execution_count": null,
   "metadata": {},
   "outputs": [],
   "source": [
    "heat_start = 50e-6\n",
    "heat_end = 60e-6\n",
    "\n",
    "t_eval = np.linspace(heat_start, heat_end, 4096)\n",
    "outsol, n, y_eval, q_eval = heat_sim(t_eval[-1], q_final, t_eval, showplot=True, a=a_final, b=None, g=None, c=None, deg=2)\n",
    "print('heat gained (quanta): ', n)"
   ]
  },
  {
   "cell_type": "markdown",
   "metadata": {},
   "source": [
    "# Potential Animation"
   ]
  },
  {
   "cell_type": "code",
   "execution_count": null,
   "metadata": {},
   "outputs": [],
   "source": [
    "#### Splitting potential shape\n",
    "down = 1\n",
    "R = [[0.0, 0, 50.0]]\n",
    "volt_gen = vg\n",
    "\n",
    "## \n",
    "\n",
    "# x_bounds = [-20.0, 20.0]\n",
    "# z_bounds = [40.0, 80.0]\n",
    "# pot_values = np.array([total_potential_cut(volt_gen, b, R[0], 0.0, x_bounds, z_bounds) for b in bigarray[::down]])\n",
    "# r_values = np.transpose(pot_values, (1, 0, 2))[0][0]\n",
    "# pot_values = np.transpose(pot_values, (1, 0, 2))[1]\n",
    "\n",
    "##\n",
    "\n",
    "y_span_um = 420\n",
    "n_y_points = 420\n",
    "y_points = np.linspace(-y_span_um, y_span_um, n_y_points)\n",
    "y_test_points = np.array([np.zeros(n_y_points), y_points, np.zeros(n_y_points)]).T + R\n",
    "y_pot = np.array([volt_gen.compute_potential(y_test_points, [[el[0][0], el[1]] for el in e]) for e in el_config[::down]])\n",
    "\n",
    "## change what you're plotting\n",
    "xaxis = y_points\n",
    "yaxis = y_pot\n",
    "adaptive_yaxis = False\n",
    "\n",
    "%matplotlib inline\n",
    "fig, ax = plt.subplots()\n",
    "# ax.set_ylim(min(yaxis.flatten()), max(yaxis.flatten()))\n",
    "ax.set_ylim(-3, 1)\n",
    "line, = ax.plot(xaxis, yaxis[0])\n",
    "\n",
    "def animate(i):\n",
    "    if adaptive_yaxis:\n",
    "#         ax.set_ylim(min(yaxis[i]), max(yaxis[i]))\n",
    "        ax.set_ylim(yaxis[i][find_peaks(-yaxis[i])[0][0]], max(yaxis[i]))\n",
    "    line.set_ydata(yaxis[i])  # update the data\n",
    "    return line,\n",
    "\n",
    "#Init only required for blitting to give a clean slate.\n",
    "def init():\n",
    "    line.set_ydata(np.ma.array(xaxis, mask=True))\n",
    "    return line,\n",
    "\n",
    "ani = animation.FuncAnimation(fig, animate, np.arange(1, int(len(t_anal)/down)-1), init_func=init,\n",
    "    interval=25, blit=True)\n",
    "HTML(ani.to_jshtml())"
   ]
  },
  {
   "cell_type": "code",
   "execution_count": null,
   "metadata": {},
   "outputs": [],
   "source": []
  }
 ],
 "metadata": {
  "kernelspec": {
   "display_name": "Python 3",
   "language": "python",
   "name": "python3"
  },
  "language_info": {
   "codemirror_mode": {
    "name": "ipython",
    "version": 3
   },
   "file_extension": ".py",
   "mimetype": "text/x-python",
   "name": "python",
   "nbconvert_exporter": "python",
   "pygments_lexer": "ipython3",
   "version": "3.7.6"
  },
  "toc": {
   "base_numbering": 1,
   "nav_menu": {},
   "number_sections": true,
   "sideBar": true,
   "skip_h1_title": false,
   "title_cell": "Table of Contents",
   "title_sidebar": "Contents",
   "toc_cell": false,
   "toc_position": {
    "height": "803px",
    "left": "37px",
    "top": "110px",
    "width": "358.391px"
   },
   "toc_section_display": true,
   "toc_window_display": true
  }
 },
 "nbformat": 4,
 "nbformat_minor": 4
}
