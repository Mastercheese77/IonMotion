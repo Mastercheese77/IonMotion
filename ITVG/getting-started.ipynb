{
 "cells": [
  {
   "cell_type": "markdown",
   "metadata": {},
   "source": [
    "# Getting started with ITVG"
   ]
  },
  {
   "cell_type": "markdown",
   "metadata": {},
   "source": [
    "Ion Trap Voltage Generation (ITVG) is a Python module written to generate voltage sets to apply to ion trap electrodes to produce electric potentials satisfying a variety of user-specified constraints, based on COMSOL simulations giving the effect of unit voltages on each trap electrode.\n",
    "\n",
    "The approach we take is as follows:\n",
    "1. Import grid files from COMSOL which represent the unit potentials in space.\n",
    "2. Group electrodes that will be tied together and specify the RF electrodes and paramters.\n",
    "3. Specify points of interest. \n",
    "    * Express this potential as an order $N$ polynomial in $(x,y,z)$ by performing a least-squares fit to the points\n",
    "    * Obtain this expression for a unit voltage application to each electrode set.\n",
    "3. Specify constraints which describe the desired potential.\n",
    "    * Constraints are specified as coefficients of the polynomial, e.g. the `xx` or `xyzz` coefficients.\n",
    "    * Working in coefficients, we now have a linear problem to solve.\n",
    "4. Solve the least-squares problem of satisfying the coefficient constraints.\n",
    "    * Solve $C \\mathbf v = \\mathbf y$ where C is a matrix of observed coefficients for unit applied voltages to each electrode set.\n",
    "    * This is often overdetermined, so we find the least-squares solution for $\\mathbf v$.\n",
    "    * In the future we would like to incorporate a more sophisticated approach permitting a general cost function."
   ]
  },
  {
   "cell_type": "code",
   "execution_count": 1,
   "metadata": {},
   "outputs": [],
   "source": [
    "import time\n",
    "\n",
    "import matplotlib.pyplot as plt\n",
    "import numpy as np\n",
    "import scipy"
   ]
  },
  {
   "cell_type": "markdown",
   "metadata": {},
   "source": [
    "Import the module! If Python reports it doesn't exist, make sure you've installed it in the conda environment that the IPython kernel comes from. We load autoreload so we can edit the library code while we play with it in Jupyter, if we find we need to."
   ]
  },
  {
   "cell_type": "code",
   "execution_count": 2,
   "metadata": {},
   "outputs": [],
   "source": [
    "import VoltageGeneration\n",
    "\n",
    "%load_ext autoreload\n",
    "%autoreload 2"
   ]
  },
  {
   "cell_type": "markdown",
   "metadata": {},
   "source": [
    "## The `VoltageGeneration` object"
   ]
  },
  {
   "cell_type": "markdown",
   "metadata": {},
   "source": [
    "The first step is to initialize the `VoltageGeneration` object with the parameters of our trap, among other things. For a full description of all the allowed arguments (of which these here form a subset), see the code. This object will hold all the information from the grid files, so it will take a while to run if your grid files are large (for 6 GB, we need ~400 s). Take the time to skim the documentation!\n",
    "\n",
    "Of note here is `f_cons`, which supplies default constraints to use in generating all voltage sets (unless overridden by a new value). Typically we want to force the linear fields at points of interest to 0 (to be at a potential minimum), so we include three default constraints for that. When we want a nonzero field (typically for micromotion compensation), we will explicitly state that.\n",
    "\n",
    "Also interesting is `scale`, which specifies the unit of length used in grid files in terms of meters. Typically grid files lengths are given in microns (hence `scale=1e-6`). This will define the unit of length we use everywhere."
   ]
  },
  {
   "cell_type": "code",
   "execution_count": 3,
   "metadata": {},
   "outputs": [
    {
     "name": "stdout",
     "output_type": "stream",
     "text": [
      "\n",
      "        Initialize a voltage generation object based on specified grid\n",
      "        files, which must be named `<GRIDNAME>_<ELECTRODE_NUM>.txt`.\n",
      "\n",
      "        All electrodes are specified by their grid file numbers.\n",
      "\n",
      "        The grid files must follow the schema described in\n",
      "        VoltageGeneration.import_unit_potentials (see above).\n",
      "\n",
      "        Parameters\n",
      "        ----------\n",
      "        grid_path : string\n",
      "            path to grid files\n",
      "        grid_name : string\n",
      "            name stem of grid files\n",
      "        electrode_grouping : iterable<iterable<int>>\n",
      "            list of lists giving electrodes tied together.\n",
      "        rf_electrodes : iterable<int>\n",
      "            iterable of rf electrodes (only one is supported at the moment)\n",
      "        order : int\n",
      "            maximum polynomial order to do fits with\n",
      "        f_cons : ???\n",
      "            default constraints to use in all fits unless overridden\n",
      "        custom_fit : ???\n",
      "            ???\n",
      "        m : number\n",
      "            ion mass, in kg\n",
      "        rf_omega : number\n",
      "            angular frequency of rf, in rad/s\n",
      "        v_rf : iterable\n",
      "            rf voltage amplitudes (currently must be 1-element list)\n",
      "        scale : number\n",
      "            length units of grid files, in meters (typically 1e-6)\n",
      "        fit_ranges : array_like, shape (3,)\n",
      "            (half the) dimensions of region in which to do polynomial fits\n",
      "        rf_axis : one of {'x', 'y', 'z'}\n",
      "            trap axis (currently only supports 'y'), TODO\n",
      "        verbose : boolean\n",
      "            whether to print information during grid file loading\n",
      "        \n"
     ]
    }
   ],
   "source": [
    "print(VoltageGeneration.VoltageGeneration.__init__.__doc__)"
   ]
  },
  {
   "cell_type": "code",
   "execution_count": 4,
   "metadata": {},
   "outputs": [
    {
     "name": "stdout",
     "output_type": "stream",
     "text": [
      "Importing electrode 1\n",
      "Importing electrode 10\n",
      "Importing electrode 11\n",
      "Importing electrode 12\n",
      "Importing electrode 13\n",
      "Importing electrode 14\n",
      "Importing electrode 15\n",
      "Importing electrode 16\n",
      "Importing electrode 17\n",
      "Importing electrode 18\n",
      "Importing electrode 19\n",
      "Importing electrode 2\n",
      "Importing electrode 20\n",
      "Importing electrode 21\n",
      "Importing electrode 3\n",
      "Importing electrode 4\n",
      "Importing electrode 5\n",
      "Importing electrode 6\n",
      "Importing electrode 7\n",
      "Importing electrode 8\n",
      "Importing electrode 9\n",
      "Potentials imported\n",
      "Imported grid files in 382.4328577518463\n"
     ]
    }
   ],
   "source": [
    "path = r'C:\\Users\\Ions\\Documents\\COMSOL\\StandardLincoln'\n",
    "name = \"AngleTrap_Skinny_Potential\"\n",
    "\n",
    "default_constraints = [('x', 0), ('y', 0), ('z', 0)]\n",
    "\n",
    "start_time = time.time()\n",
    "vg = VoltageGeneration.VoltageGeneration(\n",
    "    path,\n",
    "    name,\n",
    "    [[x] for x in range(1, 21)],\n",
    "    [21],\n",
    "    order=4,\n",
    "    f_cons=default_constraints,\n",
    "    rf_omega=2*np.pi*46e6,\n",
    "    v_rf=[56],\n",
    "    scale=1e-6,\n",
    ")\n",
    "print(\"Imported grid files in {:.2f} s\".format(time.time() - start_time))"
   ]
  },
  {
   "cell_type": "markdown",
   "metadata": {},
   "source": [
    "## Generating voltages"
   ]
  },
  {
   "cell_type": "markdown",
   "metadata": {},
   "source": [
    "The first thing to do is to generate a set of voltages!\n",
    "\n",
    "When we generate a set of voltages, we always have a set of constraints in mind: the Taylor expansion coefficients of the potential near a point (or potentials near a set of points) should take on some values we specify. ITVG names these coefficients after their monomials as strings of the form `'xxxyzz'` (which we represent the coefficient on $ x^3 y z^2 $). `x` comes before `y`, which comes before `z`. The constant term (which we don't generally care about) can be specified by `'const'`.\n",
    "\n",
    "Constraints are given in `volts / scale**k` where `scale` is the length unit.\n",
    "\n",
    "For this part, we're only thinking about the DC potential."
   ]
  },
  {
   "cell_type": "markdown",
   "metadata": {},
   "source": [
    "Let's produce a harmonic potential centered at (0, 0, 50) um, with oscillation frequency 1 MHz.\n",
    "\n",
    "We constrain the quadratic coefficients in the other two coordinate axes such that the sum is 0, as required by Laplace's equation. Also, we require the principal axes be pointed along our coordinate axes by forcing `xy=yz=xz=0`."
   ]
  },
  {
   "cell_type": "code",
   "execution_count": 5,
   "metadata": {
    "scrolled": true
   },
   "outputs": [
    {
     "name": "stdout",
     "output_type": "stream",
     "text": [
      "[ 1.71412296  0.98153158  1.98106941  1.1433001  -5.98355459  1.15607973\n",
      "  1.98295555  0.97699347  1.56432043  0.16198681  0.16211966  1.7302546\n",
      "  0.9785509   1.9818121   1.14040044 -5.98511077  1.15311623  1.98289055\n",
      "  0.97776929  1.58072384]\n",
      "Time taken: 53.741 s\n"
     ]
    }
   ],
   "source": [
    "amu = 1.66053904e-27  # kg\n",
    "m_ion = 40 * amu  # for Ca40\n",
    "\n",
    "yycons = 0.5 * m_ion * (2 * np.pi * 1e6)**2 * (1e-6)**2 / 1.602e-19  # 1/2 m omega^2\n",
    "xxcons = -4 * yycons\n",
    "zzcons = 3 * yycons\n",
    "\n",
    "constraints = [('yy', yycons), ('xx', xxcons), ('zz', zzcons), ('xy', 0), ('yz', 0), ('xz', 0)]\n",
    "\n",
    "R = [0, 0, 50]\n",
    "\n",
    "t = time.time()\n",
    "app_voltages = vg.findControlVoltages([R], cons=[constraints])\n",
    "print(app_voltages)\n",
    "print(\"Time taken: {:.3f} s\".format(time.time()-t))"
   ]
  },
  {
   "cell_type": "markdown",
   "metadata": {},
   "source": [
    "The voltage set `app_voltages` is a set of \"grouped voltages\". That is, if we had considered certain subsets of electrodes as driven by the same DAC (and thus tied at the same voltage), app_voltages would only have length equal to the number of _independent_ electrodes. When all electrodes are independent, it has one voltage per electrode, making it confusing. Sorry.\n",
    "\n",
    "To go from _grouped_ voltages (one per DAC) to _ungrouped_ voltages (one per electrode), we use `ungroup_configuration`:"
   ]
  },
  {
   "cell_type": "code",
   "execution_count": 6,
   "metadata": {},
   "outputs": [],
   "source": [
    "ungrouped_voltages = vg.ungroup_configuration(app_voltages)"
   ]
  },
  {
   "cell_type": "markdown",
   "metadata": {},
   "source": [
    "To check our generated voltage set, we can use the grid files to compute the potential we would get from applying the prescribed voltage set `app_voltages` using `compute_potential`, which can be invoked as follows on a single point:"
   ]
  },
  {
   "cell_type": "code",
   "execution_count": 7,
   "metadata": {
    "scrolled": true
   },
   "outputs": [
    {
     "name": "stdout",
     "output_type": "stream",
     "text": [
      "[0.03886587]\n"
     ]
    }
   ],
   "source": [
    "center_potential = vg.compute_potential([0, 0, 50], ungrouped_voltages)\n",
    "print(center_potential)"
   ]
  },
  {
   "cell_type": "markdown",
   "metadata": {},
   "source": [
    "It can also be invoked on an $ N\\times 3$ matrix (interpreted as $N$ points). Thus, we can plot the potential generated by our voltages, along with the expected potential given our constraints:"
   ]
  },
  {
   "cell_type": "code",
   "execution_count": 8,
   "metadata": {},
   "outputs": [
    {
     "data": {
      "image/png": "[encoded data removed]",
      "text/plain": [
       "<Figure size 432x288 with 1 Axes>"
      ]
     },
     "metadata": {
      "needs_background": "light"
     },
     "output_type": "display_data"
    }
   ],
   "source": [
    "n_points = 101\n",
    "\n",
    "y_points = np.linspace(-150, 150, n_points)\n",
    "R = np.array([0, 0, 50])\n",
    "\n",
    "zeros = np.zeros(n_points)\n",
    "test_points = np.array([zeros, y_points, zeros]).T + R\n",
    "\n",
    "exact_potential = vg.compute_potential(test_points, ungrouped_voltages)\n",
    "ideal_potential = center_potential + yycons * y_points**2\n",
    "\n",
    "fig, ax = plt.subplots()\n",
    "ax.set_xlabel(\"um along trap axis\")\n",
    "ax.set_ylabel(\"potential (V)\")\n",
    "ax.plot(y_points, exact_potential)\n",
    "ax.plot(y_points, ideal_potential)\n",
    "\n",
    "plt.show()"
   ]
  },
  {
   "cell_type": "markdown",
   "metadata": {},
   "source": [
    "So we see that our fits agree with an ideal harmonic well within $\\approx\\pm 40 \\mu\\mathrm{m}$"
   ]
  },
  {
   "cell_type": "markdown",
   "metadata": {},
   "source": [
    "## Tilting the potential"
   ]
  },
  {
   "cell_type": "markdown",
   "metadata": {},
   "source": [
    "### Theory (optional-ish)"
   ]
  },
  {
   "cell_type": "markdown",
   "metadata": {},
   "source": [
    "For better Doppler cooling, we want to tilt the principal axes of the potential\n",
    "(more accurately, the pseudopotential) so that the Doppler beam $\\mathbf k$-vector has a projection\n",
    "on each axis. Without tilt, we don't get efficient cooling along the $z$-mode,\n",
    "as our Doppler beam is parallel to the trap.\n",
    "\n",
    "The idea is to create constraints with the standard trap axes as principal axes,\n",
    "then rotate coordinate systems to get constraints describing a rotated dc potential.\n",
    "Note that the tilt angle we would specify in doing so\n",
    "will give the tilt in the _dc potential only_, **excluding the rf pseudopotential**.\n",
    "(For that, see below!)\n",
    "\n",
    "In particular, say our original potential is given by\n",
    "\n",
    "$$\n",
    "  \\mathbf{s}^T A \\mathbf{s}\n",
    "  =\n",
    "  [\\begin{array}{ccc} x & y & z \\end{array}]\n",
    "  \\left[\n",
    "    \\begin{array}{ccc}\n",
    "      A_{xx} & A_{xy} & A_{xz} \\\\\n",
    "      A_{xy} & A_{yy} & A_{yz} \\\\\n",
    "      A_{xz} & A_{yz} & A_{zz} \\\\\n",
    "    \\end{array}\n",
    "  \\right]\n",
    "  \\left[\\begin{array}{c} x \\\\ y \\\\ z\\end{array}\\right]\n",
    "$$\n",
    "\n",
    "where $\\mathbf s$ is the displacement from trap center.\n",
    "Note that these are different from the coefficients `xx, xy, ...`\n",
    "described in the code by some factors of 2.\n",
    "In particular, the diagonal terms are the same (e.g. $A_{xx} = C_{xx}$)\n",
    "while the off-diagonal terms aren't:\n",
    "\n",
    "$$\n",
    "  A_{xy} = \\frac 12 C_{xy}.\n",
    "$$"
   ]
  },
  {
   "cell_type": "markdown",
   "metadata": {},
   "source": [
    "Introduce rotation matrix\n",
    "\n",
    "$$\n",
    "  R = \\left[\n",
    "    \\begin{array}{ccc}\n",
    "      \\cos\\theta & 0 & -\\sin\\theta \\\\\n",
    "      0 & 1 & 0 \\\\\n",
    "      \\sin\\theta & 0 & \\cos\\theta \\\\\n",
    "    \\end{array}\n",
    "  \\right]\n",
    "$$\n",
    "\n",
    "which rotates unit vector $\\hat x$ by $\\theta$ toward $\\hat z$.\n",
    "(Alternatively, this rotates $\\hat z$ by $-\\theta$ toward $\\hat x$.)\n",
    "Then the potential\n",
    "\n",
    "$$\n",
    "  \\mathbf{s}^T R^T A R \\mathbf{s}\n",
    "$$\n",
    "\n",
    "is the potential given by $A$,\n",
    "except rotated in the $zx$-plane,\n",
    "with the $z$ principal axis rotated by $+\\theta$ toward $x$.\n",
    "\n",
    "Bashing shows that\n",
    "\n",
    "$$\n",
    "  \\left[\n",
    "    \\begin{array}{ccc}\n",
    "      A'_{xx} & A'_{xy} & A'_{xz} \\\\\n",
    "      A'_{xy} & A'_{yy} & A'_{yz} \\\\\n",
    "      A'_{xz} & A'_{yz} & A'_{zz} \\\\\n",
    "    \\end{array}\n",
    "  \\right]\n",
    "  \\equiv\n",
    "  R^T A R = \\left[\n",
    "    \\begin{array}{ccc}\n",
    "      A_{xx}\\cos^2\\theta + A_{zz}\\sin^2\\theta + A_{xz} \\sin 2\\theta & 0 & A_{xz} \\cos 2\\theta + (A_{zz} - A_{xx})\\sin\\theta\\cos\\theta \\\\\n",
    "      0 & A_{yy} & 0 \\\\\n",
    "      A_{xz} \\cos 2\\theta + (A_{zz} - A_{xx})\\sin\\theta\\cos\\theta & 0 & A_{zz}\\cos^2\\theta + A_{xx}\\sin^2\\theta - A_{xz} \\sin 2\\theta \\\\\n",
    "    \\end{array}\n",
    "  \\right]\n",
    "$$"
   ]
  },
  {
   "cell_type": "markdown",
   "metadata": {},
   "source": [
    "In particular, in terms of the $C_{ij}$ coefficients in the code,\n",
    "\n",
    "$$\n",
    "\\begin{align*}\n",
    "  C'_{xx} &= C_{xx} \\cos^2\\theta + C_{zz} \\sin^2\\theta + \\frac 12 C_{xz} \\sin 2\\theta \\\\\n",
    "  C'_{zz} &= C_{zz} \\cos^2\\theta + C_{xx} \\sin^2\\theta - \\frac 12 C_{xz} \\sin 2\\theta \\\\\n",
    "  C'_{xz} &= C_{xz} \\cos 2\\theta + (C_{zz} - C_{xx}) \\sin2\\theta\n",
    "\\end{align*}\n",
    "$$"
   ]
  },
  {
   "cell_type": "markdown",
   "metadata": {},
   "source": [
    "Interestingly, denoting the components of this matrix with a prime as $A'_{xx}$,\n",
    "we have\n",
    "\n",
    "$$\n",
    "  A'_{zz} - A'_{xx} = (A_{zz} - A_{xx}) \\cos 2\\theta - 2 A_{xz} \\sin 2\\theta\n",
    "$$\n",
    "\n",
    "If we suppose that the unprimed $A$ is diagonal (i.e. principal axes along the coordinate axes),\n",
    "$A_{xz} = 0$,\n",
    "\n",
    "$$\n",
    "  A'_{xz} = \\frac 12 (A_{zz} - A_{xx}) \\sin2\\theta,\n",
    "$$\n",
    "\n",
    "and\n",
    "\n",
    "$$\n",
    "  \\frac{A'_{xz}}{A'_{zz} - A'_{xx}} = \\frac12 \\tan 2\\theta\n",
    "$$\n",
    "\n",
    "or in terms of the coefficients used in the code:\n",
    "\n",
    "$$\n",
    "  \\tan 2\\theta = \\frac{C'_{xz}}{C'_{zz} - C'_{xx}}\n",
    "$$\n",
    "\n",
    "This becomes relevant when we try to account for the pseudopotential."
   ]
  },
  {
   "cell_type": "markdown",
   "metadata": {},
   "source": [
    "### Implementation"
   ]
  },
  {
   "cell_type": "markdown",
   "metadata": {},
   "source": [
    "The function `VoltageGeneration.rotate_coeffs` transforms $C \\mapsto C'$."
   ]
  },
  {
   "cell_type": "markdown",
   "metadata": {},
   "source": [
    "For example, consider an untilted potential with `xx = 3` and `zz = -4`. If we take this potential and rotate the $z$ principal axis toward $x$ by $15^\\circ$, we would get the following `xx, xz, zz` values"
   ]
  },
  {
   "cell_type": "code",
   "execution_count": 10,
   "metadata": {},
   "outputs": [
    {
     "name": "stdout",
     "output_type": "stream",
     "text": [
      "[2.531088913245535, -3.4999999999999996, -3.5310889132455356]\n"
     ]
    }
   ],
   "source": [
    "print(VoltageGeneration.rotate_coeffs(np.radians(15), 3, 0, -4))"
   ]
  },
  {
   "cell_type": "markdown",
   "metadata": {},
   "source": [
    "In general, to rotate a potential, we come up with the constraints for the untilted potential, then use `rotate_coeffs` to find constraints that produce the rotated potential. To rotate our previous potential by $15^\\circ$, for example:"
   ]
  },
  {
   "cell_type": "code",
   "execution_count": 11,
   "metadata": {},
   "outputs": [
    {
     "name": "stdout",
     "output_type": "stream",
     "text": [
      "[ 1.66780363  0.98912776  2.02749943  1.35042534 -5.55900854  1.36181095\n",
      "  2.02975713  0.98514685  1.52826971 -0.2122872   0.41170436  1.59279274\n",
      "  0.91726611  1.84915759  0.81318221 -6.51356143  0.82480683  1.84948327\n",
      "  0.91647954  1.45923152]\n",
      "Time taken: 0.123 s\n"
     ]
    }
   ],
   "source": [
    "xxt, xzt, zzt = VoltageGeneration.rotate_coeffs(np.radians(15), xxcons, 0, zzcons)\n",
    "\n",
    "constraints = [('yy', yycons), ('xx', xxt), ('zz', zzt), ('xz', xzt), ('xy', 0), ('yz', 0)]\n",
    "\n",
    "R = [0, 0, 50]\n",
    "\n",
    "t = time.time()\n",
    "tilted_voltages = vg.findControlVoltages([R], cons=[constraints])\n",
    "print(tilted_voltages)\n",
    "print(\"Time taken: {:.3f} s\".format(time.time()-t))"
   ]
  },
  {
   "cell_type": "markdown",
   "metadata": {},
   "source": [
    "Of course, the actual tilt of the combined rf + dc pseudopotential is not necessarily what we program here, since it only includes the dc potential.\n",
    "\n",
    "To look at the tilt, we can use `VoltageGeneration.compute_total_potential_axes`. On the untilted voltages:"
   ]
  },
  {
   "cell_type": "code",
   "execution_count": 12,
   "metadata": {},
   "outputs": [
    {
     "name": "stdout",
     "output_type": "stream",
     "text": [
      "Hessian:\n",
      "[[3.13926918e-04 4.92628160e-09 4.75214085e-09]\n",
      " [4.92628160e-09 8.19433803e-06 3.33623908e-08]\n",
      " [4.75214085e-09 3.33623908e-08 3.42206620e-04]]\n",
      "Frequencies in Hz: [1000781.32570986 6194362.58581068 6467352.78552115]\n",
      "Corresponding axes (as row vectors):\n",
      " [[ 1.61114882e-05 -9.99999995e-01  9.98834939e-05]\n",
      " [ 9.99999986e-01  1.60947017e-05 -1.68059675e-04]\n",
      " [-1.68058067e-04 -9.98862002e-05 -9.99999981e-01]]\n"
     ]
    }
   ],
   "source": [
    "_ = vg.compute_total_potential_axes(R, app_voltages)"
   ]
  },
  {
   "cell_type": "markdown",
   "metadata": {},
   "source": [
    "The axes are pretty axis-parallel."
   ]
  },
  {
   "cell_type": "code",
   "execution_count": 13,
   "metadata": {},
   "outputs": [
    {
     "name": "stdout",
     "output_type": "stream",
     "text": [
      "Hessian:\n",
      "[[3.17765033e-04 4.93770312e-09 1.43271226e-05]\n",
      " [4.93770312e-09 8.19468419e-06 3.17486785e-08]\n",
      " [1.43271226e-05 3.17486785e-08 3.38369274e-04]]\n",
      "Frequencies in Hz: [1000802.48307017 6159672.57614391 6500408.26957173]\n",
      "Corresponding axes (as row vectors):\n",
      " [[ 1.15231006e-05 -9.99999995e-01  9.56572255e-05]\n",
      " [ 8.89888832e-01 -3.33823908e-05 -4.56177450e-01]\n",
      " [-4.56177451e-01 -9.03808753e-05 -8.89888827e-01]]\n"
     ]
    }
   ],
   "source": [
    "hessian, sec_freqs, axes = vg.compute_total_potential_axes(R, tilted_voltages)"
   ]
  },
  {
   "cell_type": "markdown",
   "metadata": {},
   "source": [
    "The tilt is then the angle of the $z$ principal axis (the last vector here) off from $z$; in this case we can compute it as\n",
    "$$\n",
    "  \\tan \\theta = \\frac{v_x}{v_z}\n",
    "$$"
   ]
  },
  {
   "cell_type": "code",
   "execution_count": 14,
   "metadata": {},
   "outputs": [
    {
     "name": "stdout",
     "output_type": "stream",
     "text": [
      "Tilt angle: 27.14 deg\n"
     ]
    }
   ],
   "source": [
    "actual_tilt_angle = np.arctan(axes[2,0]/axes[2,2])\n",
    "print(\"Tilt angle: {:.2f} deg\".format(np.degrees(actual_tilt_angle)))"
   ]
  },
  {
   "cell_type": "markdown",
   "metadata": {},
   "source": [
    "Note that this is very much _not_ 15 degrees."
   ]
  },
  {
   "cell_type": "markdown",
   "metadata": {},
   "source": [
    "### Including the rf pseudopotential"
   ]
  },
  {
   "cell_type": "markdown",
   "metadata": {},
   "source": [
    "As of now, our code does not account for the rf pseudopotential when it does fitting (though this is a possibility for the future). We can work around this by varying the tilt angle of the dc potential until the full rf+dc pseudopotential has the desired tilt. This is what we do in `VoltageGeneration.tilt_with_pseudo` (side note: this is where we use the neat formula for $\\tan 2\\theta$ from above)."
   ]
  },
  {
   "cell_type": "code",
   "execution_count": 15,
   "metadata": {},
   "outputs": [
    {
     "name": "stdout",
     "output_type": "stream",
     "text": [
      "[ 5.37517391  2.740054    1.76146546 -2.73651641 -5.70720917 -2.60726077\n",
      "  1.61109161  2.07961723  5.12934373 -0.19308793  0.12705288  3.51490764\n",
      "  2.03563965  1.73353257 -2.88710945 -5.95348081 -2.91492909  1.95672238\n",
      "  2.59422649  2.31247455]\n",
      "Time taken: 0.114 s\n"
     ]
    }
   ],
   "source": [
    "xxt, xzt, zzt = vg.tilt_with_pseudo(R, np.radians(15), yycons)\n",
    "\n",
    "constraints = [('yy', yycons), ('xx', xxt), ('zz', zzt), ('xz', xzt), ('xy', 0), ('yz', 0)]\n",
    "\n",
    "t = time.time()\n",
    "tilted_with_pseudo_voltages = vg.findControlVoltages([R], cons=[constraints])\n",
    "print(tilted_with_pseudo_voltages)\n",
    "print(\"Time taken: {:.3f} s\".format(time.time()-t))"
   ]
  },
  {
   "cell_type": "markdown",
   "metadata": {},
   "source": [
    "Again we can find the principal axes:"
   ]
  },
  {
   "cell_type": "code",
   "execution_count": 16,
   "metadata": {},
   "outputs": [
    {
     "name": "stdout",
     "output_type": "stream",
     "text": [
      "Hessian:\n",
      "[[3.14935586e-04 4.92814800e-09 7.57554498e-06]\n",
      " [4.92814800e-09 8.18438135e-06 3.35324447e-08]\n",
      " [7.57554498e-06 3.35324447e-08 3.41177996e-04]]\n",
      "Frequencies in Hz: [1000173.13055049 6184279.34056118 6476807.07030185]\n",
      "Corresponding axes (as row vectors):\n",
      " [[ 1.35863601e-05 -9.99999995e-01  1.00390874e-04]\n",
      " [ 9.65925727e-01 -1.28596927e-05 -2.58819415e-01]\n",
      " [-2.58819415e-01 -1.00486542e-04 -9.65925722e-01]]\n"
     ]
    }
   ],
   "source": [
    "hessian, sec_freqs, axes = vg.compute_total_potential_axes(R, tilted_with_pseudo_voltages)"
   ]
  },
  {
   "cell_type": "markdown",
   "metadata": {},
   "source": [
    "This time, the tilt angle is exactly what we wanted:"
   ]
  },
  {
   "cell_type": "code",
   "execution_count": 17,
   "metadata": {},
   "outputs": [
    {
     "name": "stdout",
     "output_type": "stream",
     "text": [
      "Tilt angle: 15.00 deg\n"
     ]
    }
   ],
   "source": [
    "actual_tilt_angle = np.arctan(axes[2,0]/axes[2,2])\n",
    "print(\"Tilt angle: {:.2f} deg\".format(np.degrees(actual_tilt_angle)))"
   ]
  }
 ],
 "metadata": {
  "kernelspec": {
   "display_name": "Python [conda env:itvg3-test]",
   "language": "python",
   "name": "conda-env-itvg3-test-py"
  },
  "language_info": {
   "codemirror_mode": {
    "name": "ipython",
    "version": 3
   },
   "file_extension": ".py",
   "mimetype": "text/x-python",
   "name": "python",
   "nbconvert_exporter": "python",
   "pygments_lexer": "ipython3",
   "version": "3.5.5"
  }
 },
 "nbformat": 4,
 "nbformat_minor": 2
}
