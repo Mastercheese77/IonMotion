{
 "cells": [
  {
   "cell_type": "code",
   "execution_count": 1,
   "metadata": {},
   "outputs": [],
   "source": [
    "import VoltageGeneration"
   ]
  },
  {
   "cell_type": "code",
   "execution_count": 2,
   "metadata": {},
   "outputs": [],
   "source": [
    "import os\n",
    "import os.path\n",
    "import time"
   ]
  },
  {
   "cell_type": "code",
   "execution_count": 3,
   "metadata": {},
   "outputs": [],
   "source": [
    "%matplotlib inline\n",
    "import numpy as np\n",
    "import numpy.linalg as la\n",
    "import matplotlib.pyplot as plt\n",
    "import scipy as sp\n",
    "import scipy.optimize as sciopt\n",
    "\n",
    "colors = [\"#1CE6FF\", \"#FF34FF\", \"#FF4A46\", \"#008941\", \"#006FA6\", \"#A30059\", \\\n",
    "          \"#FFDBE5\", \"#7A4900\", \"#0000A6\", \"#63FFAC\", \"#B79762\", \"#004D43\", \\\n",
    "          \"#8FB0FF\", \"#997D87\", \"#5A0007\", \"#809693\", \"#FFAA92\", \"#1B4400\", \\\n",
    "          \"#4FC601\", \"#3B5DFF\", \"#4A3B53\", \"#FF2F80\", \"#61615A\", \"#BA0900\", \\\n",
    "          \"#6B7900\", \"#00C2A0\", \"#FFAA92\", \"#FF90C9\", \"#B903AA\", \"#D16100\", \\\n",
    "          \"#DDEFFF\", \"#000035\", \"#7B4F4B\", \"#A1C299\", \"#300018\", \"#0AA6D8\", \\\n",
    "          \"#013349\", \"#00846F\", \"#372101\", \"#FFB500\", \"#C2FFED\", \"#A079BF\", \\\n",
    "          \"#CC0744\", \"#C0B9B2\", \"#C2FF99\", \"#001E09\", \"#00489C\", \"#6F0062\"]\n",
    "\n",
    "%load_ext autoreload\n",
    "%autoreload 2"
   ]
  },
  {
   "cell_type": "code",
   "execution_count": 4,
   "metadata": {},
   "outputs": [],
   "source": [
    "amu = 1.66e-27\n",
    "elem_charge = 1.602e-19\n",
    "m = 88 * amu\n",
    "\n",
    "kHz = 1e3\n",
    "MHz = 1e6"
   ]
  },
  {
   "cell_type": "code",
   "execution_count": 5,
   "metadata": {},
   "outputs": [],
   "source": [
    "# New style, on wax\n",
    "\n",
    "# Ordering for the standard trap configuration\n",
    "electrode_ordering = [\n",
    "        \"S6\", \"S7\", \"S8\", \"S9\", \"S10\", \"S11\", \"S12\", \"S13\", \"S14\",\n",
    "        \"S24\", \"S25\",\n",
    "        \"N6\", \"N7\", \"N8\", \"N9\", \"N10\", \"N11\", \"N12\", \"N13\", \"N14\",\n",
    "]"
   ]
  },
  {
   "cell_type": "code",
   "execution_count": 6,
   "metadata": {},
   "outputs": [],
   "source": [
    "##Need to convert to the new style!\n",
    "\n",
    "# Ordering for the maxbeta configuration\n",
    "electrode_ordering = [\n",
    "    \"S1\", \"S2\", \"S3\", \"S4\", \"S8\", \"S9\", \"S10\", \"S11\", \"S12\",\n",
    "    \"S13\", \"S14\", \"S19\", \"S20\", \"S21\",\n",
    "    \"S22\", \"S23\", \"S24\", \"S25\",\n",
    "    \"N1\", \"N2\", \"N3\", \"N4\", \"N8\", \"N9\", \"N10\", \"N11\", \"N12\",\n",
    "    \"N13\", \"N14\", \"N19\", \"N20\", \"N21\",\n",
    "]\n",
    "artiq_electrode_ordering = [\n",
    "    27, 25, 23, 21, 19, 17, 15, 13, 11,\n",
    "    9, 7, 5, 3, 1,\n",
    "    32, 31, 30, 29,\n",
    "    2, 4, 6, 8, 10, 12, 14, 16, 18,\n",
    "    20, 22, 24, 26, 28\n",
    "]\n",
    "\n",
    "# converts grid file number to electrode\n",
    "def num_to_electrode_name(num):\n",
    "    grid_num = artiq_electrode_ordering.index(num)\n",
    "    return electrode_ordering[grid_num]"
   ]
  },
  {
   "cell_type": "code",
   "execution_count": 7,
   "metadata": {},
   "outputs": [],
   "source": [
    "def rotate_coeffs(theta, xx, xz, zz):\n",
    "    \"\"\"\n",
    "    Find the coefficients $C'_{xx}, C'_{xz}, C'_{zz}$ of the potential\n",
    "    after a rotation in the zx-plane by `theta` given the unprimed values,\n",
    "    as described above.\n",
    "    \n",
    "    `theta` specified in radians.\n",
    "    \"\"\"\n",
    "    sin = np.sin\n",
    "    cos = np.cos\n",
    "    \n",
    "    xxnew = xx*cos(theta)**2 + zz*sin(theta)**2 + 0.5*xz*sin(2*theta)\n",
    "    xznew = xz*cos(2*theta)  + (zz-xx)*sin(2*theta)\n",
    "    zznew = zz*cos(theta)**2 + xx*sin(theta)**2 - 0.5*xz*sin(2*theta)\n",
    "    \n",
    "    return [xxnew, xznew, zznew]"
   ]
  },
  {
   "cell_type": "code",
   "execution_count": 8,
   "metadata": {},
   "outputs": [],
   "source": [
    "def dcTiltAngle(vg, R, theta_targ, yy, rfEls, delta=3, debug=False):\n",
    "    # expansion coefficients of the pseudopotential near the trapping point `R`\n",
    "    # THIS FUNCTION ASSUMES ONE RF ELECTRODE!\n",
    "    rf_coeffs = vg.printCoefficients(R, rfEls, ('zz', 'xx', 'xz', 'yy', 'xy', 'yz'), printing=False)[0]\n",
    "    [rfzz, rfxx, rfxz, rfyy, rfxy, rfyz] = rf_coeffs[:,0]\n",
    "    \n",
    "    def tiltError(theta_tilt, debug=False):\n",
    "        \"\"\"\n",
    "        Error in the tilt angle of the full potential, as a function of the dc tilt.\n",
    "        \"\"\"\n",
    "        \n",
    "        zz = delta*yy\n",
    "        xx = -(1+delta)*yy # delta ensures Laplace (div phi = 0) is satisfied, but adjusts the principal axes of the xz ellipse\n",
    "        xz = 0\n",
    "        \n",
    "        # rotate!\n",
    "        [xxnew, xznew, zznew] = rotate_coeffs(theta_tilt, xx, xz, zz)\n",
    "\n",
    "        if debug:\n",
    "            print (np.degrees(theta_tilt))\n",
    "            print (np.degrees(np.arctan((xznew+rfxz)/((rfzz+zznew) - (rfxx+xxnew))))/2)\n",
    "        \n",
    "        return (\n",
    "            np.tan(2*theta_targ) - (xznew+rfxz)/((rfzz+zznew) - (rfxx+xxnew))\n",
    "        )**2\n",
    "    \n",
    "    if debug:\n",
    "        print (np.degrees(theta_targ))\n",
    "\n",
    "        fig, ax = plt.subplots()\n",
    "        angle_space = np.linspace(0, np.pi/2, 91)\n",
    "        errors = [tiltError(theta) for theta in angle_space]\n",
    "        ax.plot(np.degrees(angle_space), errors)\n",
    "        ax.set_ylim(0,1)\n",
    "    \n",
    "    return sciopt.minimize_scalar(tiltError).x\n",
    "\n",
    "def tiltWithPseudo(vg, R, theta_targ, yy, rfEls, delta=3, debug=False):\n",
    "    th = dcTiltAngle(vg, R, theta_targ, yy, rfEls, delta=delta, debug=debug)\n",
    "    \n",
    "    if debug:\n",
    "        print (\"Tilting dc to {:.2f} deg\".format(np.degrees(th)))\n",
    "    \n",
    "    zz = delta*yy\n",
    "    xx = -(1+delta)*yy\n",
    "    xz = 0\n",
    "    return rotate_coeffs(th, xx, xz, zz)"
   ]
  },
  {
   "cell_type": "code",
   "execution_count": 9,
   "metadata": {},
   "outputs": [
    {
     "name": "stdout",
     "output_type": "stream",
     "text": [
      "Importing electrode 9\n",
      "Importing electrode 8\n",
      "Importing electrode 23\n",
      "Importing electrode 22\n",
      "Importing electrode 20\n",
      "Importing electrode 21\n",
      "Importing electrode 19\n",
      "Importing electrode 31\n",
      "Importing electrode 25\n",
      "Importing electrode 24\n",
      "Importing electrode 30\n",
      "Importing electrode 18\n",
      "Importing electrode 26\n",
      "Importing electrode 32\n",
      "Importing electrode 33\n"
     ]
    },
    {
     "ename": "KeyboardInterrupt",
     "evalue": "",
     "output_type": "error",
     "traceback": [
      "\u001b[0;31m---------------------------------------------------------------------------\u001b[0m",
      "\u001b[0;31mKeyboardInterrupt\u001b[0m                         Traceback (most recent call last)",
      "\u001b[0;32m<ipython-input-9-73eb9881ae9d>\u001b[0m in \u001b[0;36m<module>\u001b[0;34m\u001b[0m\n\u001b[1;32m     25\u001b[0m     \u001b[0morder\u001b[0m\u001b[0;34m=\u001b[0m\u001b[0;36m2\u001b[0m\u001b[0;34m,\u001b[0m\u001b[0;34m\u001b[0m\u001b[0;34m\u001b[0m\u001b[0m\n\u001b[1;32m     26\u001b[0m     \u001b[0mf_cons\u001b[0m\u001b[0;34m=\u001b[0m\u001b[0md_cons\u001b[0m\u001b[0;34m,\u001b[0m\u001b[0;34m\u001b[0m\u001b[0;34m\u001b[0m\u001b[0m\n\u001b[0;32m---> 27\u001b[0;31m     \u001b[0mv_rf\u001b[0m\u001b[0;34m=\u001b[0m\u001b[0;34m[\u001b[0m\u001b[0;36m67.2\u001b[0m\u001b[0;34m]\u001b[0m\u001b[0;34m\u001b[0m\u001b[0;34m\u001b[0m\u001b[0m\n\u001b[0m\u001b[1;32m     28\u001b[0m     \u001b[0;31m#v_rf=[50.0]\u001b[0m\u001b[0;34m\u001b[0m\u001b[0;34m\u001b[0m\u001b[0;34m\u001b[0m\u001b[0m\n\u001b[1;32m     29\u001b[0m )\n",
      "\u001b[0;32m~/Desktop/School/MIT/UROP/SuperUROP/ITVG/VoltageGeneration.py\u001b[0m in \u001b[0;36m__init__\u001b[0;34m(self, grid_path, grid_name, electrode_grouping, rf_electrodes, order, f_cons, custom_fit, m, rf_omega, v_rf, scale, fit_ranges, rf_axis, verbose)\u001b[0m\n\u001b[1;32m    293\u001b[0m         self.unit_potentials, self.spaces = import_unit_potentials(\n\u001b[1;32m    294\u001b[0m             \u001b[0mgrid_path\u001b[0m\u001b[0;34m,\u001b[0m \u001b[0mgrid_name\u001b[0m\u001b[0;34m,\u001b[0m \u001b[0mself\u001b[0m\u001b[0;34m.\u001b[0m\u001b[0mrf_electrodes\u001b[0m\u001b[0;34m,\u001b[0m \u001b[0mself\u001b[0m\u001b[0;34m.\u001b[0m\u001b[0mv_rf\u001b[0m\u001b[0;34m,\u001b[0m \u001b[0mself\u001b[0m\u001b[0;34m.\u001b[0m\u001b[0mm\u001b[0m\u001b[0;34m,\u001b[0m\u001b[0;34m\u001b[0m\u001b[0;34m\u001b[0m\u001b[0m\n\u001b[0;32m--> 295\u001b[0;31m             self.rf_omega, self.scale, verbose=verbose)\n\u001b[0m\u001b[1;32m    296\u001b[0m         \u001b[0mself\u001b[0m\u001b[0;34m.\u001b[0m\u001b[0mxs\u001b[0m\u001b[0;34m,\u001b[0m \u001b[0mself\u001b[0m\u001b[0;34m.\u001b[0m\u001b[0mys\u001b[0m\u001b[0;34m,\u001b[0m \u001b[0mself\u001b[0m\u001b[0;34m.\u001b[0m\u001b[0mzs\u001b[0m \u001b[0;34m=\u001b[0m \u001b[0mself\u001b[0m\u001b[0;34m.\u001b[0m\u001b[0mspaces\u001b[0m\u001b[0;34m\u001b[0m\u001b[0;34m\u001b[0m\u001b[0m\n\u001b[1;32m    297\u001b[0m \u001b[0;34m\u001b[0m\u001b[0m\n",
      "\u001b[0;32m~/Desktop/School/MIT/UROP/SuperUROP/ITVG/VoltageGeneration.py\u001b[0m in \u001b[0;36mimport_unit_potentials\u001b[0;34m(path, name, rf_electrodes, v_rf, mass, rf_omega, scale, verbose)\u001b[0m\n\u001b[1;32m    159\u001b[0m         \u001b[0;32mwith\u001b[0m \u001b[0mopen\u001b[0m\u001b[0;34m(\u001b[0m\u001b[0mfull_path\u001b[0m\u001b[0;34m,\u001b[0m \u001b[0;34m'r'\u001b[0m\u001b[0;34m)\u001b[0m \u001b[0;32mas\u001b[0m \u001b[0mf\u001b[0m\u001b[0;34m:\u001b[0m\u001b[0;34m\u001b[0m\u001b[0;34m\u001b[0m\u001b[0m\n\u001b[1;32m    160\u001b[0m             \u001b[0mcsv_data\u001b[0m \u001b[0;34m=\u001b[0m \u001b[0mcsv\u001b[0m\u001b[0;34m.\u001b[0m\u001b[0mreader\u001b[0m\u001b[0;34m(\u001b[0m\u001b[0mf\u001b[0m\u001b[0;34m,\u001b[0m \u001b[0mdelimiter\u001b[0m\u001b[0;34m=\u001b[0m\u001b[0;34m'\\t'\u001b[0m\u001b[0;34m)\u001b[0m\u001b[0;34m\u001b[0m\u001b[0;34m\u001b[0m\u001b[0m\n\u001b[0;32m--> 161\u001b[0;31m             \u001b[0mgrid_file_data\u001b[0m \u001b[0;34m=\u001b[0m \u001b[0mnp\u001b[0m\u001b[0;34m.\u001b[0m\u001b[0marray\u001b[0m\u001b[0;34m(\u001b[0m\u001b[0mlist\u001b[0m\u001b[0;34m(\u001b[0m\u001b[0mcsv_data\u001b[0m\u001b[0;34m)\u001b[0m\u001b[0;34m,\u001b[0m \u001b[0mdtype\u001b[0m\u001b[0;34m=\u001b[0m\u001b[0mnp\u001b[0m\u001b[0;34m.\u001b[0m\u001b[0mfloat32\u001b[0m\u001b[0;34m)\u001b[0m\u001b[0;34m\u001b[0m\u001b[0;34m\u001b[0m\u001b[0m\n\u001b[0m\u001b[1;32m    162\u001b[0m             \u001b[0mpotential_arr\u001b[0m \u001b[0;34m=\u001b[0m \u001b[0mnp\u001b[0m\u001b[0;34m.\u001b[0m\u001b[0mzeros\u001b[0m\u001b[0;34m(\u001b[0m\u001b[0;34m(\u001b[0m\u001b[0;36m0\u001b[0m\u001b[0;34m,\u001b[0m \u001b[0;36m4\u001b[0m\u001b[0;34m)\u001b[0m\u001b[0;34m)\u001b[0m  \u001b[0;31m# x, y, z, (pseudo)potential\u001b[0m\u001b[0;34m\u001b[0m\u001b[0;34m\u001b[0m\u001b[0m\n\u001b[1;32m    163\u001b[0m \u001b[0;34m\u001b[0m\u001b[0m\n",
      "\u001b[0;32m~/anaconda3/lib/python3.7/codecs.py\u001b[0m in \u001b[0;36mdecode\u001b[0;34m(self, input, final)\u001b[0m\n\u001b[1;32m    317\u001b[0m         \u001b[0;32mraise\u001b[0m \u001b[0mNotImplementedError\u001b[0m\u001b[0;34m\u001b[0m\u001b[0;34m\u001b[0m\u001b[0m\n\u001b[1;32m    318\u001b[0m \u001b[0;34m\u001b[0m\u001b[0m\n\u001b[0;32m--> 319\u001b[0;31m     \u001b[0;32mdef\u001b[0m \u001b[0mdecode\u001b[0m\u001b[0;34m(\u001b[0m\u001b[0mself\u001b[0m\u001b[0;34m,\u001b[0m \u001b[0minput\u001b[0m\u001b[0;34m,\u001b[0m \u001b[0mfinal\u001b[0m\u001b[0;34m=\u001b[0m\u001b[0;32mFalse\u001b[0m\u001b[0;34m)\u001b[0m\u001b[0;34m:\u001b[0m\u001b[0;34m\u001b[0m\u001b[0;34m\u001b[0m\u001b[0m\n\u001b[0m\u001b[1;32m    320\u001b[0m         \u001b[0;31m# decode input (taking the buffer into account)\u001b[0m\u001b[0;34m\u001b[0m\u001b[0;34m\u001b[0m\u001b[0;34m\u001b[0m\u001b[0m\n\u001b[1;32m    321\u001b[0m         \u001b[0mdata\u001b[0m \u001b[0;34m=\u001b[0m \u001b[0mself\u001b[0m\u001b[0;34m.\u001b[0m\u001b[0mbuffer\u001b[0m \u001b[0;34m+\u001b[0m \u001b[0minput\u001b[0m\u001b[0;34m\u001b[0m\u001b[0;34m\u001b[0m\u001b[0m\n",
      "\u001b[0;31mKeyboardInterrupt\u001b[0m: "
     ]
    }
   ],
   "source": [
    "#COMSOL grid files\n",
    "# path = r'C:\\Users\\Ions\\Documents\\COMSOL\\CenterSegmentation\\ParsedGridFiles'\n",
    "# name = \"MaxBeta_Production_Potential\"\n",
    "# path = \"N:\\\\Programs\\\\Ions Share\\\\TrapFiles\\\\LL Standard Traps\\\\GridFiles\\\\\"\n",
    "# name = \"AngleTrap_Skinny_Subsample_Full_Potential\"\n",
    "# path = \"N:\\\\Programs\\\\Ions Share\\\\TrapFiles\\\\MZTWINWAC\\\\GridFiles\\\\\"\n",
    "# name = \"MZTWINWAC_Potential\"\n",
    "path = '/Users/lukeqi/Desktop/School/MIT/UROP/SuperUROP/GridFiles'\n",
    "name = 'MaxBeta_Production_Potential'\n",
    "\n",
    "\n",
    "# electrode_grouping = [[x] for x in artiq_electrode_ordering]\n",
    "electrode_grouping = [[i+1] for i in range(len(electrode_ordering))]\n",
    "d_cons = [('x',0), ('y',0), ('z',0)]\n",
    "\n",
    "start_time = time.time()\n",
    "\n",
    "vg_comsol = VoltageGeneration.VoltageGeneration(\n",
    "    path,\n",
    "    name,\n",
    "    electrode_grouping,\n",
    "    rf_electrodes=[23],\n",
    "    m=m,\n",
    "    rf_omega=2.*np.pi*45.247E6,\n",
    "    order=2,\n",
    "    f_cons=d_cons,\n",
    "    v_rf=[67.2]\n",
    "    #v_rf=[50.0]\n",
    ")\n",
    "\n",
    "print(\"Imported grid files in {}\".format(time.time() - start_time))"
   ]
  },
  {
   "cell_type": "code",
   "execution_count": 64,
   "metadata": {},
   "outputs": [
    {
     "name": "stdout",
     "output_type": "stream",
     "text": [
      "target alpha = 2.59E+07\n",
      "Optimization failed after 10001 iterations.\n",
      "Target, Realized Coeffs:\n",
      " [[ 0.00000000e+00 -2.81819872e-09]\n",
      " [ 0.00000000e+00 -1.73471215e-09]\n",
      " [ 0.00000000e+00 -7.02365633e-09]\n",
      " [-8.39918373e-05 -8.39750600e-05]\n",
      " [ 0.00000000e+00  9.26548071e-09]\n",
      " [ 1.12853619e-04  1.12850480e-04]\n",
      " [ 2.59191337e-05  2.59656090e-05]\n",
      " [ 0.00000000e+00  8.30441588e-09]\n",
      " [ 5.80727036e-05  5.80753553e-05]]\n",
      "Final cost value:  1.278557586332738e-06 \n",
      "\n",
      "[[[1], 6.101857280225361], [[2], 5.409755646489312], [[3], 3.3352612073577905], [[4], -17.232885746056308], [[5], 4.161208621508281], [[6], 7.560055365341227], [[7], 4.287166837753997], [[8], 2.462594588950339], [[9], 5.4077897648453215], [[10], -1.00567705949358], [[11], 1.3733284060444544], [[12], 5.1909736112422555], [[13], 2.340267836955552], [[14], 4.005047883046038], [[15], 6.861644303542932], [[16], 2.115468548613537], [[17], -20.917423786114945], [[18], 1.2520817820367998], [[19], 4.708456089364284], [[20], 5.456013138712128]]\n",
      "coeffs with the RF: [ 2.15846949e-09 -5.66460882e-07 -6.03776672e-04  1.20462104e-04\n",
      "  5.22385076e-09  1.12911689e-04  2.61968964e-05  1.72296775e-06\n",
      "  3.16022196e-04 -1.34383607e-02]\n",
      "Hessian:\n",
      "[[1.20462104e-04 2.61192538e-09 5.64558444e-05]\n",
      " [2.61192538e-09 2.61968964e-05 8.61483876e-07]\n",
      " [5.64558444e-05 8.61483876e-07 3.16022196e-04]]\n",
      "Frequencies in Hz: [1206346.26224782 2419117.82479021 4289285.22304007]\n",
      "Corresponding axes (as row vectors):\n",
      " [[-0.00198383 -0.99999239  0.0033588 ]\n",
      " [ 0.96592225 -0.00278557 -0.25881741]\n",
      " [-0.2588248  -0.00273089 -0.96592042]]\n",
      "Tilt of each eigenvector relative to +x in x-z plane:\n",
      " [-59.43233421 -14.99996259  74.99960155]\n"
     ]
    }
   ],
   "source": [
    "voltage_gen = vg_comsol\n",
    "\n",
    "sec_freq = 1200*kHz\n",
    "omega = 2 * np.pi * sec_freq\n",
    "\n",
    "# trap_center = [0.0, -120.0, 50.0]\n",
    "trap_center = [0.0, -120.0, 51.7]\n",
    "R = [trap_center]\n",
    "\n",
    "tilt_angle_deg = 15 #in degrees\n",
    "tilt_angle = np.radians(tilt_angle_deg)\n",
    "\n",
    "yycons = 0.5 * m * omega**2 * (1e-6)**2 / elem_charge\n",
    "[xxt, xzt, zzt] =  tiltWithPseudo(voltage_gen, R, tilt_angle, yycons, voltage_gen.rf_electrodes, debug=False)\n",
    "cons = [('xx', xxt), ('yy', yycons), ('zz', zzt), ('xz', xzt), ('yz', 0), ('xy', 0)]\n",
    "\n",
    "# cons += [('x', 0.0), ('y', 0.0), ('z', -96.0 * -1e-4)]\n",
    "[('x', 0.0), ('y', 0.0), ('z', 0.0 * -1e-4)]\n",
    "\n",
    "print(\"target alpha = %.2E\"%(yycons/(1e-6)**2))\n",
    "\n",
    "# constrained_voltages = [(0, 0.0), (1, 0.0), (2, 0.0), (3, 0.0), (4, 0.0),\n",
    "#                         (5, 0.0), (6, 0.0), (7, 0.0), (8, 0.0), (9, 0.0),\n",
    "#                         (21, 0.0), (22, 0.0), (23, 0.0), (24, 0.0),\n",
    "#                         (25, 0.0), (26, 0.0), (27, 0.0), (28, 0.0), (29, 0.0),\n",
    "#                         (30, 0.0), (31, 0.0),\n",
    "#                        ]\n",
    "constrained_voltages = []\n",
    "\n",
    "nom_voltages = voltage_gen.findControlVoltages(\n",
    "    R,\n",
    "    cons=[cons],\n",
    "    tol=1e-13,\n",
    "    fixed_voltages=constrained_voltages,\n",
    "    bnds =(-39.9, 39.9),\n",
    "    epss=1e-6,\n",
    ")\n",
    "\n",
    "el_config = []\n",
    "for [num, voltage] in voltage_gen.ungroup_configuration(nom_voltages):\n",
    "    el_config.append([[num], voltage])\n",
    "\n",
    "print(el_config)\n",
    "\n",
    "_ = voltage_gen.compute_total_potential_axes(R, el_config, printing=True)"
   ]
  },
  {
   "cell_type": "markdown",
   "metadata": {},
   "source": [
    "Export voltage set to a simple npy file"
   ]
  },
  {
   "cell_type": "code",
   "execution_count": 65,
   "metadata": {},
   "outputs": [
    {
     "name": "stdout",
     "output_type": "stream",
     "text": [
      "S6 1.5254643200563403\n",
      "S7 1.352438911622328\n",
      "S8 0.8338153018394476\n",
      "S9 -4.308221436514077\n",
      "S10 1.0403021553770702\n",
      "S11 1.8900138413353067\n",
      "S12 1.0717917094384992\n",
      "S13 0.6156486472375847\n",
      "S14 1.3519474412113304\n",
      "S24 -0.251419264873395\n",
      "S25 0.3433321015111136\n",
      "N6 1.2977434028105639\n",
      "N7 0.585066959238888\n",
      "N8 1.0012619707615096\n",
      "N9 1.715411075885733\n",
      "N10 0.5288671371533843\n",
      "N11 -5.229355946528736\n",
      "N12 0.31302044550919994\n",
      "N13 1.177114022341071\n",
      "N14 1.364003284678032\n"
     ]
    }
   ],
   "source": [
    "voltage_set_to_export = nom_voltages\n",
    "file_path = r'N:\\Individual Folders\\Stuart\\xfer'\n",
    "file_name = os.path.join(file_path, \"NominalVolts_20200527_NOHOLENITO_1p60_0um.npy\")\n",
    "\n",
    "# print(file_name)\n",
    "\n",
    "el_config = []\n",
    "for [num, voltage] in voltage_gen.ungroup_configuration(nom_voltages):\n",
    "    el_config.append([[num], voltage])\n",
    "    \n",
    "# print(el_config)\n",
    "\n",
    "voltages_dict = {electrode_ordering[num-1]: v/4.0 for [[num], v] in el_config}\n",
    "\n",
    "# print(voltages_dict)\n",
    "\n",
    "for electrode in electrode_ordering:\n",
    "    print(electrode, voltages_dict[electrode])\n",
    "\n",
    "# np.save(file_name, voltages_dict)"
   ]
  },
  {
   "cell_type": "markdown",
   "metadata": {},
   "source": [
    "Load simple npy file and print fit results"
   ]
  },
  {
   "cell_type": "code",
   "execution_count": 111,
   "metadata": {},
   "outputs": [
    {
     "name": "stdout",
     "output_type": "stream",
     "text": [
      "[1.2766968394577807, 0.7850216607830579, 1.6249859372732356, 1.102789878280131, -4.405680527119563, 1.1103292907863085, 1.6253085726907313, 0.7823467501589556, 1.178181754741407, -0.12790327350682212, 0.3148507655064507, 1.2245065272693634, 0.7335935526612137, 1.496330963524113, 0.7164594146895802, -5.088154471155908, 0.7264475487701444, 1.4977732613836587, 0.7329026355064064, 1.1224808079433342]\n",
      "[[[1], 1.2766968394577807], [[2], 0.7850216607830579], [[3], 1.6249859372732356], [[4], 1.102789878280131], [[5], -4.405680527119563], [[6], 1.1103292907863085], [[7], 1.6253085726907313], [[8], 0.7823467501589556], [[9], 1.178181754741407], [[10], -0.12790327350682212], [[11], 0.3148507655064507], [[12], 1.2245065272693634], [[13], 0.7335935526612137], [[14], 1.496330963524113], [[15], 0.7164594146895802], [[16], -5.088154471155908], [[17], 0.7264475487701444], [[18], 1.4977732613836587], [[19], 0.7329026355064064], [[20], 1.1224808079433342]]\n",
      "coeffs with the RF: [ 5.47053378e-08  2.04947854e-08 -7.72807229e-05  2.55387589e-04\n",
      " -4.16059989e-10  2.03484008e-05  6.46601068e-06  4.57651109e-08\n",
      "  2.90649066e-04  1.66154354e-02]\n",
      "Frequencies in Hz: [ 599361.92728667 3746635.55974118 4037215.097541  ]\n",
      "Tilt of each eigenvector relative to +x in x-z plane:\n",
      " [-87.06712306 -14.99401311  75.00598678]\n"
     ]
    },
    {
     "data": {
      "text/plain": [
       "(array([[ 2.55387589e-04, -2.08029995e-10,  1.01742004e-05],\n",
       "        [-2.08029995e-10,  6.46601068e-06,  2.28825554e-08],\n",
       "        [ 1.01742004e-05,  2.28825554e-08,  2.90649066e-04]]),\n",
       " array([ 599361.92728667, 3746635.55974118, 4037215.097541  ]),\n",
       " array([[ 4.13289551e-06,  9.99999997e-01, -8.06684412e-05],\n",
       "        [ 9.65952865e-01, -2.48625692e-05, -2.58718113e-01],\n",
       "        [ 2.58718114e-01,  7.68526569e-05,  9.65952862e-01]]))"
      ]
     },
     "execution_count": 111,
     "metadata": {},
     "output_type": "execute_result"
    }
   ],
   "source": [
    "#myvolts = np.load('N:\\\\Individual Folders\\\\Stuart\\\\xfer\\\\NominalVolts_20200310_MZTWINWAC_1p20_0um.npy').item()\n",
    "myvolts = np.load('N:\\\\Individual Folders\\\\Stuart\\\\xfer\\\\NominalVolts_20200527_NOHOLENITO_0p60_0um.npy').item()\n",
    "\n",
    "voltages = []\n",
    "for electrode_name in _electrode_ordering:\n",
    "    voltages.append(myvolts[electrode_name])\n",
    "\n",
    "print(voltages)\n",
    "    \n",
    "el_config = []\n",
    "for index, voltage in enumerate(voltages):\n",
    "    el_config.append([[index+1], voltage])\n",
    "\n",
    "print(el_config)\n",
    "    \n",
    "expansion_point = [[0., 0.0, 50.]]\n",
    "\n",
    "#vg.compute_total_potential_axes(expansion_point, el_config, printing=True)\n",
    "voltage_gen.compute_total_potential_axes(expansion_point, el_config, printing=True)"
   ]
  },
  {
   "cell_type": "markdown",
   "metadata": {},
   "source": [
    "Simplified version of nominal and shim exports"
   ]
  },
  {
   "cell_type": "code",
   "execution_count": 76,
   "metadata": {},
   "outputs": [],
   "source": [
    "output_path = 'C:\\\\Users\\\\Ions\\\\Documents\\\\ARTIQ\\\\Voltages\\\\'\n",
    "filename_spec = '20201119_MAXBETA_1p80_540um'\n",
    "axial_freq = 1800*kHz\n",
    "tilt = 15\n",
    "trap_pos = [0, 540.0, 50]\n",
    "constrained_voltages = [(0, 0.0), (1, 0.0), (2, 0.0), (3, 0.0), (4, 0.0),\n",
    "                        (5, 0.0), (6, 0.0), (7, 0.0), (8, 0.0), (9, 0.0),\n",
    "                        (21, 0.0), (22, 0.0), (23, 0.0), (24, 0.0),\n",
    "                        (25, 0.0), (26, 0.0), (27, 0.0), (28, 0.0), (29, 0.0),\n",
    "                        (30, 0.0), (31, 0.0),\n",
    "                       ]\n",
    "\n",
    "electrode_ordering = [\n",
    "    \"S1\", \"S2\", \"S3\", \"S4\", \"S8\", \"S9\", \"S10\", \"S11\", \"S12\",\n",
    "    \"S13\", \"S14\", \"S19\", \"S20\", \"S21\",\n",
    "    \"S22\", \"S23\", \"S24\", \"S25\",\n",
    "    \"N1\", \"N2\", \"N3\", \"N4\", \"N8\", \"N9\", \"N10\", \"N11\", \"N12\",\n",
    "    \"N13\", \"N14\", \"N19\", \"N20\", \"N21\",\n",
    "]\n",
    "\n",
    "###\n",
    "\n",
    "omega = 2 * np.pi * axial_freq\n",
    "convexity = 1 if axial_freq > 0 else -1  # allow anti-confining potentials\n",
    "tilt_angle = np.radians(tilt)\n",
    "R = [trap_pos]\n",
    "\n",
    "yycons = 0.5 * m * convexity * omega**2 * (1e-6)**2 / elem_charge\n",
    "[xxt, xzt, zzt] =  tiltWithPseudo(voltage_gen, R, tilt_angle, yycons, voltage_gen.rf_electrodes, debug=False)\n",
    "cons = [('xx', xxt), ('yy', yycons), ('zz', zzt), ('xz', xzt), ('yz', 0), ('xy', 0)]\n",
    "\n",
    "t = time.time()\n",
    "nom_voltages = voltage_gen.findControlVoltages(\n",
    "    R,\n",
    "    cons=[cons],\n",
    "    tol=1e-14,\n",
    "    fixed_voltages=constrained_voltages,\n",
    "    bnds=(-9.9, 9.9),\n",
    ")\n",
    "\n",
    "shift_voltages = []\n",
    "for ind, direction in enumerate(['x', 'y', 'z']):\n",
    "    # Add a small field in the particular direction by adding a linear constraint\n",
    "    R = [trap_pos]\n",
    "    if direction == 'y':\n",
    "        newcons = cons + [(direction, -1e-4)] #Sign convention is done to be consistent with a positive displacement\n",
    "    else: # Try fitting with a larger shift and dividing down\n",
    "        newcons = cons + [(direction, -1e-3)] #Sign convention is done to be consistent with a positive displacement\n",
    "\n",
    "    # get the voltages needed for a shift by subtracting the nominal voltages\n",
    "    shift_voltage_set = voltage_gen.findControlVoltages(\n",
    "        R,\n",
    "        cons=[newcons],\n",
    "        tol=1e-14,\n",
    "        fixed_voltages=constrained_voltages,\n",
    "        bnds=(-9.9, 9.9),\n",
    "    )\n",
    "    shift_voltage_set -= nom_voltages\n",
    "    \n",
    "    if not direction == 'y':\n",
    "        shift_voltage_set /= 10.0\n",
    "    shift_voltages.append(shift_voltage_set)\n",
    "\n",
    "# Save to file\n",
    "\n",
    "nom_voltages_file_path = os.path.join(output_path, \"NominalVolts_{}.npy\".format(filename_spec))\n",
    "nom_voltages_dict = {electrode_ordering[num-1]: v for [num, v] in voltage_gen.ungroup_configuration(nom_voltages)}\n",
    "np.save(nom_voltages_file_path, nom_voltages_dict)\n",
    "\n",
    "for axis, shift_v in zip(['X', 'Y', 'Z'], shift_voltages):\n",
    "    shift_voltages_file_path = os.path.join(output_path, \"{}DeltaVolts_{}.npy\".format(axis, filename_spec))\n",
    "    shift_voltages_dict = {electrode_ordering[num-1]: v for [num, v] in voltage_gen.ungroup_configuration(shift_v)}\n",
    "    np.save(shift_voltages_file_path, shift_voltages_dict)\n",
    "    \n",
    "np.save(os.path.join(output_path, \"Shims_{}.npy\".format(filename_spec)), np.array([0., 0., 0.]))"
   ]
  },
  {
   "cell_type": "code",
   "execution_count": null,
   "metadata": {},
   "outputs": [],
   "source": []
  },
  {
   "cell_type": "code",
   "execution_count": null,
   "metadata": {},
   "outputs": [],
   "source": []
  },
  {
   "cell_type": "code",
   "execution_count": null,
   "metadata": {},
   "outputs": [],
   "source": []
  },
  {
   "cell_type": "code",
   "execution_count": null,
   "metadata": {},
   "outputs": [],
   "source": []
  },
  {
   "cell_type": "code",
   "execution_count": null,
   "metadata": {},
   "outputs": [],
   "source": []
  },
  {
   "cell_type": "code",
   "execution_count": null,
   "metadata": {},
   "outputs": [],
   "source": []
  },
  {
   "cell_type": "markdown",
   "metadata": {},
   "source": [
    "need to get rid of stuff below"
   ]
  },
  {
   "cell_type": "code",
   "execution_count": 41,
   "metadata": {},
   "outputs": [
    {
     "data": {
      "image/png": "[encoded data removed]",
      "text/plain": [
       "<Figure size 1080x432 with 2 Axes>"
      ]
     },
     "metadata": {
      "needs_background": "light"
     },
     "output_type": "display_data"
    }
   ],
   "source": [
    "#Plot the three cross sections of the given potential\n",
    "\n",
    "R = [[0.0, 559.5, 50.0]]\n",
    "input_voltages = nom_voltages\n",
    "voltage_gen = vg_comsol\n",
    "#voltage_gen = vg_bempy\n",
    "#voltage_gen = vg_biotsavart\n",
    "\n",
    "el_config = voltage_gen.ungroup_configuration(input_voltages)\n",
    "for el in voltage_gen.rf_electrodes:\n",
    "    el_config.append([el, 1])\n",
    "\n",
    "y_span_um = 50\n",
    "n_y_points = 100\n",
    "y_points = np.linspace(-y_span_um, y_span_um, n_y_points)\n",
    "y_test_points = np.array([np.zeros(n_y_points), y_points, np.zeros(n_y_points)]).T + R\n",
    "y_exact_potential = voltage_gen.compute_potential(y_test_points, el_config)\n",
    "\n",
    "pseudo_cross_section = []\n",
    "\n",
    "x_span_um = 10\n",
    "n_x_points = 50\n",
    "x_points = np.linspace(-x_span_um, x_span_um, n_x_points)\n",
    "\n",
    "z_span_um = 10\n",
    "n_z_points = 50\n",
    "z_points = np.linspace(-z_span_um, z_span_um, n_z_points)\n",
    "\n",
    "for z_point in z_points:\n",
    "    test_points = np.array([x_points, np.zeros(n_x_points), np.full(n_x_points, z_point)]).T + R\n",
    "    xz_exact_potential = voltage_gen.compute_potential(test_points, el_config)\n",
    "    pseudo_cross_section.append(xz_exact_potential)\n",
    "\n",
    "nice_fs = 12    #Nice font size\n",
    "nice_lw = 4     #Nice linewidth\n",
    "\n",
    "fig = plt.figure(figsize=(15,6))\n",
    "plt.subplots_adjust(wspace=0.5)\n",
    "\n",
    "ax_yslice = fig.add_subplot(1, 2, 1)\n",
    "ax_yslice.set_xlabel('Y position [um]', size=nice_fs*1.5)\n",
    "#ax_yslice.set_ylabel('Potenial [V]', size=nice_fs*1.5)\n",
    "ax_yslice.tick_params(axis='both', which='major', labelsize=nice_fs*0.7)\n",
    "\n",
    "ax_yslice.plot(y_points, y_exact_potential, '-', c=colors[1], label='DATA')\n",
    "ax_yslice.grid(True, which=\"both\")\n",
    "\n",
    "ax_xzslice = fig.add_subplot(1, 2, 2)\n",
    "\n",
    "ax_xzslice.set_xlabel('X position [um]', size=nice_fs*1.5)\n",
    "ax_xzslice.set_ylabel('Z position [um]', size=nice_fs*1.5)\n",
    "\n",
    "extent = [-x_span_um, x_span_um, -z_span_um, z_span_um]\n",
    "\n",
    "# Plot heatmap\n",
    "ax_xzslice.imshow(\n",
    "    pseudo_cross_section,\n",
    "    extent=extent,\n",
    "    #vmin = 0.0,\n",
    "    #vmax = 5.0,\n",
    "    aspect = 'auto', # Prevent the image from getting stretched out\n",
    "    interpolation = 'nearest', # ???\n",
    "    origin = 'lower', # Important to do this so that the first row goes on the bottom\n",
    "    cmap = 'viridis',\n",
    ")\n",
    "\n",
    "#plt.legend(prop={'size': 18})\n",
    "plt.show()"
   ]
  },
  {
   "cell_type": "code",
   "execution_count": 78,
   "metadata": {},
   "outputs": [],
   "source": [
    "output_path = 'C:\\\\Users\\\\Ions\\\\Documents\\\\ARTIQ\\\\Voltages\\\\'\n",
    "filename_spec = 'maxbeta_zeros_0um'\n",
    "\n",
    "\n",
    "###\n",
    "\n",
    "nom_voltages = np.zeros(len(_electrode_ordering))\n",
    "\n",
    "shift_voltages = []\n",
    "for ind, direction in enumerate(['x', 'y', 'z']):\n",
    "    shift_voltage_set = np.zeros(len(_electrode_ordering))\n",
    "    shift_voltages.append(shift_voltage_set)\n",
    "\n",
    "# Save to file\n",
    "\n",
    "nom_voltages_file_path = os.path.join(output_path, \"NominalVolts_{}.npy\".format(filename_spec))\n",
    "nom_voltages_dict = {electrode_ordering[num-1]: v for [num, v] in voltage_gen.ungroup_configuration(nom_voltages)}\n",
    "np.save(nom_voltages_file_path, nom_voltages_dict)\n",
    "\n",
    "for axis, shift_v in zip(['X', 'Y', 'Z'], shift_voltages):\n",
    "    shift_voltages_file_path = os.path.join(output_path, \"{}DeltaVolts_{}.npy\".format(axis, filename_spec))\n",
    "    shift_voltages_dict = {electrode_ordering[num-1]: v for [num, v] in voltage_gen.ungroup_configuration(shift_v)}\n",
    "    np.save(shift_voltages_file_path, shift_voltages_dict)\n",
    "    \n",
    "np.save(os.path.join(output_path, \"Shims_{}.npy\".format(filename_spec)), np.array([0., 0., 0.]))"
   ]
  },
  {
   "cell_type": "code",
   "execution_count": 77,
   "metadata": {},
   "outputs": [
    {
     "name": "stdout",
     "output_type": "stream",
     "text": [
      "[0. 0. 0. 0. 0. 0. 0. 0. 0. 0. 0. 0. 0. 0. 0. 0. 0. 0. 0. 0. 0.]\n"
     ]
    }
   ],
   "source": [
    "print(np.zeros(21))"
   ]
  },
  {
   "cell_type": "code",
   "execution_count": null,
   "metadata": {},
   "outputs": [],
   "source": []
  }
 ],
 "metadata": {
  "kernelspec": {
   "display_name": "Python 3",
   "language": "python",
   "name": "python3"
  },
  "language_info": {
   "codemirror_mode": {
    "name": "ipython",
    "version": 3
   },
   "file_extension": ".py",
   "mimetype": "text/x-python",
   "name": "python",
   "nbconvert_exporter": "python",
   "pygments_lexer": "ipython3",
   "version": "3.7.6"
  },
  "toc": {
   "base_numbering": 1,
   "nav_menu": {},
   "number_sections": true,
   "sideBar": true,
   "skip_h1_title": false,
   "title_cell": "Table of Contents",
   "title_sidebar": "Contents",
   "toc_cell": false,
   "toc_position": {},
   "toc_section_display": true,
   "toc_window_display": false
  }
 },
 "nbformat": 4,
 "nbformat_minor": 2
}
